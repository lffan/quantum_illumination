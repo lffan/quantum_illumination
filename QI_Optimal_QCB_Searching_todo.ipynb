{
 "cells": [
  {
   "cell_type": "code",
   "execution_count": 1,
   "metadata": {
    "collapsed": true
   },
   "outputs": [],
   "source": [
    "from qutip import *\n",
    "import numpy as np\n",
    "import matplotlib.pyplot as plt\n",
    "from QI import *"
   ]
  },
  {
   "cell_type": "code",
   "execution_count": 2,
   "metadata": {
    "collapsed": true
   },
   "outputs": [],
   "source": [
    "from scipy.special import comb, factorial\n",
    "## %matplotlib inline\n",
    "np.set_printoptions(threshold='nan', precision=6, suppress=True)"
   ]
  },
  {
   "cell_type": "code",
   "execution_count": 3,
   "metadata": {
    "collapsed": false
   },
   "outputs": [],
   "source": [
    "Nth = 0.1     # Average thermal photon numbers\n",
    "N = 10        # Truncated photon numbers, i.e., 0 ~ N-1\n",
    "eta = 0.01    # Transmissivity"
   ]
  },
  {
   "cell_type": "code",
   "execution_count": 4,
   "metadata": {
    "collapsed": true
   },
   "outputs": [],
   "source": [
    "def find_qcb_opt(num_divide, Ns, save_filename):\n",
    "#    lmd = np.sqrt(Ns/(1 + Ns))\n",
    "    s = np.arcsinh(np.sqrt(Ns))    # Squeezed parameter\n",
    "\n",
    "    # meshgrid\n",
    "    RA = np.linspace(0.0, 1.0, num_divide)\n",
    "    RB = np.linspace(0.0, 1.0, num_divide)\n",
    "    RA, RB = np.meshgrid(RA, RB)\n",
    "    qcb = []\n",
    "\n",
    "    cts = 0\n",
    "    total = num_divide**2\n",
    "\n",
    "    for ra, rb in zip(np.ravel(RA), np.ravel(RB)):\n",
    "        rt_list = (np.sqrt(1-ra**2), ra, np.sqrt(1-rb**2), rb)\n",
    "        rho_0 = RHO_0(PCS, N, s, Nth, rt_list)\n",
    "        rho_1 = RHO_1(PCS, N, s, Nth, eta, rt_list)\n",
    "        tr_sqrt = QCB(rho_0, rho_1, approx=True)\n",
    "        qcb_pcs.append(tr_sqrt)\n",
    "\n",
    "        cts += 1\n",
    "        print(\"%.2f\" % cts/total)\n",
    "\n",
    "    qcb_pcs = np.array(qcb_pcs)\n",
    "    qcb_pcs = qcb_pcs.reshape(RA.shape)\n",
    "    np.savez(save_filename, RA=RA, TB=TB, qcb_pcs=qcb_pcs)"
   ]
  },
  {
   "cell_type": "code",
   "execution_count": null,
   "metadata": {
    "collapsed": true
   },
   "outputs": [],
   "source": [
    "find_qcb_opt(11, 0.01, )"
   ]
  },
  {
   "cell_type": "code",
   "execution_count": 40,
   "metadata": {
    "collapsed": false
   },
   "outputs": [],
   "source": [
    "from mpl_toolkits.mplot3d import Axes3D\n",
    "from matplotlib import cm\n",
    "from matplotlib.ticker import LinearLocator, FormatStrFormatter\n",
    "\n",
    "data_qcb_opt = np.load('data_pcs_opt_1e-1.npz')\n",
    "fig = plt.figure()\n",
    "ax = fig.add_subplot(111, projection='3d')\n",
    "#RA = data_qcb_opt['RA']\n",
    "#TB = data_qcb_opt['TB']\n",
    "#qcb_pcs = data_qcb_opt['qcb_pcs']\n",
    "ax.plot_surface(RA, TB, qcb_pcs, \\\n",
    "                rstride=1, cstride=1, cmap=cm.coolwarm, \\\n",
    "                linewidth=0, antialiased=False)\n",
    "\n",
    "ax.set_xlabel('$r_a$')\n",
    "ax.set_ylabel('$t_b$')\n",
    "ax.set_zlabel('$QCB$')\n",
    "ax.set_title('$N_{th}=0.1$, $N_s=0.01$, $\\eta=0.01$')\n",
    "\n",
    "ax.zaxis.set_major_locator(LinearLocator(5))\n",
    "ax.zaxis.set_major_formatter(FormatStrFormatter('%.4f'))\n",
    "\n",
    "# fig.colorbar(qcb_pcs, shrink=0.5, aspect=5)\n",
    "plt.subplots_adjust(right = 0.9)\n",
    "plt.show()"
   ]
  },
  {
   "cell_type": "code",
   "execution_count": null,
   "metadata": {
    "collapsed": true
   },
   "outputs": [],
   "source": []
  }
 ],
 "metadata": {
  "anaconda-cloud": {},
  "kernelspec": {
   "display_name": "Python [default]",
   "language": "python",
   "name": "python2"
  },
  "language_info": {
   "codemirror_mode": {
    "name": "ipython",
    "version": 2
   },
   "file_extension": ".py",
   "mimetype": "text/x-python",
   "name": "python",
   "nbconvert_exporter": "python",
   "pygments_lexer": "ipython2",
   "version": "2.7.12"
  }
 },
 "nbformat": 4,
 "nbformat_minor": 0
}
