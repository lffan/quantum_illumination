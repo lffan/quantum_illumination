{
 "cells": [
  {
   "cell_type": "markdown",
   "metadata": {},
   "source": [
    "# Test 2. qutip ```norm()``` function"
   ]
  },
  {
   "cell_type": "markdown",
   "metadata": {},
   "source": [
    "The norm of a state $\\rho$ is defined as $\\| \\rho \\| \\equiv \\sqrt{\\rho^{\\dagger} \\rho}$"
   ]
  },
  {
   "cell_type": "code",
   "execution_count": 7,
   "metadata": {},
   "outputs": [],
   "source": [
    "import qutip as qu\n",
    "import numpy as np\n",
    "import matplotlib.pyplot as plt\n",
    "# from scipy.special import comb, factorial\n",
    "\n",
    "# from QI import *"
   ]
  },
  {
   "cell_type": "code",
   "execution_count": 2,
   "metadata": {
    "collapsed": true
   },
   "outputs": [],
   "source": [
    "state = coherent_dm(5,1)"
   ]
  },
  {
   "cell_type": "code",
   "execution_count": 3,
   "metadata": {},
   "outputs": [
    {
     "data": {
      "text/latex": [
       "Quantum object: dims = [[5], [5]], shape = [5, 5], type = oper, isherm = True\\begin{equation*}\\left(\\begin{array}{*{11}c}0.368 & 0.368 & 0.261 & 0.146 & 0.088\\\\0.368 & 0.368 & 0.261 & 0.146 & 0.088\\\\0.261 & 0.261 & 0.185 & 0.104 & 0.063\\\\0.146 & 0.146 & 0.104 & 0.058 & 0.035\\\\0.088 & 0.088 & 0.063 & 0.035 & 0.021\\\\\\end{array}\\right)\\end{equation*}"
      ],
      "text/plain": [
       "Quantum object: dims = [[5], [5]], shape = [5, 5], type = oper, isherm = True\n",
       "Qobj data =\n",
       "[[ 0.36791117  0.36774407  0.26105441  0.14620658  0.08826704]\n",
       " [ 0.36774407  0.36757705  0.26093584  0.14614018  0.08822695]\n",
       " [ 0.26105441  0.26093584  0.18523331  0.10374209  0.06263061]\n",
       " [ 0.14620658  0.14614018  0.10374209  0.05810197  0.035077  ]\n",
       " [ 0.08826704  0.08822695  0.06263061  0.035077    0.0211765 ]]"
      ]
     },
     "execution_count": 3,
     "metadata": {},
     "output_type": "execute_result"
    }
   ],
   "source": [
    "state"
   ]
  },
  {
   "cell_type": "code",
   "execution_count": 4,
   "metadata": {},
   "outputs": [
    {
     "data": {
      "text/plain": [
       "1.0"
      ]
     },
     "execution_count": 4,
     "metadata": {},
     "output_type": "execute_result"
    }
   ],
   "source": [
    "state.norm()"
   ]
  },
  {
   "cell_type": "code",
   "execution_count": 5,
   "metadata": {
    "collapsed": true
   },
   "outputs": [],
   "source": [
    "state_test = basis(2,0) + basis(2,1)"
   ]
  },
  {
   "cell_type": "code",
   "execution_count": 6,
   "metadata": {},
   "outputs": [
    {
     "data": {
      "text/latex": [
       "Quantum object: dims = [[2], [1]], shape = [2, 1], type = ket\\begin{equation*}\\left(\\begin{array}{*{11}c}1.0\\\\1.0\\\\\\end{array}\\right)\\end{equation*}"
      ],
      "text/plain": [
       "Quantum object: dims = [[2], [1]], shape = [2, 1], type = ket\n",
       "Qobj data =\n",
       "[[ 1.]\n",
       " [ 1.]]"
      ]
     },
     "execution_count": 6,
     "metadata": {},
     "output_type": "execute_result"
    }
   ],
   "source": [
    "state_test"
   ]
  },
  {
   "cell_type": "code",
   "execution_count": 7,
   "metadata": {},
   "outputs": [
    {
     "data": {
      "text/plain": [
       "1.4142135623730951"
      ]
     },
     "execution_count": 7,
     "metadata": {},
     "output_type": "execute_result"
    }
   ],
   "source": [
    "state_test.norm()"
   ]
  },
  {
   "cell_type": "markdown",
   "metadata": {},
   "source": [
    "# Test 3. Quitp `eigenstates()` function"
   ]
  },
  {
   "cell_type": "code",
   "execution_count": 1,
   "metadata": {
    "collapsed": true
   },
   "outputs": [],
   "source": [
    "from qutip import *\n",
    "import numpy as np\n",
    "import matplotlib.pyplot as plt\n",
    "# from scipy.special import comb, factorial\n",
    "\n",
    "from QI import *"
   ]
  },
  {
   "cell_type": "code",
   "execution_count": 2,
   "metadata": {
    "collapsed": true
   },
   "outputs": [],
   "source": [
    "Nth = 0.1     # Average thermal photon numbers\n",
    "N = 10        # Truncated photon numbers, i.e., 0 ~ N-1\n",
    "eta = 0.01    # Transmissivity\n",
    "\n",
    "Ns = 0.01     # Average photon number of the initial two-mode squeezed states\n",
    "lmd = np.sqrt(Ns/(1 + Ns))     # \n",
    "s = np.arcsinh(np.sqrt(Ns))    # Squeezed parameter"
   ]
  },
  {
   "cell_type": "code",
   "execution_count": 3,
   "metadata": {
    "collapsed": true
   },
   "outputs": [],
   "source": [
    "rho_0 = RHO_0(TMSS, N, lmd, Nth)\n",
    "rho_1 = RHO_1(TMSS, N, lmd, Nth, eta)"
   ]
  },
  {
   "cell_type": "code",
   "execution_count": 11,
   "metadata": {},
   "outputs": [
    {
     "data": {
      "text/plain": [
       "<100x100 sparse matrix of type '<type 'numpy.complex128'>'\n",
       "\twith 40 stored elements in Compressed Sparse Row format>"
      ]
     },
     "execution_count": 11,
     "metadata": {},
     "output_type": "execute_result"
    }
   ],
   "source": [
    "rho_0.data"
   ]
  },
  {
   "cell_type": "code",
   "execution_count": 12,
   "metadata": {},
   "outputs": [
    {
     "data": {
      "text/plain": [
       "<100x100 sparse matrix of type '<type 'numpy.complex128'>'\n",
       "\twith 226 stored elements in Compressed Sparse Row format>"
      ]
     },
     "execution_count": 12,
     "metadata": {},
     "output_type": "execute_result"
    }
   ],
   "source": [
    "rho_1.data"
   ]
  },
  {
   "cell_type": "code",
   "execution_count": 4,
   "metadata": {
    "collapsed": true
   },
   "outputs": [],
   "source": [
    "gamma = 0.5*rho_1 - 0.5*rho_0"
   ]
  },
  {
   "cell_type": "code",
   "execution_count": 6,
   "metadata": {
    "collapsed": true,
    "scrolled": false
   },
   "outputs": [],
   "source": [
    "eigval, eigvect = gamma.eigenstates(sparse=True, sort='high')"
   ]
  },
  {
   "cell_type": "code",
   "execution_count": 7,
   "metadata": {},
   "outputs": [
    {
     "data": {
      "text/plain": [
       "0.0094413487267620104"
      ]
     },
     "execution_count": 7,
     "metadata": {},
     "output_type": "execute_result"
    }
   ],
   "source": [
    "sum(abs(eigval))"
   ]
  },
  {
   "cell_type": "code",
   "execution_count": 8,
   "metadata": {},
   "outputs": [
    {
     "data": {
      "text/plain": [
       "0.0094413487267620087"
      ]
     },
     "execution_count": 8,
     "metadata": {},
     "output_type": "execute_result"
    }
   ],
   "source": [
    "gamma.norm()"
   ]
  },
  {
   "cell_type": "code",
   "execution_count": 9,
   "metadata": {},
   "outputs": [
    {
     "data": {
      "text/plain": [
       "0.49527932563661897"
      ]
     },
     "execution_count": 9,
     "metadata": {},
     "output_type": "execute_result"
    }
   ],
   "source": [
    "(1 - gamma.norm()) / 2.0"
   ]
  },
  {
   "cell_type": "code",
   "execution_count": 10,
   "metadata": {},
   "outputs": [
    {
     "data": {
      "text/plain": [
       "0.49527932563661897"
      ]
     },
     "execution_count": 10,
     "metadata": {},
     "output_type": "execute_result"
    }
   ],
   "source": [
    "Helstrom(0.5, rho_0, 0.5, rho_1)"
   ]
  },
  {
   "cell_type": "code",
   "execution_count": 13,
   "metadata": {},
   "outputs": [
    {
     "data": {
      "text/plain": [
       "0.49995710002428295"
      ]
     },
     "execution_count": 13,
     "metadata": {},
     "output_type": "execute_result"
    }
   ],
   "source": [
    "0.5 * QCB(rho_0, rho_1, approx=True)"
   ]
  },
  {
   "cell_type": "markdown",
   "metadata": {
    "collapsed": true
   },
   "source": [
    "# Test 4. Two Mode Mixing"
   ]
  },
  {
   "cell_type": "code",
   "execution_count": 8,
   "metadata": {
    "collapsed": true
   },
   "outputs": [],
   "source": [
    "def tm_mix(s, n_max):\n",
    "    \"\"\"\n",
    "    Two-mode mixing operator (Beam splitter)\n",
    "\n",
    "    Parameters\n",
    "    ----------\n",
    "    s: float (TODO: a complex number??)\n",
    "        The mixing parameter\n",
    "    n_max: positive interger\n",
    "        Photon numbers can be in [0, n_max - 1]\n",
    "\n",
    "    Return\n",
    "    ------\n",
    "        a new qubit.Qobj()\n",
    "    \"\"\"\n",
    "    a = qu.destroy(n_max)\n",
    "    tmm = s * qu.tensor(a.dag(), a) - np.conj(s) * qu.tensor(a, a.dag())\n",
    "    return tmm.expm()"
   ]
  },
  {
   "cell_type": "code",
   "execution_count": 9,
   "metadata": {
    "collapsed": true
   },
   "outputs": [],
   "source": [
    "def tm_sqz(s, n_max):\n",
    "    \"\"\"\n",
    "    Two mode mixing operator in the form of matrix with Fock basis\n",
    "\n",
    "    Parameters\n",
    "    ----------\n",
    "    s: float (TODO: a complex number??)\n",
    "        The squeezed parameter\n",
    "    n_max: positive integer\n",
    "        Photon numbers can be in [0, n_max - 1]\n",
    "\n",
    "    Return\n",
    "    ------\n",
    "        a new qubit.Qobj()\n",
    "    \"\"\"\n",
    "    a = qu.destroy(n_max)\n",
    "    tms = - np.conj(s) * qu.tensor(a, a) + s * qu.tensor(a.dag(), a.dag())\n",
    "    return tms.expm()"
   ]
  },
  {
   "cell_type": "markdown",
   "metadata": {},
   "source": [
    "### Two mode squeezing"
   ]
  },
  {
   "cell_type": "code",
   "execution_count": 65,
   "metadata": {},
   "outputs": [
    {
     "name": "stdout",
     "output_type": "stream",
     "text": [
      "\n",
      "Entropy of entanglement: 0.05610153599544214\n"
     ]
    }
   ],
   "source": [
    "n_max = 20\n",
    "lmd = np.sqrt(0.01/1.01)\n",
    "\n",
    "# Test two-mode squeezing\n",
    "s = np.arctanh(lmd)\n",
    "input2 = qu.ket2dm(qu.tensor(qu.basis(n_max, 0), qu.basis(n_max, 0)))\n",
    "tm_sqz_op = tm_sqz(s, n_max)\n",
    "output2 = tm_sqz_op * input2 * tm_sqz_op.dag()\n",
    "print(\"\\nEntropy of entanglement: {}\".format(qu.entropy_vn(output2.ptrace(1))))"
   ]
  },
  {
   "cell_type": "code",
   "execution_count": 66,
   "metadata": {},
   "outputs": [
    {
     "data": {
      "text/plain": [
       "1.0000000000102738"
      ]
     },
     "execution_count": 66,
     "metadata": {},
     "output_type": "execute_result"
    }
   ],
   "source": [
    "output2.norm()"
   ]
  },
  {
   "cell_type": "code",
   "execution_count": 67,
   "metadata": {},
   "outputs": [
    {
     "data": {
      "text/plain": [
       "0.99999999999905775"
      ]
     },
     "execution_count": 67,
     "metadata": {},
     "output_type": "execute_result"
    }
   ],
   "source": [
    "output2.ptrace(0).norm()"
   ]
  },
  {
   "cell_type": "code",
   "execution_count": 68,
   "metadata": {},
   "outputs": [
    {
     "data": {
      "text/plain": [
       "0.99999999999905775"
      ]
     },
     "execution_count": 68,
     "metadata": {},
     "output_type": "execute_result"
    }
   ],
   "source": [
    "output2.ptrace(1).norm()"
   ]
  },
  {
   "cell_type": "code",
   "execution_count": 69,
   "metadata": {},
   "outputs": [
    {
     "data": {
      "text/plain": [
       "0.009999999994338307"
      ]
     },
     "execution_count": 69,
     "metadata": {},
     "output_type": "execute_result"
    }
   ],
   "source": [
    "qu.expect(qu.num(n_max), output2.ptrace(0)) "
   ]
  },
  {
   "cell_type": "code",
   "execution_count": 70,
   "metadata": {},
   "outputs": [
    {
     "data": {
      "text/plain": [
       "0.009999999994338307"
      ]
     },
     "execution_count": 70,
     "metadata": {},
     "output_type": "execute_result"
    }
   ],
   "source": [
    "qu.expect(qu.num(n_max), output2.ptrace(1))"
   ]
  },
  {
   "cell_type": "markdown",
   "metadata": {},
   "source": [
    "### Two mode mixing"
   ]
  },
  {
   "cell_type": "code",
   "execution_count": 71,
   "metadata": {
    "collapsed": true
   },
   "outputs": [],
   "source": [
    "reflectance = 0.01\n",
    "nth = 1.0\n",
    "thermal_1 = qu.thermal_dm(n_max, nth / (1 - reflectance)).unit()\n",
    "rho_ab = output2.unit()\n",
    "rho_abc = qu.tensor(rho_ab, thermal_1)"
   ]
  },
  {
   "cell_type": "code",
   "execution_count": 72,
   "metadata": {
    "collapsed": true
   },
   "outputs": [],
   "source": [
    "xi = np.arccos(np.sqrt(reflectance))\n",
    "op = qu.tensor(qu.qeye(n_max), tm_mix(xi, n_max))\n",
    "rho_1 = op * rho_abc * op.dag()"
   ]
  },
  {
   "cell_type": "code",
   "execution_count": 73,
   "metadata": {},
   "outputs": [
    {
     "name": "stdout",
     "output_type": "stream",
     "text": [
      "0.009999999872344211 1.0000791136732745 0.02000081109909703\n"
     ]
    }
   ],
   "source": [
    "n0 = qu.expect(qu.num(n_max), rho_1.ptrace(0))\n",
    "n1 = qu.expect(qu.num(n_max), rho_1.ptrace(1))\n",
    "n2 = qu.expect(qu.num(n_max), rho_1.ptrace(2))\n",
    "print(n0, n1, n2)"
   ]
  },
  {
   "cell_type": "code",
   "execution_count": 74,
   "metadata": {
    "collapsed": true
   },
   "outputs": [],
   "source": [
    "xi = np.arcsin(np.sqrt(reflectance))\n",
    "op = qu.tensor(qu.qeye(n_max), tm_mix(xi, n_max))\n",
    "rho_1 = op * rho_abc * op.dag()"
   ]
  },
  {
   "cell_type": "code",
   "execution_count": 75,
   "metadata": {},
   "outputs": [
    {
     "name": "stdout",
     "output_type": "stream",
     "text": [
      "0.009999999871345118 0.020000801043208487 1.0000791237379052\n"
     ]
    }
   ],
   "source": [
    "n0 = qu.expect(qu.num(n_max), rho_1.ptrace(0))\n",
    "n1 = qu.expect(qu.num(n_max), rho_1.ptrace(1))\n",
    "n2 = qu.expect(qu.num(n_max), rho_1.ptrace(2))\n",
    "print(n0, n1, n2)"
   ]
  },
  {
   "cell_type": "code",
   "execution_count": null,
   "metadata": {
    "collapsed": true
   },
   "outputs": [],
   "source": []
  }
 ],
 "metadata": {
  "anaconda-cloud": {},
  "kernelspec": {
   "display_name": "Python 3",
   "language": "python",
   "name": "python3"
  },
  "language_info": {
   "codemirror_mode": {
    "name": "ipython",
    "version": 3
   },
   "file_extension": ".py",
   "mimetype": "text/x-python",
   "name": "python",
   "nbconvert_exporter": "python",
   "pygments_lexer": "ipython3",
   "version": "3.6.1"
  }
 },
 "nbformat": 4,
 "nbformat_minor": 1
}
