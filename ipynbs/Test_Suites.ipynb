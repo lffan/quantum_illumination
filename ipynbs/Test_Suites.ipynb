{
 "cells": [
  {
   "cell_type": "code",
   "execution_count": 5,
   "metadata": {},
   "outputs": [
    {
     "ename": "ValueError",
     "evalue": "attempted relative import beyond top-level package",
     "traceback": [
      "\u001b[0;31m---------------------------------------------------------------------------\u001b[0m",
      "\u001b[0;31mValueError\u001b[0m                                Traceback (most recent call last)",
      "\u001b[0;32m<ipython-input-5-1bc124ffb220>\u001b[0m in \u001b[0;36m<module>\u001b[0;34m()\u001b[0m\n\u001b[1;32m      1\u001b[0m \u001b[0;32mimport\u001b[0m \u001b[0mnumpy\u001b[0m \u001b[0;32mas\u001b[0m \u001b[0mnp\u001b[0m\u001b[0;34m\u001b[0m\u001b[0m\n\u001b[1;32m      2\u001b[0m \u001b[0;32mimport\u001b[0m \u001b[0mqutip\u001b[0m \u001b[0;32mas\u001b[0m \u001b[0mqu\u001b[0m\u001b[0;34m\u001b[0m\u001b[0m\n\u001b[0;32m----> 3\u001b[0;31m \u001b[0;32mfrom\u001b[0m \u001b[0;34m.\u001b[0m\u001b[0;34m.\u001b[0m \u001b[0;32mimport\u001b[0m \u001b[0mlaser2mode\u001b[0m\u001b[0;34m\u001b[0m\u001b[0m\n\u001b[0m\u001b[1;32m      4\u001b[0m \u001b[0;34m\u001b[0m\u001b[0m\n\u001b[1;32m      5\u001b[0m \u001b[0;31m# %reload_ext autoreload\u001b[0m\u001b[0;34m\u001b[0m\u001b[0;34m\u001b[0m\u001b[0m\n",
      "\u001b[0;31mValueError\u001b[0m: attempted relative import beyond top-level package"
     ],
     "output_type": "error"
    }
   ],
   "source": [
    "import numpy as np\n",
    "import qutip as qu\n",
    "from .. import laser2mode\n",
    "\n",
    "# %reload_ext autoreload\n",
    "# %autoreload 1\n",
    "# %aimport src.laser2mode"
   ]
  },
  {
   "cell_type": "code",
   "execution_count": 33,
   "metadata": {},
   "outputs": [
    {
     "data": {
      "text/latex": [
       "Quantum object: dims = [[4, 4], [1, 1]], shape = (16, 1), type = ket\\begin{equation*}\\left(\\begin{array}{*{11}c}1.0\\\\0.0\\\\0.0\\\\0.0\\\\0.0\\\\\\vdots\\\\0.0\\\\0.0\\\\0.0\\\\0.0\\\\0.001\\\\\\end{array}\\right)\\end{equation*}"
      ],
      "text/plain": [
       "Quantum object: dims = [[4, 4], [1, 1]], shape = (16, 1), type = ket\n",
       "Qobj data =\n",
       "[[ 1.   ]\n",
       " [ 0.   ]\n",
       " [ 0.   ]\n",
       " [ 0.   ]\n",
       " [ 0.   ]\n",
       " [ 0.1  ]\n",
       " [ 0.   ]\n",
       " [ 0.   ]\n",
       " [ 0.   ]\n",
       " [ 0.   ]\n",
       " [ 0.01 ]\n",
       " [ 0.   ]\n",
       " [ 0.   ]\n",
       " [ 0.   ]\n",
       " [ 0.   ]\n",
       " [ 0.001]]"
      ]
     },
     "metadata": {},
     "output_type": "display_data"
    }
   ],
   "source": [
    "l2m.TMSS(0.1, 4).state"
   ]
  },
  {
   "cell_type": "code",
   "execution_count": null,
   "metadata": {
    "collapsed": true
   },
   "outputs": [],
   "source": []
  },
  {
   "cell_type": "code",
   "execution_count": 70,
   "metadata": {},
   "outputs": [
    {
     "name": "stdout",
     "output_type": "stream",
     "text": [
      "lambda: 0.099504\n"
     ]
    }
   ],
   "source": [
    "# test creating two-modes lasers\n",
    "\n",
    "Ns = 0.01     # Average photon number of the initial two-mode squeezed states\n",
    "lmd = np.sqrt(Ns/(1 + Ns))\n",
    "n_max = 16\n",
    "print('lambda: {:f}'.format(lmd))"
   ]
  },
  {
   "cell_type": "code",
   "execution_count": 71,
   "metadata": {
    "collapsed": true
   },
   "outputs": [],
   "source": [
    "tmss = laser2.LaserTwoMode('TMSS', lmd, n_max)\n",
    "ps = laser2.LaserTwoMode('PS', lmd, n_max)\n",
    "pa = laser2.LaserTwoMode('PA', lmd, n_max)\n",
    "psa = laser2.LaserTwoMode('PSA', lmd, n_max)\n",
    "pas = laser2.LaserTwoMode('PAS', lmd, n_max)\n",
    "rt = [np.sqrt(0.84), 0.4, np.sqrt(0.84), 0.4]\n",
    "pcs = laser2.LaserTwoMode('PCS', lmd, n_max, rt)"
   ]
  },
  {
   "cell_type": "code",
   "execution_count": 78,
   "metadata": {},
   "outputs": [
    {
     "data": {
      "text/plain": [
       "(0.01,\n",
       " 0.03980392156862745,\n",
       " 1.0398039215686274,\n",
       " 0.15006435419221081,\n",
       " 1.1500643568165758,\n",
       " 0.875418926409868)"
      ]
     },
     "execution_count": 78,
     "metadata": {},
     "output_type": "execute_result"
    }
   ],
   "source": [
    "tmss.aver_n, ps.aver_n, pa.aver_n, \\\n",
    "psa.aver_n, pas.aver_n, pcs.aver_n"
   ]
  },
  {
   "cell_type": "code",
   "execution_count": 76,
   "metadata": {},
   "outputs": [
    {
     "data": {
      "text/plain": [
       "(0.05610153599544172,\n",
       " 0.16873233574389224,\n",
       " 0.16873233574389224,\n",
       " 0.43904867272137427,\n",
       " 0.43904867272137427,\n",
       " 0.6165035984674629)"
      ]
     },
     "execution_count": 76,
     "metadata": {},
     "output_type": "execute_result"
    }
   ],
   "source": [
    "tmss.vn_entropy(), ps.vn_entropy(), pa.vn_entropy(), \\\n",
    "psa.vn_entropy(), pas.vn_entropy(), pcs.vn_entropy()"
   ]
  },
  {
   "cell_type": "code",
   "execution_count": null,
   "metadata": {
    "collapsed": true
   },
   "outputs": [],
   "source": [
    "from src.laser2mode import TMSS\n",
    "\n",
    "state = TMSS(0.1, 10)"
   ]
  }
 ],
 "metadata": {
  "kernelspec": {
   "display_name": "Python 3",
   "language": "python",
   "name": "python3"
  },
  "language_info": {
   "codemirror_mode": {
    "name": "ipython",
    "version": 3
   },
   "file_extension": ".py",
   "mimetype": "text/x-python",
   "name": "python",
   "nbconvert_exporter": "python",
   "pygments_lexer": "ipython3",
   "version": "3.6.1"
  }
 },
 "nbformat": 4,
 "nbformat_minor": 2
}
