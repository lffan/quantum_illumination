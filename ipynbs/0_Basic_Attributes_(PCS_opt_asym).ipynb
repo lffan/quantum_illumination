{
 "cells": [
  {
   "cell_type": "markdown",
   "metadata": {},
   "source": [
    "## Quantum Illumination Experiment 0\n",
    "\n",
    "__Basic attributes of non-Gaussian states.__\n",
    "\n",
    "- Author: L. Fan\n",
    "- Created Date: 2017-09-19\n",
    "- The Second Latest Modified: 2017-11-19\n",
    "- The Latest Modified: 2018-02-01"
   ]
  },
  {
   "cell_type": "markdown",
   "metadata": {},
   "source": [
    "## States and Average Photon Numbers"
   ]
  },
  {
   "cell_type": "markdown",
   "metadata": {},
   "source": [
    "**Summary of Normalization Factors**\n",
    "\n",
    "$$\n",
    "\\begin{aligned}\n",
    "A &= \\sqrt{1-\\lambda^2} \\\\\n",
    "A_s = A_a &= \\left[ \\frac{(1 - \\lambda^2)^3}{1 + \\lambda^2} \\right]^\\frac{1}{2} \\\\\n",
    "A_{sa} = A_{as} &= \\left[ \\frac{\\left(1-\\lambda^2\\right)^5}{1 +11 \\lambda^2 +11 \\lambda^4 + \\lambda^6} \\right]^{\\frac{1}{2}} \\\\\n",
    "\\end{aligned}\n",
    "$$"
   ]
  },
  {
   "cell_type": "markdown",
   "metadata": {},
   "source": [
    "**Two-Mode Squeezed State**\n",
    "\n",
    "$$\n",
    "\\begin{aligned}\n",
    "\\left| \\psi \\right\\rangle\n",
    "&= \\exp \\left(\\xi a_0^{\\dagger}a_1^{\\dagger} - \\xi^* a_0 a_1 \\right)\n",
    "\\left|0 \\right\\rangle \\left|0 \\right\\rangle \\\\\n",
    "&= \\sqrt{1-\\lambda^2} \\sum_{n~=~0}^{\\infty} \\lambda^n\n",
    "\\left| n \\right\\rangle \\left| n \\right\\rangle\n",
    "\\end{aligned}\n",
    "$$\n",
    "\n",
    "If $\\xi$ is real, i.e. $\\xi = r e^{i\\theta}$, we have $\\lambda = \\tanh r$ with squeezing parameter r. Then the state can also be written as\n",
    "\n",
    "$$\n",
    "\\left| \\psi \\right\\rangle = \\frac{1}{\\cosh r} \\sum_{n~=~0}^{\\infty} (\\tanh r)^n \\left| n \\right\\rangle \\left| n \\right\\rangle\n",
    "$$\n",
    "\n",
    "The average photon number is given as\n",
    "\n",
    "$$\n",
    "\\langle N \\rangle = \\frac{\\lambda^2}{1 - \\lambda^2} = \\frac{\\tanh^2 r}{1 - \\tanh^2 r}\n",
    "$$\n",
    "\n",
    "Therefore we have\n",
    "\n",
    "$$\n",
    "\\lambda = \\sqrt{\\frac{N}{1+N}},~\\mathrm{and}~r = \\mathrm{arcsinh} \\sqrt{N}.\n",
    "$$\n",
    "\n",
    "The TMSS squeezed state can also be written as\n",
    "\n",
    "$$\n",
    "\\left| \\psi \\right\\rangle = \n",
    "\\sqrt{\\frac{1}{1+N}} \\sum_{n~=~0}^{\\infty} \\left( \\frac{N}{1+N} \\right)^\\frac{n}{2}\n",
    "\\left| n \\right\\rangle \\left| n \\right\\rangle\n",
    "$$"
   ]
  },
  {
   "cell_type": "markdown",
   "metadata": {},
   "source": [
    "The partial entropy of entanglement is given as\n",
    "\n",
    "$$\n",
    "\\begin{aligned}\n",
    "E\\big(\\left| \\psi \\right\\rangle\\big) &= - \\mathrm{Tr}[\\rho_0 \\log_2 \\rho_0] = - \\sum_{i} c_i^2 \\log_2 c_i^2 \\\\\n",
    "&= - \\sum_{n~=~0}^{\\infty} (1 - \\lambda^2) \\lambda^{2n} \\log_2 \\left[(1 - \\lambda^2) \\lambda^{2n} \\right] \\\\\n",
    "&= - \\log_2 \\left( 1- \\lambda^2 \\right) - \\frac{\\lambda^2}{1 - \\lambda^2} \\log_2 \\lambda^2 \\\\\n",
    "&= \\cosh^2 \\xi \\log_2 \\cosh^2 \\xi - \\sinh^2 \\xi \\log_2 \\sinh^2 \\xi\n",
    "\\end{aligned}\n",
    "$$"
   ]
  },
  {
   "cell_type": "markdown",
   "metadata": {},
   "source": [
    "**Photon Substracted States**\n",
    "\n",
    "$$\n",
    "\\left| \\psi_s \\right\\rangle = \n",
    "\\left[ \\frac{(1 - \\lambda^2)^3}{1 + \\lambda^2} \\right]^\\frac{1}{2}\n",
    "\\sum_{n~=~0}^{\\infty} \\lambda^n (n+1)\n",
    "\\left| n \\right\\rangle \\left| n \\right\\rangle\n",
    "$$\n",
    "\n",
    "$$\n",
    "\\langle N_s \\rangle = \\frac{2\\lambda^2 (2 + \\lambda^2)}{1 - \\lambda^4}\n",
    "$$"
   ]
  },
  {
   "cell_type": "markdown",
   "metadata": {},
   "source": [
    "The partial entropy of entanglement is given as\n",
    "\n",
    "$$\n",
    "\\begin{aligned}\n",
    "E_s &= - \\sum_{n~=~0}^{\\infty} A_a^2 (n+1)^2 \\lambda^{2n}\n",
    "\\log_2 \\left[ A_a^2 (n+1)^2 \\lambda^{2n} \\right] \\\\\n",
    "\\end{aligned}\n",
    "$$\n",
    "\n",
    "It seems hard to give an explicit analytical expression. Thus we have to find the numerical results."
   ]
  },
  {
   "cell_type": "markdown",
   "metadata": {},
   "source": [
    "**Photo Added States**\n",
    "\n",
    "$$\n",
    "\\left| \\psi_s \\right\\rangle = \n",
    "\\left[ \\frac{(1 - \\lambda^2)^3}{1 + \\lambda^2} \\right]^\\frac{1}{2}\n",
    "\\sum_{n~=~0}^{\\infty} \\lambda^n (n+1)\n",
    "\\left| n + 1 \\right\\rangle \\left| n + 1\\right\\rangle\n",
    "$$\n",
    "\n",
    "$$\n",
    "\\langle N_s \\rangle = \\frac{1 + 4\\lambda^2 + \\lambda^4}{1 - \\lambda^4}\n",
    "$$"
   ]
  },
  {
   "cell_type": "markdown",
   "metadata": {},
   "source": [
    "The partial entropy of entanglement id given as\n",
    "\n",
    "$$\n",
    "E_a = - \\sum_{n~=~0}^{\\infty} A_a^2 (n+1)^2 \\lambda^{2n}\n",
    "\\log_2 \\left[ A_a^2 (n+1)^2 \\lambda^{2n} \\right]\n",
    "$$\n",
    "\n",
    "So we see that the photon-substracted states and the photon-added states have exactly the same paritial entropy of entanglement.\n",
    "$$\n",
    "E_a = E_s\n",
    "$$"
   ]
  },
  {
   "cell_type": "markdown",
   "metadata": {},
   "source": [
    "**Photon Added then Substracted States**\n",
    "\n",
    "$$\n",
    "\\left| \\psi_{sa} \\right\\rangle = \n",
    "\\left[ \\frac{\\left(1-\\lambda^2\\right)^5}{1 +11 \\lambda^2 +11 \\lambda^4 + \\lambda^6} \\right]^{\\frac{1}{2}}\n",
    "\\sum_{n~=~0}^{\\infty} \\lambda^n (n+1)^2\n",
    "\\left| n \\right\\rangle \\left| n \\right\\rangle\n",
    "$$\n",
    "\n",
    "$$\n",
    "\\langle N_{sa} \\rangle = \\frac{2 \\lambda^2 \\left(8+33 \\lambda^2+18 \\lambda^4+\\lambda^6\\right)}{1+10 \\lambda^2-10 \\lambda^6-\\lambda^8}\n",
    "$$"
   ]
  },
  {
   "cell_type": "markdown",
   "metadata": {},
   "source": [
    "**Photon Sunstracted then Added States**\n",
    "\n",
    "$$\n",
    "\\left| \\psi_{as} \\right\\rangle =\n",
    "\\left[ \\frac{\\left(1-\\lambda^2\\right)^5}{1 +11 \\lambda^2 +11 \\lambda^4 + \\lambda^6} \\right]^{\\frac{1}{2}}\n",
    "\\sum_{n~=~0}^{\\infty} \\lambda^n (n+1)^2\n",
    "\\left| n+1 \\right\\rangle \\left| n+1 \\right\\rangle\n",
    "$$\n",
    "\n",
    "$$\n",
    "\\langle N_{as} \\rangle = \\frac{1 + 26\\lambda^2 + 66\\lambda^4 + 26\\lambda^6 + \\lambda^8}{1 + 10\\lambda^2 - 10\\lambda^6 - \\lambda^8}\n",
    "$$"
   ]
  },
  {
   "cell_type": "markdown",
   "metadata": {},
   "source": [
    "The above two states also have the same partial entropy of entanglement, as they have exactly the same Schimit coefficients."
   ]
  },
  {
   "cell_type": "markdown",
   "metadata": {},
   "source": [
    "Here is the analytical calculation results obtained by Mathematica.\n",
    "<img src='../ref/aver_photon_num.png'>"
   ]
  },
  {
   "cell_type": "markdown",
   "metadata": {},
   "source": [
    "**Summary of Average Photon Numbers**\n",
    "\n",
    "$$\n",
    "\\begin{aligned}\n",
    "\\langle N \\rangle &= \\frac{\\lambda^2}{1 - \\lambda^2} \\\\\n",
    "\\langle N_s \\rangle &= \\frac{2\\lambda^2 (2 + \\lambda^2)}{1 - \\lambda^4} \\\\\n",
    "\\langle N_a \\rangle &= \\frac{1 + 4\\lambda^2 + \\lambda^4}{1 - \\lambda^4} \\\\\n",
    "\\langle N_{sa} \\rangle &= \\frac{2 \\lambda^2 \\left(8+33 \\lambda^2+18 \\lambda^4+\\lambda^6\\right)}{1+10 \\lambda^2-10 \\lambda^6-\\lambda^8} \\\\\n",
    "\\langle N_{as} \\rangle &= \\frac{1 + 26\\lambda^2 + 66\\lambda^4 + 26\\lambda^6 + \\lambda^8}{1 + 10\\lambda^2 - 10\\lambda^6 - \\lambda^8}\n",
    "\\end{aligned}\n",
    "$$"
   ]
  },
  {
   "cell_type": "code",
   "execution_count": 1,
   "metadata": {
    "collapsed": true
   },
   "outputs": [],
   "source": [
    "import numpy as np\n",
    "import pandas as pd\n",
    "import matplotlib.pyplot as plt\n",
    "import seaborn as sns"
   ]
  },
  {
   "cell_type": "code",
   "execution_count": 2,
   "metadata": {
    "collapsed": true
   },
   "outputs": [],
   "source": [
    "# configuration\n",
    "# from IPython.display import set_matplotlib_formats\n",
    "# set_matplotlib_formats('pdf', 'png')\n",
    "# np.set_printoptions(threshold='nan', precision=6, suppress=True)\n",
    "plt.style.use(['seaborn-whitegrid', '14pt'])\n",
    "%matplotlib inline"
   ]
  },
  {
   "cell_type": "markdown",
   "metadata": {},
   "source": [
    "## Read datat"
   ]
  },
  {
   "cell_type": "code",
   "execution_count": 3,
   "metadata": {
    "collapsed": true
   },
   "outputs": [],
   "source": [
    "filename1 = 'expr_0_basic_pcs_asym_nmax_64_div_201_04-17.csv'\n",
    "df1 = pd.read_csv('../output/data/expr_0/' + filename1, comment='#')\n",
    "names = ('TMSS', 'PS', 'PA', 'PSA', 'PAS', 'PCS')"
   ]
  },
  {
   "cell_type": "code",
   "execution_count": 4,
   "metadata": {},
   "outputs": [
    {
     "data": {
      "text/html": [
       "<div>\n",
       "<style scoped>\n",
       "    .dataframe tbody tr th:only-of-type {\n",
       "        vertical-align: middle;\n",
       "    }\n",
       "\n",
       "    .dataframe tbody tr th {\n",
       "        vertical-align: top;\n",
       "    }\n",
       "\n",
       "    .dataframe thead th {\n",
       "        text-align: right;\n",
       "    }\n",
       "</style>\n",
       "<table border=\"1\" class=\"dataframe\">\n",
       "  <thead>\n",
       "    <tr style=\"text-align: right;\">\n",
       "      <th></th>\n",
       "      <th>nmax</th>\n",
       "      <th>State</th>\n",
       "      <th>sqz</th>\n",
       "      <th>lambda</th>\n",
       "      <th>Exact_N</th>\n",
       "      <th>Aver_N</th>\n",
       "      <th>VN_Entropy</th>\n",
       "      <th>A_aver_N</th>\n",
       "      <th>B_aver_N</th>\n",
       "      <th>ra</th>\n",
       "      <th>rb</th>\n",
       "    </tr>\n",
       "  </thead>\n",
       "  <tbody>\n",
       "    <tr>\n",
       "      <th>0</th>\n",
       "      <td>64</td>\n",
       "      <td>TMSS</td>\n",
       "      <td>0.001000</td>\n",
       "      <td>0.0010</td>\n",
       "      <td>0.000002</td>\n",
       "      <td>0.000002</td>\n",
       "      <td>0.000015</td>\n",
       "      <td>0.000001</td>\n",
       "      <td>0.000001</td>\n",
       "      <td>NaN</td>\n",
       "      <td>NaN</td>\n",
       "    </tr>\n",
       "    <tr>\n",
       "      <th>1</th>\n",
       "      <td>64</td>\n",
       "      <td>TMSS</td>\n",
       "      <td>0.005500</td>\n",
       "      <td>0.0055</td>\n",
       "      <td>0.000061</td>\n",
       "      <td>0.000061</td>\n",
       "      <td>0.000345</td>\n",
       "      <td>0.000030</td>\n",
       "      <td>0.000030</td>\n",
       "      <td>NaN</td>\n",
       "      <td>NaN</td>\n",
       "    </tr>\n",
       "    <tr>\n",
       "      <th>2</th>\n",
       "      <td>64</td>\n",
       "      <td>TMSS</td>\n",
       "      <td>0.010000</td>\n",
       "      <td>0.0100</td>\n",
       "      <td>0.000200</td>\n",
       "      <td>0.000200</td>\n",
       "      <td>0.001021</td>\n",
       "      <td>0.000100</td>\n",
       "      <td>0.000100</td>\n",
       "      <td>NaN</td>\n",
       "      <td>NaN</td>\n",
       "    </tr>\n",
       "    <tr>\n",
       "      <th>3</th>\n",
       "      <td>64</td>\n",
       "      <td>TMSS</td>\n",
       "      <td>0.014501</td>\n",
       "      <td>0.0145</td>\n",
       "      <td>0.000421</td>\n",
       "      <td>0.000421</td>\n",
       "      <td>0.001991</td>\n",
       "      <td>0.000210</td>\n",
       "      <td>0.000210</td>\n",
       "      <td>NaN</td>\n",
       "      <td>NaN</td>\n",
       "    </tr>\n",
       "    <tr>\n",
       "      <th>4</th>\n",
       "      <td>64</td>\n",
       "      <td>TMSS</td>\n",
       "      <td>0.019002</td>\n",
       "      <td>0.0190</td>\n",
       "      <td>0.000722</td>\n",
       "      <td>0.000722</td>\n",
       "      <td>0.003224</td>\n",
       "      <td>0.000361</td>\n",
       "      <td>0.000361</td>\n",
       "      <td>NaN</td>\n",
       "      <td>NaN</td>\n",
       "    </tr>\n",
       "  </tbody>\n",
       "</table>\n",
       "</div>"
      ],
      "text/plain": [
       "   nmax State       sqz  lambda   Exact_N    Aver_N  VN_Entropy  A_aver_N  \\\n",
       "0    64  TMSS  0.001000  0.0010  0.000002  0.000002    0.000015  0.000001   \n",
       "1    64  TMSS  0.005500  0.0055  0.000061  0.000061    0.000345  0.000030   \n",
       "2    64  TMSS  0.010000  0.0100  0.000200  0.000200    0.001021  0.000100   \n",
       "3    64  TMSS  0.014501  0.0145  0.000421  0.000421    0.001991  0.000210   \n",
       "4    64  TMSS  0.019002  0.0190  0.000722  0.000722    0.003224  0.000361   \n",
       "\n",
       "   B_aver_N  ra  rb  \n",
       "0  0.000001 NaN NaN  \n",
       "1  0.000030 NaN NaN  \n",
       "2  0.000100 NaN NaN  \n",
       "3  0.000210 NaN NaN  \n",
       "4  0.000361 NaN NaN  "
      ]
     },
     "execution_count": 4,
     "metadata": {},
     "output_type": "execute_result"
    }
   ],
   "source": [
    "df1.head()"
   ]
  },
  {
   "cell_type": "code",
   "execution_count": 5,
   "metadata": {},
   "outputs": [
    {
     "data": {
      "text/html": [
       "<div>\n",
       "<style scoped>\n",
       "    .dataframe tbody tr th:only-of-type {\n",
       "        vertical-align: middle;\n",
       "    }\n",
       "\n",
       "    .dataframe tbody tr th {\n",
       "        vertical-align: top;\n",
       "    }\n",
       "\n",
       "    .dataframe thead th {\n",
       "        text-align: right;\n",
       "    }\n",
       "</style>\n",
       "<table border=\"1\" class=\"dataframe\">\n",
       "  <thead>\n",
       "    <tr style=\"text-align: right;\">\n",
       "      <th></th>\n",
       "      <th>nmax</th>\n",
       "      <th>State</th>\n",
       "      <th>sqz</th>\n",
       "      <th>lambda</th>\n",
       "      <th>Exact_N</th>\n",
       "      <th>Aver_N</th>\n",
       "      <th>VN_Entropy</th>\n",
       "      <th>A_aver_N</th>\n",
       "      <th>B_aver_N</th>\n",
       "      <th>ra</th>\n",
       "      <th>rb</th>\n",
       "    </tr>\n",
       "  </thead>\n",
       "  <tbody>\n",
       "    <tr>\n",
       "      <th>1201</th>\n",
       "      <td>64</td>\n",
       "      <td>PCS</td>\n",
       "      <td>0.842252</td>\n",
       "      <td>0.6870</td>\n",
       "      <td>NaN</td>\n",
       "      <td>8.004245</td>\n",
       "      <td>2.121087</td>\n",
       "      <td>4.002122</td>\n",
       "      <td>4.002122</td>\n",
       "      <td>1.0</td>\n",
       "      <td>1.0</td>\n",
       "    </tr>\n",
       "    <tr>\n",
       "      <th>1202</th>\n",
       "      <td>64</td>\n",
       "      <td>PCS</td>\n",
       "      <td>0.848911</td>\n",
       "      <td>0.6905</td>\n",
       "      <td>NaN</td>\n",
       "      <td>8.113388</td>\n",
       "      <td>2.135201</td>\n",
       "      <td>4.056694</td>\n",
       "      <td>4.056694</td>\n",
       "      <td>1.0</td>\n",
       "      <td>1.0</td>\n",
       "    </tr>\n",
       "    <tr>\n",
       "      <th>1203</th>\n",
       "      <td>64</td>\n",
       "      <td>PCS</td>\n",
       "      <td>0.855631</td>\n",
       "      <td>0.6940</td>\n",
       "      <td>NaN</td>\n",
       "      <td>8.225019</td>\n",
       "      <td>2.149419</td>\n",
       "      <td>4.112509</td>\n",
       "      <td>4.112509</td>\n",
       "      <td>1.0</td>\n",
       "      <td>1.0</td>\n",
       "    </tr>\n",
       "    <tr>\n",
       "      <th>1204</th>\n",
       "      <td>64</td>\n",
       "      <td>PCS</td>\n",
       "      <td>0.862415</td>\n",
       "      <td>0.6975</td>\n",
       "      <td>NaN</td>\n",
       "      <td>8.339224</td>\n",
       "      <td>2.163745</td>\n",
       "      <td>4.169612</td>\n",
       "      <td>4.169612</td>\n",
       "      <td>1.0</td>\n",
       "      <td>1.0</td>\n",
       "    </tr>\n",
       "    <tr>\n",
       "      <th>1205</th>\n",
       "      <td>64</td>\n",
       "      <td>PCS</td>\n",
       "      <td>0.869264</td>\n",
       "      <td>0.7010</td>\n",
       "      <td>NaN</td>\n",
       "      <td>8.456092</td>\n",
       "      <td>2.178183</td>\n",
       "      <td>4.228046</td>\n",
       "      <td>4.228046</td>\n",
       "      <td>1.0</td>\n",
       "      <td>1.0</td>\n",
       "    </tr>\n",
       "  </tbody>\n",
       "</table>\n",
       "</div>"
      ],
      "text/plain": [
       "      nmax State       sqz  lambda  Exact_N    Aver_N  VN_Entropy  A_aver_N  \\\n",
       "1201    64   PCS  0.842252  0.6870      NaN  8.004245    2.121087  4.002122   \n",
       "1202    64   PCS  0.848911  0.6905      NaN  8.113388    2.135201  4.056694   \n",
       "1203    64   PCS  0.855631  0.6940      NaN  8.225019    2.149419  4.112509   \n",
       "1204    64   PCS  0.862415  0.6975      NaN  8.339224    2.163745  4.169612   \n",
       "1205    64   PCS  0.869264  0.7010      NaN  8.456092    2.178183  4.228046   \n",
       "\n",
       "      B_aver_N   ra   rb  \n",
       "1201  4.002122  1.0  1.0  \n",
       "1202  4.056694  1.0  1.0  \n",
       "1203  4.112509  1.0  1.0  \n",
       "1204  4.169612  1.0  1.0  \n",
       "1205  4.228046  1.0  1.0  "
      ]
     },
     "execution_count": 5,
     "metadata": {},
     "output_type": "execute_result"
    }
   ],
   "source": [
    "df1.tail()"
   ]
  },
  {
   "cell_type": "markdown",
   "metadata": {},
   "source": [
    "## Plot"
   ]
  },
  {
   "cell_type": "code",
   "execution_count": 6,
   "metadata": {
    "collapsed": true
   },
   "outputs": [],
   "source": [
    "dashes = {'PA':[6,2], 'PAS':[6,2,1,2], 'PS':[3,2], 'PSA':[3,2,1,2], 'PCS':[1,1]}\n",
    "names = ('TMSS', 'PS', 'PA', 'PSA', 'PAS', 'PCS')"
   ]
  },
  {
   "cell_type": "markdown",
   "metadata": {},
   "source": [
    "### 1. Average Photon Number vs. Lambda"
   ]
  },
  {
   "cell_type": "code",
   "execution_count": 7,
   "metadata": {},
   "outputs": [
    {
     "data": {
      "image/png": "[encoded data removed]",
      "text/plain": [
       "<matplotlib.figure.Figure at 0x7fe20d6a7eb8>"
      ]
     },
     "metadata": {},
     "output_type": "display_data"
    }
   ],
   "source": [
    "# plt.figure(figsize=(18,18))\n",
    "\n",
    "for name in names:\n",
    "    temp_df = df1[df1['State'] == name]\n",
    "    if name == 'TMSS':\n",
    "        plt.plot(temp_df['lambda'], temp_df['Aver_N'], label=name)\n",
    "    else:\n",
    "        mc = np.ma.array(temp_df['Aver_N'])\n",
    "        mc[63] = np.ma.masked \n",
    "        plt.plot(temp_df['lambda'], temp_df['Aver_N'], \n",
    "                 dashes=dashes[name], label=name)\n",
    "plt.xlim(-0.015, 0.6)\n",
    "plt.ylim(-0.25, 6.0)\n",
    "plt.legend(loc=2, fontsize=13)\n",
    "plt.xlabel(\"$\\lambda$\")\n",
    "plt.ylabel(\"$\\langle n \\\\rangle$\")\n",
    "plt.savefig('../output/figures/g_nbar_vs_lambda.pdf', bbox_inches='tight')\n",
    "plt.savefig('../output/figures/g_nbar_vs_lambda.png', bbox_inches='tight')"
   ]
  },
  {
   "cell_type": "markdown",
   "metadata": {},
   "source": [
    "### 2. Entropy of Entanglement vs. Lambda"
   ]
  },
  {
   "cell_type": "code",
   "execution_count": 8,
   "metadata": {},
   "outputs": [
    {
     "data": {
      "image/png": "[encoded data removed]",
      "text/plain": [
       "<matplotlib.figure.Figure at 0x7fe209abce48>"
      ]
     },
     "metadata": {},
     "output_type": "display_data"
    }
   ],
   "source": [
    "for name in names:\n",
    "    temp_df = df1[df1['State'] == name]\n",
    "    if name == 'TMSS':\n",
    "        plt.plot(temp_df['lambda'], temp_df['VN_Entropy'], label=name)\n",
    "    else:\n",
    "        plt.plot(temp_df['lambda'], temp_df['VN_Entropy'], \n",
    "                 dashes=dashes[name], label=name)\n",
    "plt.xlim(-0.015, 0.6)\n",
    "plt.ylim(-0.08, 2.0)\n",
    "plt.legend(loc=2, fontsize=13)\n",
    "plt.xlabel(\"$\\lambda$\")\n",
    "plt.ylabel(\"$E$\")\n",
    "plt.savefig('../output/figures/g_entropy_vs_lambda.pdf', bbox_inches='tight')\n",
    "plt.savefig('../output/figures/g_entropy_vs_lambda.png', bbox_inches='tight')"
   ]
  },
  {
   "cell_type": "markdown",
   "metadata": {},
   "source": [
    "### Entropy vs. Average Photon Number"
   ]
  },
  {
   "cell_type": "code",
   "execution_count": 18,
   "metadata": {},
   "outputs": [
    {
     "data": {
      "text/plain": [
       "<matplotlib.text.Text at 0x7f39b03fc588>"
      ]
     },
     "execution_count": 18,
     "metadata": {},
     "output_type": "execute_result"
    },
    {
     "data": {
      "image/png": "[encoded data removed]",
      "text/plain": [
       "<matplotlib.figure.Figure at 0x7f39af758f60>"
      ]
     },
     "metadata": {},
     "output_type": "display_data"
    }
   ],
   "source": [
    "for name in names:\n",
    "    temp_df = df1[df1['State'] == name]\n",
    "#     if name == 'PCS':\n",
    "#         continue\n",
    "    if name == 'TMSS':\n",
    "        plt.plot(temp_df['Aver_N'], temp_df['VN_Entropy'], label=name)\n",
    "    else:\n",
    "        plt.plot(temp_df['Aver_N'], temp_df['VN_Entropy'], \n",
    "                 dashes=dashes[name], label=name)\n",
    "plt.xlim(-0.1, 4)\n",
    "plt.ylim(-0.08, 2.0)\n",
    "plt.legend(fontsize=13)\n",
    "plt.xlabel('$\\langle n \\\\rangle$')\n",
    "plt.ylabel(\"$E$\")\n",
    "# plt.savefig('../output/figures/g_entropy_vs_nbar.pdf', bbox_inches='tight')"
   ]
  },
  {
   "cell_type": "markdown",
   "metadata": {},
   "source": [
    "## Deviation between numberical and analytical average photon numbers"
   ]
  },
  {
   "cell_type": "code",
   "execution_count": 13,
   "metadata": {},
   "outputs": [
    {
     "data": {
      "text/plain": [
       "<matplotlib.text.Text at 0x7f0ef45a7da0>"
      ]
     },
     "execution_count": 13,
     "metadata": {},
     "output_type": "execute_result"
    },
    {
     "data": {
      "image/png": "[encoded data removed]",
      "text/plain": [
       "<matplotlib.figure.Figure at 0x7f0ef5257668>"
      ]
     },
     "metadata": {},
     "output_type": "display_data"
    }
   ],
   "source": [
    "for name in ('TMSS', 'PA', 'PS', 'PSA', 'PAS'):\n",
    "    temp_df = df1[df1['State'] == name]\n",
    "    plt.plot(temp_df['Aver_N'], 1.0 * (temp_df['Aver_N'] - temp_df['Exact_N']) / temp_df['Exact_N'], label=name)\n",
    "plt.xlim(0, 5.0)\n",
    "plt.ylim(-1e-9, 0.0)\n",
    "plt.legend(loc=0)\n",
    "plt.xlabel(\"Average Photon Number\")\n",
    "plt.ylabel(\"Exact Photon Number\")"
   ]
  },
  {
   "cell_type": "code",
   "execution_count": null,
   "metadata": {
    "collapsed": true
   },
   "outputs": [],
   "source": []
  }
 ],
 "metadata": {
  "kernelspec": {
   "display_name": "Python 3",
   "language": "python",
   "name": "python3"
  },
  "language_info": {
   "codemirror_mode": {
    "name": "ipython",
    "version": 3
   },
   "file_extension": ".py",
   "mimetype": "text/x-python",
   "name": "python",
   "nbconvert_exporter": "python",
   "pygments_lexer": "ipython3",
   "version": "3.6.1"
  }
 },
 "nbformat": 4,
 "nbformat_minor": 2
}
