{
 "cells": [
  {
   "cell_type": "markdown",
   "metadata": {},
   "source": [
    "## Quantum Illumination Experiment 0\n",
    "\n",
    "__Basic attributes of non-Gaussian states.__\n",
    "\n",
    "- Author: L. Fan\n",
    "- Created Date: 2017-09-19\n",
    "- The Second Latest Modified: 2017-11-19\n",
    "- The Latest Modified: 2018-02-01"
   ]
  },
  {
   "cell_type": "markdown",
   "metadata": {},
   "source": [
    "## States and Average Photon Numbers"
   ]
  },
  {
   "cell_type": "markdown",
   "metadata": {},
   "source": [
    "**Summary of Normalization Factors**\n",
    "\n",
    "$$\n",
    "\\begin{aligned}\n",
    "A &= \\sqrt{1-\\lambda^2} \\\\\n",
    "A_s = A_a &= \\left[ \\frac{(1 - \\lambda^2)^3}{1 + \\lambda^2} \\right]^\\frac{1}{2} \\\\\n",
    "A_{sa} = A_{as} &= \\left[ \\frac{\\left(1-\\lambda^2\\right)^5}{1 +11 \\lambda^2 +11 \\lambda^4 + \\lambda^6} \\right]^{\\frac{1}{2}} \\\\\n",
    "\\end{aligned}\n",
    "$$"
   ]
  },
  {
   "cell_type": "markdown",
   "metadata": {},
   "source": [
    "**Two-Mode Squeezed State**\n",
    "\n",
    "$$\n",
    "\\begin{aligned}\n",
    "\\left| \\psi \\right\\rangle\n",
    "&= \\exp \\left(\\xi a_0^{\\dagger}a_1^{\\dagger} - \\xi^* a_0 a_1 \\right)\n",
    "\\left|0 \\right\\rangle \\left|0 \\right\\rangle \\\\\n",
    "&= \\sqrt{1-\\lambda^2} \\sum_{n~=~0}^{\\infty} \\lambda^n\n",
    "\\left| n \\right\\rangle \\left| n \\right\\rangle\n",
    "\\end{aligned}\n",
    "$$\n",
    "\n",
    "If $\\xi$ is real, i.e. $\\xi = r e^{i\\theta}$, we have $\\lambda = \\tanh r$ with squeezing parameter r. Then the state can also be written as\n",
    "\n",
    "$$\n",
    "\\left| \\psi \\right\\rangle = \\frac{1}{\\cosh r} \\sum_{n~=~0}^{\\infty} (\\tanh r)^n \\left| n \\right\\rangle \\left| n \\right\\rangle\n",
    "$$\n",
    "\n",
    "The average photon number is given as\n",
    "\n",
    "$$\n",
    "\\langle N \\rangle = \\frac{\\lambda^2}{1 - \\lambda^2} = \\frac{\\tanh^2 r}{1 - \\tanh^2 r}\n",
    "$$\n",
    "\n",
    "Therefore we have\n",
    "\n",
    "$$\n",
    "\\lambda = \\sqrt{\\frac{N}{1+N}},~\\mathrm{and}~r = \\mathrm{arcsinh} \\sqrt{N}.\n",
    "$$\n",
    "\n",
    "The TMSS squeezed state can also be written as\n",
    "\n",
    "$$\n",
    "\\left| \\psi \\right\\rangle = \n",
    "\\sqrt{\\frac{1}{1+N}} \\sum_{n~=~0}^{\\infty} \\left( \\frac{N}{1+N} \\right)^\\frac{n}{2}\n",
    "\\left| n \\right\\rangle \\left| n \\right\\rangle\n",
    "$$"
   ]
  },
  {
   "cell_type": "markdown",
   "metadata": {},
   "source": [
    "The partial entropy of entanglement is given as\n",
    "\n",
    "$$\n",
    "\\begin{aligned}\n",
    "E\\big(\\left| \\psi \\right\\rangle\\big) &= - \\mathrm{Tr}[\\rho_0 \\log_2 \\rho_0] = - \\sum_{i} c_i^2 \\log_2 c_i^2 \\\\\n",
    "&= - \\sum_{n~=~0}^{\\infty} (1 - \\lambda^2) \\lambda^{2n} \\log_2 \\left[(1 - \\lambda^2) \\lambda^{2n} \\right] \\\\\n",
    "&= - \\log_2 \\left( 1- \\lambda^2 \\right) - \\frac{\\lambda^2}{1 - \\lambda^2} \\log_2 \\lambda^2 \\\\\n",
    "&= \\cosh^2 \\xi \\log_2 \\cosh^2 \\xi - \\sinh^2 \\xi \\log_2 \\sinh^2 \\xi\n",
    "\\end{aligned}\n",
    "$$"
   ]
  },
  {
   "cell_type": "markdown",
   "metadata": {},
   "source": [
    "**Photon Substracted States**\n",
    "\n",
    "$$\n",
    "\\left| \\psi_s \\right\\rangle = \n",
    "\\left[ \\frac{(1 - \\lambda^2)^3}{1 + \\lambda^2} \\right]^\\frac{1}{2}\n",
    "\\sum_{n~=~0}^{\\infty} \\lambda^n (n+1)\n",
    "\\left| n \\right\\rangle \\left| n \\right\\rangle\n",
    "$$\n",
    "\n",
    "$$\n",
    "\\langle N_s \\rangle = \\frac{2\\lambda^2 (2 + \\lambda^2)}{1 - \\lambda^4}\n",
    "$$"
   ]
  },
  {
   "cell_type": "markdown",
   "metadata": {},
   "source": [
    "The partial entropy of entanglement is given as\n",
    "\n",
    "$$\n",
    "\\begin{aligned}\n",
    "E_s &= - \\sum_{n~=~0}^{\\infty} A_a^2 (n+1)^2 \\lambda^{2n}\n",
    "\\log_2 \\left[ A_a^2 (n+1)^2 \\lambda^{2n} \\right] \\\\\n",
    "\\end{aligned}\n",
    "$$\n",
    "\n",
    "It seems hard to give an explicit analytical expression. Thus we have to find the numerical results."
   ]
  },
  {
   "cell_type": "markdown",
   "metadata": {},
   "source": [
    "**Photo Added States**\n",
    "\n",
    "$$\n",
    "\\left| \\psi_s \\right\\rangle = \n",
    "\\left[ \\frac{(1 - \\lambda^2)^3}{1 + \\lambda^2} \\right]^\\frac{1}{2}\n",
    "\\sum_{n~=~0}^{\\infty} \\lambda^n (n+1)\n",
    "\\left| n + 1 \\right\\rangle \\left| n + 1\\right\\rangle\n",
    "$$\n",
    "\n",
    "$$\n",
    "\\langle N_s \\rangle = \\frac{1 + 4\\lambda^2 + \\lambda^4}{1 - \\lambda^4}\n",
    "$$"
   ]
  },
  {
   "cell_type": "markdown",
   "metadata": {},
   "source": [
    "The partial entropy of entanglement id given as\n",
    "\n",
    "$$\n",
    "E_a = - \\sum_{n~=~0}^{\\infty} A_a^2 (n+1)^2 \\lambda^{2n}\n",
    "\\log_2 \\left[ A_a^2 (n+1)^2 \\lambda^{2n} \\right]\n",
    "$$\n",
    "\n",
    "So we see that the photon-substracted states and the photon-added states have exactly the same paritial entropy of entanglement.\n",
    "$$\n",
    "E_a = E_s\n",
    "$$"
   ]
  },
  {
   "cell_type": "markdown",
   "metadata": {},
   "source": [
    "**Photon Added then Substracted States**\n",
    "\n",
    "$$\n",
    "\\left| \\psi_{sa} \\right\\rangle = \n",
    "\\left[ \\frac{\\left(1-\\lambda^2\\right)^5}{1 +11 \\lambda^2 +11 \\lambda^4 + \\lambda^6} \\right]^{\\frac{1}{2}}\n",
    "\\sum_{n~=~0}^{\\infty} \\lambda^n (n+1)^2\n",
    "\\left| n \\right\\rangle \\left| n \\right\\rangle\n",
    "$$\n",
    "\n",
    "$$\n",
    "\\langle N_{sa} \\rangle = \\frac{2 \\lambda^2 \\left(8+33 \\lambda^2+18 \\lambda^4+\\lambda^6\\right)}{1+10 \\lambda^2-10 \\lambda^6-\\lambda^8}\n",
    "$$"
   ]
  },
  {
   "cell_type": "markdown",
   "metadata": {},
   "source": [
    "**Photon Sunstracted then Added States**\n",
    "\n",
    "$$\n",
    "\\left| \\psi_{as} \\right\\rangle =\n",
    "\\left[ \\frac{\\left(1-\\lambda^2\\right)^5}{1 +11 \\lambda^2 +11 \\lambda^4 + \\lambda^6} \\right]^{\\frac{1}{2}}\n",
    "\\sum_{n~=~0}^{\\infty} \\lambda^n (n+1)^2\n",
    "\\left| n+1 \\right\\rangle \\left| n+1 \\right\\rangle\n",
    "$$\n",
    "\n",
    "$$\n",
    "\\langle N_{as} \\rangle = \\frac{1 + 26\\lambda^2 + 66\\lambda^4 + 26\\lambda^6 + \\lambda^8}{1 + 10\\lambda^2 - 10\\lambda^6 - \\lambda^8}\n",
    "$$"
   ]
  },
  {
   "cell_type": "markdown",
   "metadata": {},
   "source": [
    "The above two states also have the same partial entropy of entanglement, as they have exactly the same Schimit coefficients."
   ]
  },
  {
   "cell_type": "markdown",
   "metadata": {},
   "source": [
    "Here is the analytical calculation results obtained by Mathematica.\n",
    "<img src='../ref/aver_photon_num.png'>"
   ]
  },
  {
   "cell_type": "markdown",
   "metadata": {},
   "source": [
    "**Summary of Average Photon Numbers**\n",
    "\n",
    "$$\n",
    "\\begin{aligned}\n",
    "\\langle N \\rangle &= \\frac{\\lambda^2}{1 - \\lambda^2} \\\\\n",
    "\\langle N_s \\rangle &= \\frac{2\\lambda^2 (2 + \\lambda^2)}{1 - \\lambda^4} \\\\\n",
    "\\langle N_a \\rangle &= \\frac{1 + 4\\lambda^2 + \\lambda^4}{1 - \\lambda^4} \\\\\n",
    "\\langle N_{sa} \\rangle &= \\frac{2 \\lambda^2 \\left(8+33 \\lambda^2+18 \\lambda^4+\\lambda^6\\right)}{1+10 \\lambda^2-10 \\lambda^6-\\lambda^8} \\\\\n",
    "\\langle N_{as} \\rangle &= \\frac{1 + 26\\lambda^2 + 66\\lambda^4 + 26\\lambda^6 + \\lambda^8}{1 + 10\\lambda^2 - 10\\lambda^6 - \\lambda^8}\n",
    "\\end{aligned}\n",
    "$$"
   ]
  },
  {
   "cell_type": "code",
   "execution_count": 1,
   "metadata": {
    "collapsed": true
   },
   "outputs": [],
   "source": [
    "import numpy as np\n",
    "import pandas as pd\n",
    "import matplotlib.pyplot as plt\n",
    "import seaborn as sns"
   ]
  },
  {
   "cell_type": "code",
   "execution_count": 2,
   "metadata": {
    "collapsed": true
   },
   "outputs": [],
   "source": [
    "# configuration\n",
    "# from IPython.display import set_matplotlib_formats\n",
    "# set_matplotlib_formats('pdf', 'png')\n",
    "# np.set_printoptions(threshold='nan', precision=6, suppress=True)\n",
    "plt.style.use(['seaborn-whitegrid', '14pt'])\n",
    "%matplotlib inline"
   ]
  },
  {
   "cell_type": "markdown",
   "metadata": {},
   "source": [
    "## Read datat"
   ]
  },
  {
   "cell_type": "code",
   "execution_count": 3,
   "metadata": {},
   "outputs": [],
   "source": [
    "# df1 = pd.read_csv('../output/data/basic_attributes.csv', comment='#')\n",
    "filename = 'expr_0_basic_pcs_asym_nmax_24_div_101_04-16.csv'\n",
    "df1 = pd.read_csv('../output/data/' + filename, comment='#')\n",
    "names = ('TMSS', 'PS', 'PA', 'PSA', 'PAS', 'PCS')"
   ]
  },
  {
   "cell_type": "code",
   "execution_count": 4,
   "metadata": {},
   "outputs": [
    {
     "data": {
      "text/html": [
       "<div>\n",
       "<style scoped>\n",
       "    .dataframe tbody tr th:only-of-type {\n",
       "        vertical-align: middle;\n",
       "    }\n",
       "\n",
       "    .dataframe tbody tr th {\n",
       "        vertical-align: top;\n",
       "    }\n",
       "\n",
       "    .dataframe thead th {\n",
       "        text-align: right;\n",
       "    }\n",
       "</style>\n",
       "<table border=\"1\" class=\"dataframe\">\n",
       "  <thead>\n",
       "    <tr style=\"text-align: right;\">\n",
       "      <th></th>\n",
       "      <th>nmax</th>\n",
       "      <th>State</th>\n",
       "      <th>sqz</th>\n",
       "      <th>lambda</th>\n",
       "      <th>Exact_N</th>\n",
       "      <th>Aver_N</th>\n",
       "      <th>VN_Entropy</th>\n",
       "      <th>A_aver_N</th>\n",
       "      <th>B_aver_N</th>\n",
       "      <th>ra</th>\n",
       "      <th>rb</th>\n",
       "    </tr>\n",
       "  </thead>\n",
       "  <tbody>\n",
       "    <tr>\n",
       "      <th>0</th>\n",
       "      <td>24</td>\n",
       "      <td>TMSS</td>\n",
       "      <td>0.001000</td>\n",
       "      <td>0.001</td>\n",
       "      <td>0.000002</td>\n",
       "      <td>0.000002</td>\n",
       "      <td>0.000015</td>\n",
       "      <td>9.999990e-07</td>\n",
       "      <td>9.999990e-07</td>\n",
       "      <td>0</td>\n",
       "      <td>0</td>\n",
       "    </tr>\n",
       "    <tr>\n",
       "      <th>1</th>\n",
       "      <td>24</td>\n",
       "      <td>TMSS</td>\n",
       "      <td>0.009000</td>\n",
       "      <td>0.009</td>\n",
       "      <td>0.000162</td>\n",
       "      <td>0.000162</td>\n",
       "      <td>0.000844</td>\n",
       "      <td>8.100656e-05</td>\n",
       "      <td>8.100656e-05</td>\n",
       "      <td>0</td>\n",
       "      <td>0</td>\n",
       "    </tr>\n",
       "    <tr>\n",
       "      <th>2</th>\n",
       "      <td>24</td>\n",
       "      <td>TMSS</td>\n",
       "      <td>0.017002</td>\n",
       "      <td>0.017</td>\n",
       "      <td>0.000578</td>\n",
       "      <td>0.000578</td>\n",
       "      <td>0.002645</td>\n",
       "      <td>2.890835e-04</td>\n",
       "      <td>2.890835e-04</td>\n",
       "      <td>0</td>\n",
       "      <td>0</td>\n",
       "    </tr>\n",
       "    <tr>\n",
       "      <th>3</th>\n",
       "      <td>24</td>\n",
       "      <td>TMSS</td>\n",
       "      <td>0.025005</td>\n",
       "      <td>0.025</td>\n",
       "      <td>0.001251</td>\n",
       "      <td>0.001251</td>\n",
       "      <td>0.005239</td>\n",
       "      <td>6.253909e-04</td>\n",
       "      <td>6.253909e-04</td>\n",
       "      <td>0</td>\n",
       "      <td>0</td>\n",
       "    </tr>\n",
       "    <tr>\n",
       "      <th>4</th>\n",
       "      <td>24</td>\n",
       "      <td>TMSS</td>\n",
       "      <td>0.033012</td>\n",
       "      <td>0.033</td>\n",
       "      <td>0.002180</td>\n",
       "      <td>0.002180</td>\n",
       "      <td>0.008527</td>\n",
       "      <td>1.090187e-03</td>\n",
       "      <td>1.090187e-03</td>\n",
       "      <td>0</td>\n",
       "      <td>0</td>\n",
       "    </tr>\n",
       "  </tbody>\n",
       "</table>\n",
       "</div>"
      ],
      "text/plain": [
       "   nmax State       sqz  lambda   Exact_N    Aver_N  VN_Entropy      A_aver_N  \\\n",
       "0    24  TMSS  0.001000   0.001  0.000002  0.000002    0.000015  9.999990e-07   \n",
       "1    24  TMSS  0.009000   0.009  0.000162  0.000162    0.000844  8.100656e-05   \n",
       "2    24  TMSS  0.017002   0.017  0.000578  0.000578    0.002645  2.890835e-04   \n",
       "3    24  TMSS  0.025005   0.025  0.001251  0.001251    0.005239  6.253909e-04   \n",
       "4    24  TMSS  0.033012   0.033  0.002180  0.002180    0.008527  1.090187e-03   \n",
       "\n",
       "       B_aver_N  ra  rb  \n",
       "0  9.999990e-07   0   0  \n",
       "1  8.100656e-05   0   0  \n",
       "2  2.890835e-04   0   0  \n",
       "3  6.253909e-04   0   0  \n",
       "4  1.090187e-03   0   0  "
      ]
     },
     "execution_count": 4,
     "metadata": {},
     "output_type": "execute_result"
    }
   ],
   "source": [
    "df1.head()"
   ]
  },
  {
   "cell_type": "code",
   "execution_count": 5,
   "metadata": {
    "collapsed": true
   },
   "outputs": [],
   "source": [
    "# df1['VN_Entropy_2'] = df1['VN_Entropy'] / np.log(2)"
   ]
  },
  {
   "cell_type": "code",
   "execution_count": 6,
   "metadata": {},
   "outputs": [
    {
     "data": {
      "text/html": [
       "<div>\n",
       "<style scoped>\n",
       "    .dataframe tbody tr th:only-of-type {\n",
       "        vertical-align: middle;\n",
       "    }\n",
       "\n",
       "    .dataframe tbody tr th {\n",
       "        vertical-align: top;\n",
       "    }\n",
       "\n",
       "    .dataframe thead th {\n",
       "        text-align: right;\n",
       "    }\n",
       "</style>\n",
       "<table border=\"1\" class=\"dataframe\">\n",
       "  <thead>\n",
       "    <tr style=\"text-align: right;\">\n",
       "      <th></th>\n",
       "      <th>nmax</th>\n",
       "      <th>State</th>\n",
       "      <th>sqz</th>\n",
       "      <th>lambda</th>\n",
       "      <th>Exact_N</th>\n",
       "      <th>Aver_N</th>\n",
       "      <th>VN_Entropy</th>\n",
       "      <th>A_aver_N</th>\n",
       "      <th>B_aver_N</th>\n",
       "      <th>ra</th>\n",
       "      <th>rb</th>\n",
       "    </tr>\n",
       "  </thead>\n",
       "  <tbody>\n",
       "    <tr>\n",
       "      <th>298</th>\n",
       "      <td>24</td>\n",
       "      <td>PA</td>\n",
       "      <td>0.657954</td>\n",
       "      <td>0.577</td>\n",
       "      <td>5.494090</td>\n",
       "      <td>5.494090</td>\n",
       "      <td>1.716442</td>\n",
       "      <td>2.747045</td>\n",
       "      <td>2.747045</td>\n",
       "      <td>0</td>\n",
       "      <td>0</td>\n",
       "    </tr>\n",
       "    <tr>\n",
       "      <th>299</th>\n",
       "      <td>24</td>\n",
       "      <td>PA</td>\n",
       "      <td>0.666995</td>\n",
       "      <td>0.583</td>\n",
       "      <td>5.596719</td>\n",
       "      <td>5.596719</td>\n",
       "      <td>1.737116</td>\n",
       "      <td>2.798360</td>\n",
       "      <td>2.798360</td>\n",
       "      <td>0</td>\n",
       "      <td>0</td>\n",
       "    </tr>\n",
       "    <tr>\n",
       "      <th>300</th>\n",
       "      <td>24</td>\n",
       "      <td>PA</td>\n",
       "      <td>0.676133</td>\n",
       "      <td>0.589</td>\n",
       "      <td>5.702382</td>\n",
       "      <td>5.702382</td>\n",
       "      <td>1.757904</td>\n",
       "      <td>2.851191</td>\n",
       "      <td>2.851191</td>\n",
       "      <td>0</td>\n",
       "      <td>0</td>\n",
       "    </tr>\n",
       "    <tr>\n",
       "      <th>301</th>\n",
       "      <td>24</td>\n",
       "      <td>PA</td>\n",
       "      <td>0.685371</td>\n",
       "      <td>0.595</td>\n",
       "      <td>5.811208</td>\n",
       "      <td>5.811207</td>\n",
       "      <td>1.778811</td>\n",
       "      <td>2.905604</td>\n",
       "      <td>2.905604</td>\n",
       "      <td>0</td>\n",
       "      <td>0</td>\n",
       "    </tr>\n",
       "    <tr>\n",
       "      <th>302</th>\n",
       "      <td>24</td>\n",
       "      <td>PA</td>\n",
       "      <td>0.694711</td>\n",
       "      <td>0.601</td>\n",
       "      <td>5.923335</td>\n",
       "      <td>5.923335</td>\n",
       "      <td>1.799848</td>\n",
       "      <td>2.961667</td>\n",
       "      <td>2.961667</td>\n",
       "      <td>0</td>\n",
       "      <td>0</td>\n",
       "    </tr>\n",
       "  </tbody>\n",
       "</table>\n",
       "</div>"
      ],
      "text/plain": [
       "     nmax State       sqz  lambda   Exact_N    Aver_N  VN_Entropy  A_aver_N  \\\n",
       "298    24    PA  0.657954   0.577  5.494090  5.494090    1.716442  2.747045   \n",
       "299    24    PA  0.666995   0.583  5.596719  5.596719    1.737116  2.798360   \n",
       "300    24    PA  0.676133   0.589  5.702382  5.702382    1.757904  2.851191   \n",
       "301    24    PA  0.685371   0.595  5.811208  5.811207    1.778811  2.905604   \n",
       "302    24    PA  0.694711   0.601  5.923335  5.923335    1.799848  2.961667   \n",
       "\n",
       "     B_aver_N  ra  rb  \n",
       "298  2.747045   0   0  \n",
       "299  2.798360   0   0  \n",
       "300  2.851191   0   0  \n",
       "301  2.905604   0   0  \n",
       "302  2.961667   0   0  "
      ]
     },
     "execution_count": 6,
     "metadata": {},
     "output_type": "execute_result"
    }
   ],
   "source": [
    "df1.tail()"
   ]
  },
  {
   "cell_type": "markdown",
   "metadata": {},
   "source": [
    "## Plot"
   ]
  },
  {
   "cell_type": "code",
   "execution_count": 7,
   "metadata": {
    "collapsed": true
   },
   "outputs": [],
   "source": [
    "dashes = {'PA':[6,3], 'PS':[3,1], 'PAS':[2,2,1,2], 'PSA':[6,4,2,4], 'PCS':[5,3,1,3]}\n",
    "# names = ('TMSS', 'PS', 'PA', 'PAS', 'PSA', 'PCS')\n",
    "names = ('TMSS', 'PS', 'PA')"
   ]
  },
  {
   "cell_type": "markdown",
   "metadata": {},
   "source": [
    "### 1. Average Photon Number vs. Lambda"
   ]
  },
  {
   "cell_type": "code",
   "execution_count": 8,
   "metadata": {},
   "outputs": [
    {
     "data": {
      "text/plain": [
       "<matplotlib.text.Text at 0x7fc9069fdcc0>"
      ]
     },
     "execution_count": 8,
     "metadata": {},
     "output_type": "execute_result"
    },
    {
     "data": {
      "image/png": "[encoded data removed]",
      "text/plain": [
       "<matplotlib.figure.Figure at 0x7fc906a4dac8>"
      ]
     },
     "metadata": {},
     "output_type": "display_data"
    }
   ],
   "source": [
    "for name in names:\n",
    "    temp_df = df1[df1['State'] == name]\n",
    "    if name == 'TMSS':\n",
    "        plt.plot(temp_df['lambda'], temp_df['Aver_N'], label=name)\n",
    "    else:\n",
    "        mc = np.ma.array(temp_df['Aver_N'])\n",
    "        mc[63] = np.ma.masked \n",
    "        plt.plot(temp_df['lambda'], temp_df['Aver_N'], \n",
    "                 dashes=dashes[name], label=name)\n",
    "plt.xlim(0, 0.7)\n",
    "plt.ylim(-0.3, 7)\n",
    "plt.legend(loc=2)\n",
    "plt.xlabel(\"$\\lambda$\")\n",
    "plt.ylabel(\"Average Photon Number\")\n",
    "# plt.savefig('../output/figures/g_nbar_vs_lambda.pdf', bbox_inches='tight')"
   ]
  },
  {
   "cell_type": "markdown",
   "metadata": {},
   "source": [
    "### 2. Entropy of Entanglement vs. Lambda"
   ]
  },
  {
   "cell_type": "code",
   "execution_count": 9,
   "metadata": {},
   "outputs": [
    {
     "data": {
      "text/plain": [
       "<matplotlib.text.Text at 0x7fc902dadc50>"
      ]
     },
     "execution_count": 9,
     "metadata": {},
     "output_type": "execute_result"
    },
    {
     "data": {
      "image/png": "[encoded data removed]",
      "text/plain": [
       "<matplotlib.figure.Figure at 0x7fc906f3c8d0>"
      ]
     },
     "metadata": {},
     "output_type": "display_data"
    }
   ],
   "source": [
    "for name in names:\n",
    "    temp_df = df1[df1['State'] == name]\n",
    "    if name == 'TMSS':\n",
    "        plt.plot(temp_df['lambda'], temp_df['VN_Entropy'], label=name)\n",
    "    else:\n",
    "        plt.plot(temp_df['lambda'], temp_df['VN_Entropy'], \n",
    "                 dashes=dashes[name], label=name)\n",
    "plt.xlim(0, 0.6)\n",
    "plt.ylim(-0.1, 2.0)\n",
    "plt.legend(loc=2)\n",
    "plt.xlabel(\"$\\lambda$\")\n",
    "plt.ylabel(\"$E$\")\n",
    "# plt.savefig('../output/figures/g_entropy_vs_lambda.pdf', bbox_inches='tight')"
   ]
  },
  {
   "cell_type": "markdown",
   "metadata": {},
   "source": [
    "### Entropy vs. Average Photon Number"
   ]
  },
  {
   "cell_type": "code",
   "execution_count": 10,
   "metadata": {},
   "outputs": [
    {
     "data": {
      "text/plain": [
       "<matplotlib.text.Text at 0x7fc902c706d8>"
      ]
     },
     "execution_count": 10,
     "metadata": {},
     "output_type": "execute_result"
    },
    {
     "data": {
      "image/png": "[encoded data removed]",
      "text/plain": [
       "<matplotlib.figure.Figure at 0x7fc902d2bf60>"
      ]
     },
     "metadata": {},
     "output_type": "display_data"
    }
   ],
   "source": [
    "for name in names:\n",
    "    temp_df = df1[df1['State'] == name]\n",
    "    if name == 'TMSS':\n",
    "        plt.plot(temp_df['Aver_N'], temp_df['VN_Entropy'], label=name)\n",
    "    else:\n",
    "        plt.plot(temp_df['Aver_N'], temp_df['VN_Entropy'], \n",
    "                 dashes=dashes[name], label=name)\n",
    "plt.xlim(-0.2, 6)\n",
    "plt.ylim(-0.08, 2.0)\n",
    "plt.legend()\n",
    "plt.xlabel(\"Average Photon Number\")\n",
    "plt.ylabel(\"$E$\")\n",
    "# plt.savefig('../output/figures/g_entropy_vs_nbar_nth_1.pdf', bbox_inches='tight')"
   ]
  },
  {
   "cell_type": "markdown",
   "metadata": {},
   "source": [
    "### Deviation between numberical and analytical average photon numbers"
   ]
  },
  {
   "cell_type": "code",
   "execution_count": 12,
   "metadata": {},
   "outputs": [
    {
     "data": {
      "text/plain": [
       "<matplotlib.text.Text at 0x7fc902b69c50>"
      ]
     },
     "execution_count": 12,
     "metadata": {},
     "output_type": "execute_result"
    },
    {
     "data": {
      "image/png": "[encoded data removed]",
      "text/plain": [
       "<matplotlib.figure.Figure at 0x7fc902d45a90>"
      ]
     },
     "metadata": {},
     "output_type": "display_data"
    }
   ],
   "source": [
    "for name in names:\n",
    "    temp_df = df1[df1['State'] == name]\n",
    "    plt.plot(temp_df['Aver_N'], 1.0 * (temp_df['Aver_N'] - temp_df['Exact_N']) / temp_df['Exact_N'], label=name)\n",
    "plt.xlim(0, 5.0)\n",
    "plt.ylim(-1e-7, 0.0)\n",
    "plt.legend(loc=0)\n",
    "plt.xlabel(\"Average Photon Number\")\n",
    "plt.ylabel(\"Exact Photon Number\")"
   ]
  },
  {
   "cell_type": "code",
   "execution_count": null,
   "metadata": {
    "collapsed": true
   },
   "outputs": [],
   "source": []
  }
 ],
 "metadata": {
  "kernelspec": {
   "display_name": "Python 3",
   "language": "python",
   "name": "python3"
  },
  "language_info": {
   "codemirror_mode": {
    "name": "ipython",
    "version": 3
   },
   "file_extension": ".py",
   "mimetype": "text/x-python",
   "name": "python",
   "nbconvert_exporter": "python",
   "pygments_lexer": "ipython3",
   "version": "3.6.1"
  }
 },
 "nbformat": 4,
 "nbformat_minor": 2
}
