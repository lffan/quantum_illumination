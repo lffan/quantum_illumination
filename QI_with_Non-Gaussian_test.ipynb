{
 "cells": [
  {
   "cell_type": "markdown",
   "metadata": {},
   "source": [
    "# Code"
   ]
  },
  {
   "cell_type": "markdown",
   "metadata": {},
   "source": [
    "### `tm_squeezing(N,s)`, `tm_mixing(N, )`"
   ]
  },
  {
   "cell_type": "code",
   "execution_count": 34,
   "metadata": {
    "collapsed": false
   },
   "outputs": [],
   "source": [
    "from qutip import *\n",
    "import numpy as np\n",
    "import matplotlib.pyplot as plt\n",
    "from scipy.special import comb, factorial\n",
    "%matplotlib inline\n",
    "\n",
    "def tm_squeezing(N, s):\n",
    "    \"\"\" Two-mode squeezing operator\n",
    "        N: a positive interger. Photon number is truncated at N, i.e (0, N-1)\n",
    "        s: a complex number. 's' is the squeezing parameter.\n",
    "        return: a qutip.Qobj(), operator\n",
    "    \"\"\"\n",
    "    a = destroy(N)\n",
    "    tms = - np.conj(s) * tensor(a, a) + s * tensor(a.dag(), a.dag())\n",
    "    return tms.expm()\n",
    "\n",
    "\n",
    "def tm_mixing(N, s):\n",
    "    \"\"\" Two-mode mixing operator. Photon number is truncated at N. \"\"\"\n",
    "    a = destroy(N)\n",
    "    tmm = s * tensor(a.dag(), a) - np.conj(s) * tensor(a, a.dag())\n",
    "    return tmm.expm()"
   ]
  },
  {
   "cell_type": "markdown",
   "metadata": {},
   "source": [
    "### `TMSS(N,s)`, `PS(N,s)`, `PA(N,s)`, `PSA(N,s)`, `PAS(N,s)`, and `PCS(N,s)`"
   ]
  },
  {
   "cell_type": "code",
   "execution_count": 35,
   "metadata": {
    "collapsed": true
   },
   "outputs": [],
   "source": [
    "def TMSS(N, s):\n",
    "    \"\"\" Two-mode squeezed state\n",
    "        N: a positive interger. Photon number is truncated at N, i.e (0, N-1)\n",
    "        s: a complex number. 's' is the squeezing parameter.\n",
    "        return: a qutip.Qobj(), vector state\n",
    "    \"\"\"\n",
    "    l = np.tanh(s.real)\n",
    "    state = np.sum([l**n * tensor(basis(N, n), basis(N, n)) \\\n",
    "                    for n in xrange(N)])\n",
    "    return state.unit()\n",
    "\n",
    "\n",
    "def PS(N, s):\n",
    "    \"\"\" Photon subtracted two-mode squeezed state\n",
    "        N: a positive interger. Photon number is truncated at N, i.e (0, N-1)\n",
    "        s: a complex number. 's' is the squeezing parameter.\n",
    "        return: a qutip.Qobj(), vector state\n",
    "    \"\"\"\n",
    "    l = np.tanh(s.real)\n",
    "    state = np.sum([(n+1) * l**n * tensor(basis(N, n), basis(N, n)) \\\n",
    "                    for n in xrange(N)])\n",
    "    return state.unit()\n",
    "\n",
    "\n",
    "def PA(N, s):\n",
    "    \"\"\" Photon added two-mode squeezed state\n",
    "        N: a positive interger. Photon number is truncated at N, i.e (0, N-1)\n",
    "        s: a complex number. 's' is the squeezing parameter.\n",
    "        return: a qutip.Qobj(), vector state\n",
    "    \"\"\"\n",
    "    l = np.tanh(s.real)\n",
    "    state = np.sum([(n+1) * l**n * tensor(basis(N, n + 1), basis(N, n + 1)) \\\n",
    "                    for n in xrange(N - 1)])\n",
    "    return state.unit()    \n",
    "\n",
    "\n",
    "def PSA(N, s):\n",
    "    \"\"\" Photon added then subtracted two-mode squeezed state\n",
    "        N: a positive interger. Photon number is truncated at N, i.e (0, N-1)\n",
    "        s: a complex number. 's' is the squeezing parameter.\n",
    "        return: a qutip.Qobj(), vector state\n",
    "    \"\"\"\n",
    "    l = np.tanh(s.real)\n",
    "    state = np.sum([(n+1)**2 * l**n * tensor(basis(N, n), basis(N, n)) \\\n",
    "                    for n in xrange(N)])\n",
    "    return state.unit()\n",
    "\n",
    "\n",
    "def PAS(N, s):\n",
    "    \"\"\" Photon subtracted then added two-mode squeezed state\n",
    "        N: a positive interger. Photon number is truncated at N, i.e (0, N-1)\n",
    "        s: a complex number. 's' is the squeezing parameter.\n",
    "        return: a qutip.Qobj(), vector state\n",
    "    \"\"\"\n",
    "    l = np.tanh(s.real)\n",
    "    state = np.sum([(n+1)**2 * l**n * tensor(basis(N, n + 1), basis(N, n + 1)) \\\n",
    "                    for n in xrange(N - 1)])\n",
    "    return state.unit()\n",
    "\n",
    "\n",
    "def PCS(N, s, rt_list):\n",
    "    \"\"\" Coherent superposition of photon subtraction and addition on two-mode squeezed state\n",
    "        N: a positive interger. Photon number is truncated at N, i.e (0, N-1)\n",
    "        s: a complex number. 's' is the squeezing parameter.\n",
    "        r: complex numbers.\n",
    "        return: a qutip.Qobj(), vector state\n",
    "    \"\"\"\n",
    "    l = np.tanh(s.real)\n",
    "    ra, ta, rb, tb = rt_list\n",
    "    \n",
    "    nlist = range(N)\n",
    "    state1 = np.sum([l**(n+1) * (n+1) * tensor(basis(N, n), basis(N, n)) \\\n",
    "                    for n in nlist])\n",
    "    state2 = np.sum([l**(n+1) * np.sqrt((n+1)*(n+2)) \\\n",
    "                    * tensor(basis(N, n), basis(N, n + 2)) for n in nlist[:-2]])\n",
    "    state3 = np.sum([l**(n+1) * np.sqrt((n+1)*(n+2)) \\\n",
    "                    * tensor(basis(N, n + 2), basis(N, n)) for n in nlist[:-2]])\n",
    "    state4 = np.sum([l**n * (n+1) * tensor(basis(N, n + 1), basis(N, n + 1)) \\\n",
    "                    for n in nlist[:-1]])\n",
    "    state = ta * tb * state1 + ta * rb * state2 + ra * tb * state3 + ra * rb * state4\n",
    "    \n",
    "    return state.unit()"
   ]
  },
  {
   "cell_type": "markdown",
   "metadata": {},
   "source": [
    "### `RHO_0(state,N,s,Nth,rt_list)`, `RHO_1(state,N,s,Nth,eta,rt_list)`"
   ]
  },
  {
   "cell_type": "code",
   "execution_count": 36,
   "metadata": {
    "collapsed": true
   },
   "outputs": [],
   "source": [
    "def RHO_0(state, N, s, Nth, rt_list=False):\n",
    "    \"\"\" State obtained if the object is absent.\n",
    "        N: a positive interger. Photon number is truncated at N, i.e (0, N-1)\n",
    "        s: a complex number. 's' is the squeezing parameter.\n",
    "        r: complex numbers.\n",
    "        return: a qutip.Qobj(), density matrix\n",
    "    \"\"\"\n",
    "    if not rt_list:\n",
    "        rho_AB = ket2dm(state(N, s))\n",
    "    else:\n",
    "        rho_AB = ket2dm(state(N, s, rt_list))\n",
    "    return tensor(rho_AB.ptrace(0), thermal_dm(N, Nth)) # state A kept, state B traced out\n",
    "\n",
    "\n",
    "def RHO_1(state, N, s, Nth, eta, rt_list=False):\n",
    "    \"\"\" State obtained if the object is present.\n",
    "        N: a positive interger. Photon number is truncated at N, i.e (0, N-1)\n",
    "        s: a complex number. 's' is the squeezing parameter.\n",
    "        r: complex numbers.\n",
    "        return: a qutip.Qobj(), density matrix\n",
    "    \"\"\"\n",
    "    theta = np.arctan(np.sqrt((1 - eta)/eta))\n",
    "    if not rt_list:\n",
    "        rho_AB = ket2dm(state(N, s))\n",
    "    else:\n",
    "        rho_AB = ket2dm(state(N, s, rt_list))\n",
    "    \n",
    "    # tensor product of state AB and thermal state\n",
    "    rho = tensor(rho_AB, thermal_dm(N, Nth/(1-eta)))\n",
    "    \n",
    "    # state A unchanged, tm_mixing acted on state B and thermal\n",
    "    op = tensor(qeye(N), tm_mixing(N, -theta))\n",
    "\n",
    "    rho_1 = op * rho * op.dag()\n",
    "    return rho_1.ptrace([0, 1])"
   ]
  },
  {
   "cell_type": "markdown",
   "metadata": {},
   "source": [
    "### `QCB(rho_0, rho_1, approx=False)`"
   ]
  },
  {
   "cell_type": "code",
   "execution_count": 37,
   "metadata": {
    "collapsed": true
   },
   "outputs": [],
   "source": [
    "def QCB(rho_0, rho_1, approx=False):\n",
    "    \"\"\" Approximated Q for QCB\n",
    "        Actually the trace of sqrt(rho_1) * sqrt(rho_2)\n",
    "    \"\"\"\n",
    "    if approx:\n",
    "        return (rho_0.sqrtm() * rho_1.sqrtm()).tr().real\n",
    "    else:\n",
    "        pass"
   ]
  },
  {
   "cell_type": "markdown",
   "metadata": {},
   "source": [
    "### `upper_bound(QCB, M)`, `lower_bound(tr, M)`"
   ]
  },
  {
   "cell_type": "code",
   "execution_count": 38,
   "metadata": {
    "collapsed": true
   },
   "outputs": [],
   "source": [
    "def upper_bound(QCB, M):\n",
    "    \"\"\" Upper bound (Quantum Chernoff bound) of the error probability\n",
    "        using s = 1/2\n",
    "    \"\"\"\n",
    "    return 0.5 * QCB ** M\n",
    "\n",
    "\n",
    "def lower_bound(tr, M):\n",
    "    \"\"\" Lower bound of the error probability\n",
    "    \"\"\"\n",
    "    return (1 - np.sqrt(1 - tr ** (2 * M))) / 2"
   ]
  },
  {
   "cell_type": "code",
   "execution_count": 39,
   "metadata": {
    "collapsed": false
   },
   "outputs": [],
   "source": [
    "np.set_printoptions(threshold='nan', precision=6, suppress=True)"
   ]
  },
  {
   "cell_type": "markdown",
   "metadata": {},
   "source": [
    "# I. Quantum Illumination with Non-Gaussian States"
   ]
  },
  {
   "cell_type": "markdown",
   "metadata": {},
   "source": [
    "## Evaluating"
   ]
  },
  {
   "cell_type": "code",
   "execution_count": 41,
   "metadata": {
    "collapsed": false
   },
   "outputs": [],
   "source": [
    "# Evaluating states\n",
    "def P_ERR_vs_M_Data(Nth, N, kappa, s):\n",
    "    # TMSS\n",
    "    rho_0_tmss = RHO_0(TMSS, N, s, Nth)\n",
    "    rho_1_tmss = RHO_1(TMSS, N, s, Nth, kappa)\n",
    "    tr_tmss = QCB(rho_0_tmss, rho_1_tmss, approx=True)\n",
    "    \n",
    "    # Photon subtraction\n",
    "    rho_0_ps = RHO_0(PS, N, s, Nth)\n",
    "    rho_1_ps = RHO_1(PS, N, s, Nth, kappa)\n",
    "    tr_ps = QCB(rho_0_ps, rho_1_ps, approx=True)\n",
    "    \n",
    "    # Photon addition then subtranction\n",
    "    rho_0_psa = RHO_0(PSA, N, s, Nth)\n",
    "    rho_1_psa = RHO_1(PSA, N, s, Nth, kappa)\n",
    "    tr_psa = QCB(rho_0_psa, rho_1_psa, approx=True)\n",
    "    \n",
    "    # Coherent superposition of photon subtraction and addition\n",
    "    rt_list = (0.4, np.sqrt(0.86), 0.4, np.sqrt(0.86))\n",
    "    rho_0_pcs = RHO_0(PCS, N, s, Nth, rt_list)\n",
    "    rho_1_pcs = RHO_1(PCS, N, s, Nth, kappa, rt_list)\n",
    "    tr_pcs = QCB(rho_0_pcs, rho_1_pcs, approx=True)\n",
    "    \n",
    "    # Tr[rho_0**0.5 * rho_1**0.5]\n",
    "    print tr_tmss, tr_ps, tr_psa, tr_pcs\n",
    "    \n",
    "    # Number of identity copied M: form 1e2 to 1e6, log space\n",
    "    x = np.logspace(2, 6, num=50)\n",
    "    x = np.array([np.int(i) for i in x])\n",
    "    \n",
    "    # Caculate upper bounds and lower bounds\n",
    "    dataL_tmss = np.array([lower_bound(tr_tmss, M) for M in x])\n",
    "    dataU_tmss = np.array([upper_bound(tr_tmss, M) for M in x])\n",
    "    dataL_ps = np.array([lower_bound(tr_ps, M) for M in x])\n",
    "    dataU_ps = np.array([upper_bound(tr_ps, M) for M in x])\n",
    "    dataL_psa = np.array([lower_bound(tr_psa, M) for M in x])\n",
    "    dataU_psa = np.array([upper_bound(tr_psa, M) for M in x])\n",
    "    dataL_pcs = np.array([lower_bound(tr_pcs, M) for M in x])\n",
    "    dataU_pcs = np.array([upper_bound(tr_pcs, M) for M in x])\n",
    "    \n",
    "    return x, dataL_tmss, dataU_tmss, dataL_ps, dataU_ps, \\\n",
    "            dataL_psa, dataU_psa, dataL_pcs, dataU_pcs"
   ]
  },
  {
   "cell_type": "markdown",
   "metadata": {},
   "source": [
    "## Ploting"
   ]
  },
  {
   "cell_type": "code",
   "execution_count": 42,
   "metadata": {
    "collapsed": true
   },
   "outputs": [],
   "source": [
    "def P_ERR_vs_M_Plot(title, data):\n",
    "    x, dataL_tmss, dataU_tmss, dataL_ps, dataU_ps, \\\n",
    "            dataL_psa, dataU_psa, dataL_pcs, dataU_pcs = data\n",
    "    \n",
    "    fig, ax = plt.subplots()\n",
    "    \n",
    "    ax.plot(x, dataL_tmss, color='b', label='TMSS')\n",
    "    ax.plot(x, dataU_tmss, color='r', label='TMSS')\n",
    "    ax.plot(x, dataL_ps, color='b', ls='--', label='PS')\n",
    "    ax.plot(x, dataU_ps, color='r', ls='--', label='PS')\n",
    "    ax.plot(x, dataL_psa, color='b', ls='-.', label='PSA')\n",
    "    ax.plot(x, dataU_psa, color='r', ls='-.', label='PSA')\n",
    "    ax.plot(x, dataL_pcs, color='b', ls=':', label='PCS')\n",
    "    ax.plot(x, dataU_pcs, color='r', ls=':', label='PCS')\n",
    "    \n",
    "    ax.set_xscale('log')\n",
    "    ax.set_yscale('log')\n",
    "    ax.set_ylim([1e-6, 1])\n",
    "    \n",
    "    ax.set_title(title, fontsize=16)\n",
    "    ax.set_xlabel('$M$', fontsize=16)\n",
    "    ax.set_ylabel('$P_{err}$', fontsize=16)\n",
    "\n",
    "    lgd = ax.legend(loc='center left', bbox_to_anchor=(1, 0.5), frameon=None)\n",
    "    \n",
    "    return fig, lgd"
   ]
  },
  {
   "cell_type": "markdown",
   "metadata": {},
   "source": [
    "### 1. $N_s = 0.01, N_{th} = 0.1, \\eta = 0.01$."
   ]
  },
  {
   "cell_type": "code",
   "execution_count": 43,
   "metadata": {
    "collapsed": false,
    "scrolled": true
   },
   "outputs": [
    {
     "name": "stdout",
     "output_type": "stream",
     "text": [
      "0.999914200049 0.999677113284 0.998900522122 0.996510178093\n"
     ]
    },
    {
     "data": {
      "image/png": "[encoded data removed]",
      "text/plain": [
       "<matplotlib.figure.Figure at 0x7f7913f70c90>"
      ]
     },
     "metadata": {},
     "output_type": "display_data"
    }
   ],
   "source": [
    "Nth = 0.1     # Average thermal photon numbers\n",
    "N = 10        # Truncated photon numbers, i.e., 0 ~ N-1\n",
    "eta = 0.01    # Transmissivity\n",
    "\n",
    "Ns = 0.01     # Average photon number of the initial two-mode squeezed states\n",
    "lmd = np.sqrt(Ns/(1 + Ns))     # \n",
    "s = np.arcsinh(np.sqrt(Ns))    # Squeezed parameter\n",
    "\n",
    "data = P_ERR_vs_M_Data(Nth, N, eta, s)\n",
    "fig, lgd = P_ERR_vs_M_Plot('$N_{th} = 0.1$, $N_s = 0.01$, $\\eta = 0.01$', data)\n",
    "fig.savefig(\"N_1e-1.svg\", bbox_extra_artists=(lgd,), bbox_inches='tight')"
   ]
  },
  {
   "cell_type": "markdown",
   "metadata": {},
   "source": [
    "### 2. $N_s = 0.01, N_{th} = 1, \\eta = 0.01$."
   ]
  },
  {
   "cell_type": "code",
   "execution_count": 30,
   "metadata": {
    "collapsed": false
   },
   "outputs": [
    {
     "name": "stdout",
     "output_type": "stream",
     "text": [
      "0.999956151234 0.999845864667 0.99953052365 0.998938178672\n"
     ]
    },
    {
     "data": {
      "image/png": "[encoded data removed]",
      "text/plain": [
       "<matplotlib.figure.Figure at 0x7f791457ec10>"
      ]
     },
     "metadata": {},
     "output_type": "display_data"
    }
   ],
   "source": [
    "Nth = 1       # Average thermal photon numbers\n",
    "N = 15        # Truncated photon numbers, i.e., 0 ~ N-1\n",
    "eta = 0.01    # Transmissivity\n",
    "\n",
    "Ns = 0.01     # Average photon number of the initial two-mode squeezed states\n",
    "lmd = np.sqrt(Ns/(1 + Ns))     # \n",
    "s = np.arcsinh(np.sqrt(Ns))    # Squeezed parameter\n",
    "\n",
    "data = P_ERR_vs_M_Data(Nth, N, eta, s)\n",
    "fig, lgd = P_ERR_vs_M_Plot('$N_{th} = 1.0$, $N_s = 0.01$, $\\eta = 0.01$', data)\n",
    "fig.savefig(\"N_1e0.svg\", bbox_extra_artists=(lgd,), bbox_inches='tight')"
   ]
  },
  {
   "cell_type": "markdown",
   "metadata": {},
   "source": [
    "### 3. $N_s = 0.01, N_{th} = 10, \\eta = 0.01$."
   ]
  },
  {
   "cell_type": "code",
   "execution_count": 31,
   "metadata": {
    "collapsed": false
   },
   "outputs": [
    {
     "name": "stdout",
     "output_type": "stream",
     "text": [
      "0.999830445726 0.999546584701 0.998631285016 0.99632083879\n"
     ]
    },
    {
     "data": {
      "image/png": "[encoded data removed]",
      "text/plain": [
       "<matplotlib.figure.Figure at 0x7f791401d5d0>"
      ]
     },
     "metadata": {},
     "output_type": "display_data"
    }
   ],
   "source": [
    "Nth = 10      # Average thermal photon numbers\n",
    "N = 20        # Truncated photon numbers, i.e., 0 ~ N-1\n",
    "eta = 0.01    # Transmissivity\n",
    "\n",
    "Ns = 0.01     # Average photon number of the initial two-mode squeezed states\n",
    "lmd = np.sqrt(Ns/(1 + Ns))     # \n",
    "s = np.arcsinh(np.sqrt(Ns))    # Squeezed parameter\n",
    "\n",
    "data = P_ERR_vs_M_Data(Nth, N, eta, s)\n",
    "fig, lgd = P_ERR_vs_M_Plot('$N_{th} = 10$, $N_s = 0.01$, $\\eta = 0.01$', data)\n",
    "fig.savefig(\"N_1e1.svg\", bbox_extra_artists=(lgd,), bbox_inches='tight')"
   ]
  },
  {
   "cell_type": "markdown",
   "metadata": {},
   "source": [
    "## P_ERR vs Ns"
   ]
  },
  {
   "cell_type": "code",
   "execution_count": 3,
   "metadata": {
    "collapsed": true
   },
   "outputs": [],
   "source": [
    "def P_ERR_vs_Ns_Data(Nth, N, kappa, M=10):\n",
    "    Ns = np.logspace(-2, 0, 20)\n",
    "    s_list = np.arcsinh(np.sqrt(Ns))\n",
    "    \n",
    "    # TMSS\n",
    "    rho_list = np.array([(RHO_0(TMSS, N, s, Nth), RHO_1(TMSS, N, s, Nth, kappa)) \\\n",
    "                          for s in s_list])\n",
    "    tr_tmss = np.array([(rho[0].sqrtm() * rho[1].sqrtm()).tr().real \n",
    "                        for rho in rho_list])\n",
    "    \n",
    "    # PSTMSS\n",
    "    rho_list = np.array([(RHO_0(PSTMSS, N, s, Nth), RHO_1(PSTMSS, N, s, Nth, kappa)) \\\n",
    "                          for s in s_list])\n",
    "    tr_ps = np.array([(rho[0].sqrtm() * rho[1].sqrtm()).tr().real \n",
    "                        for rho in rho_list])\n",
    "    \n",
    "    # PSATMSS\n",
    "    rho_list = np.array([(RHO_0(PSATMSS, N, s, Nth), RHO_1(PSATMSS, N, s, Nth, kappa)) \\\n",
    "                          for s in s_list])\n",
    "    tr_psa = np.array([(rho[0].sqrtm() * rho[1].sqrtm()).tr().real \n",
    "                        for rho in rho_list])\n",
    "    \n",
    "    # PCSSATMSS\n",
    "    rho_list = np.array([(RHO_0(PCSSATMSS, N, s, Nth, r=0.4), \\\n",
    "                          RHO_1(PCSSATMSS, N, s, Nth, kappa, r=0.4)) \\\n",
    "                          for s in s_list])\n",
    "    tr_pcssa = np.array([(rho[0].sqrtm() * rho[1].sqrtm()).tr().real \n",
    "                        for rho in rho_list])\n",
    "    \n",
    "    return Ns, tr_tmss, tr_ps, tr_psa, tr_pcssa"
   ]
  },
  {
   "cell_type": "code",
   "execution_count": 4,
   "metadata": {
    "collapsed": true
   },
   "outputs": [],
   "source": [
    "def P_ERR_vs_Ns_Plot(title, data):\n",
    "    x, dataL_tmss, dataU_tmss, dataL_ps, dataU_ps, \\\n",
    "            dataL_psa, dataU_psa, dataL_pcssa, dataU_pcssa = data\n",
    "\n",
    "    fig, ax = plt.subplots()\n",
    "    \n",
    "    ax.plot(x, dataL_tmss, color='b', label=r'$\\left|TMSS\\right\\rangle$')\n",
    "    ax.plot(x, dataU_tmss, color='r', label=r'$\\left|TMSS\\right\\rangle$')\n",
    "    ax.plot(x, dataL_ps, color='b', ls='--', label=r'$\\hat{a}\\hat{b}\\left|TMSS\\right\\rangle$')\n",
    "    ax.plot(x, dataU_ps, color='r', ls='--', label=r'$\\hat{a}\\hat{b}\\left|TMSS\\right\\rangle$')\n",
    "    ax.plot(x, dataL_psa, color='b', ls='-.', \\\n",
    "            label=r'$\\hat{a}\\hat{a}^\\dagger\\hat{b}\\hat{b}^\\dagger\\left|TMSS\\right\\rangle$')\n",
    "    ax.plot(x, dataU_psa, color='r', ls='-.', \\\n",
    "            label=r'$\\hat{a}\\hat{a}^\\dagger\\hat{b}\\hat{b}^\\dagger\\left|TMSS\\right\\rangle$')\n",
    "    ax.plot(x, dataL_pcssa, color='b', ls=':', \\\n",
    "            label=r'$(t\\hat{a}+r\\hat{a}^\\dagger)(t\\hat{b}+r\\hat{b}^\\dagger)\\left|TMSS\\right\\rangle$')\n",
    "    ax.plot(x, dataU_pcssa, color='r', ls=':', \\\n",
    "            label=r'$(t\\hat{a}+r\\hat{a}^\\dagger)(t\\hat{b}+r\\hat{b}^\\dagger)\\left|TMSS\\right\\rangle$')\n",
    "    \n",
    "    ax.set_xscale('log')\n",
    "    ax.set_yscale('log')\n",
    "#     ax.set_ylim([1e-6, 1])\n",
    "    \n",
    "    ax.set_title(title, fontsize=16)\n",
    "    ax.set_xlabel('$N_s$', fontsize=16)\n",
    "    ax.set_ylabel('$P_{err}$', fontsize=16)\n",
    "\n",
    "    lgd = ax.legend(loc='center left', bbox_to_anchor=(1, 0.5), frameon=None)\n",
    "    \n",
    "    return fig, lgd"
   ]
  },
  {
   "cell_type": "code",
   "execution_count": 5,
   "metadata": {
    "collapsed": false
   },
   "outputs": [],
   "source": [
    "# Setting parameters\n",
    "Nth = 10\n",
    "N = 20\n",
    "kappa = 0.01\n",
    "# N_s (0.01, ..., 0.1)\n",
    "data_Nth_10 = P_ERR_vs_Ns_Data(Nth, N, kappa)"
   ]
  },
  {
   "cell_type": "code",
   "execution_count": 12,
   "metadata": {
    "collapsed": false
   },
   "outputs": [
    {
     "data": {
      "text/plain": [
       "(array([ 0.01    ,  0.012743,  0.016238,  0.020691,  0.026367,  0.033598,\n",
       "         0.042813,  0.054556,  0.069519,  0.088587,  0.112884,  0.143845,\n",
       "         0.183298,  0.233572,  0.297635,  0.379269,  0.483293,  0.615848,\n",
       "         0.78476 ,  1.      ]),\n",
       " array([ 0.99983 ,  0.999803,  0.999769,  0.999725,  0.999671,  0.999603,\n",
       "         0.999518,  0.999412,  0.999279,  0.999115,  0.99891 ,  0.998656,\n",
       "         0.998342,  0.997953,  0.997472,  0.996877,  0.99614 ,  0.995227,\n",
       "         0.994086,  0.992649]),\n",
       " array([ 0.999547,  0.999448,  0.999326,  0.999175,  0.998989,  0.998759,\n",
       "         0.998477,  0.998131,  0.997708,  0.997193,  0.996564,  0.995799,\n",
       "         0.994867,  0.993733,  0.992348,  0.990652,  0.988555,  0.985924,\n",
       "         0.982539,  0.978014]),\n",
       " array([ 0.998631,  0.998342,  0.997998,  0.997592,  0.997117,  0.996563,\n",
       "         0.99592 ,  0.995175,  0.994314,  0.993315,  0.992156,  0.990803,\n",
       "         0.989215,  0.987332,  0.985066,  0.982279,  0.978759,  0.974147,\n",
       "         0.967767,  0.958376]),\n",
       " array([ 0.996325,  0.996259,  0.996223,  0.996209,  0.996205,  0.996199,\n",
       "         0.996173,  0.99611 ,  0.99599 ,  0.995794,  0.995498,  0.995077,\n",
       "         0.9945  ,  0.993731,  0.992725,  0.991428,  0.989767,  0.987643,\n",
       "         0.984903,  0.981287]))"
      ]
     },
     "execution_count": 12,
     "metadata": {},
     "output_type": "execute_result"
    }
   ],
   "source": [
    "data_Nth_10"
   ]
  },
  {
   "cell_type": "code",
   "execution_count": 11,
   "metadata": {
    "collapsed": true
   },
   "outputs": [],
   "source": [
    "np.savetxt(\"data_Nth_10_Ns.cvs\", data_Nth_10)"
   ]
  },
  {
   "cell_type": "code",
   "execution_count": 24,
   "metadata": {
    "collapsed": false
   },
   "outputs": [
    {
     "data": {
      "image/png": "[encoded data removed]",
      "text/plain": [
       "<matplotlib.figure.Figure at 0x7f40b639ead0>"
      ]
     },
     "metadata": {},
     "output_type": "display_data"
    }
   ],
   "source": [
    "Ns, tr_tmss, tr_ps, tr_psa, tr_pcssa = data_Nth_10\n",
    "fig, ax = plt.subplots()\n",
    "ax.set_xlim([0.01, 0.1])\n",
    "ax.set_ylim([0.5, 0.504])\n",
    "ax.plot(Ns, 1 - tr_tmss**1/2, color='b', lw=2, label=r'$\\left|TMSS\\right\\rangle$')\n",
    "ax.plot(Ns, 1 - tr_ps**1/2, color='b', ls='--', lw=2, label=r'$\\hat{a}\\hat{b}\\left|TMSS\\right\\rangle$')\n",
    "ax.plot(Ns, 1 - tr_psa**1/2, color='b', ls='-.', lw=2, \\\n",
    "        label=r'$\\hat{a}\\hat{a}^\\dagger\\hat{b}\\hat{b}^\\dagger\\left|TMSS\\right\\rangle$')\n",
    "ax.plot(Ns, 1 - tr_pcssa**1/2, color='b', ls=':', lw=2, \\\n",
    "        label=r'$(t\\hat{a}+r\\hat{a}^\\dagger)(t\\hat{b}+r\\hat{b}^\\dagger)\\left|TMSS\\right\\rangle$')\n",
    "\n",
    "# ax.plot(Ns, (1 + np.sqrt(1 - tr_tmss**200))/2, color='r', \\\n",
    "#         label=r'$\\left|TMSS\\right\\rangle$')\n",
    "# ax.plot(Ns, (1 + np.sqrt(1 - tr_ps**200))/2, color='r', ls='--', \\\n",
    "#         label=r'$\\hat{a}\\hat{b}\\left|TMSS\\right\\rangle$')\n",
    "# ax.plot(Ns, (1 + np.sqrt(1 - tr_psa**200))/2, color='r', ls='-.', \\\n",
    "#         label=r'$\\hat{a}\\hat{a}^\\dagger\\hat{b}\\hat{r}^\\dagger\\left|TMSS\\right\\rangle$')\n",
    "# ax.plot(Ns, (1 + np.sqrt(1 - tr_pcssa**200))/2, color='r', ls=':', \\\n",
    "#         label=r'$(t\\hat{a}+r\\hat{a}^\\dagger)(t\\hat{b}+r\\hat{b}^\\dagger)\\left|TMSS\\right\\rangle$')\n",
    "\n",
    "ax.set_title('$N_{th}=10$, $\\kappa=0.01$, $M=1$', fontsize=16)\n",
    "ax.set_xlabel('$N_s$', fontsize=16)\n",
    "ax.set_ylabel('$1 - P_{err}$', fontsize=16)\n",
    "lgd = ax.legend(loc='center left', bbox_to_anchor=(1, 0.5), frameon=None)\n",
    "fig.savefig(\"Nth_1e1_ERR_vs_Ns.svg\", bbox_extra_artists=(lgd,), bbox_inches='tight')"
   ]
  },
  {
   "cell_type": "code",
   "execution_count": 14,
   "metadata": {
    "collapsed": false
   },
   "outputs": [],
   "source": [
    "# Setting parameters\n",
    "Nth = 1\n",
    "N = 15\n",
    "kappa = 0.01\n",
    "# N_s (0.01, ..., 0.1)\n",
    "data_Nth_1 = P_ERR_vs_Ns_Data(Nth, N, kappa)"
   ]
  },
  {
   "cell_type": "code",
   "execution_count": 25,
   "metadata": {
    "collapsed": false
   },
   "outputs": [
    {
     "data": {
      "text/plain": [
       "(array([ 0.01    ,  0.012743,  0.016238,  0.020691,  0.026367,  0.033598,\n",
       "         0.042813,  0.054556,  0.069519,  0.088587,  0.112884,  0.143845,\n",
       "         0.183298,  0.233572,  0.297635,  0.379269,  0.483293,  0.615848,\n",
       "         0.78476 ,  1.      ]),\n",
       " array([ 0.999956,  0.999945,  0.999931,  0.999914,  0.999893,  0.999867,\n",
       "         0.999835,  0.999797,  0.999749,  0.999692,  0.999622,  0.999537,\n",
       "         0.999435,  0.999312,  0.999163,  0.998982,  0.99876 ,  0.998486,\n",
       "         0.998138,  0.997678]),\n",
       " array([ 0.999846,  0.99981 ,  0.999766,  0.999712,  0.999648,  0.999571,\n",
       "         0.999479,  0.999369,  0.999237,  0.99908 ,  0.998892,  0.998666,\n",
       "         0.998393,  0.99806 ,  0.99765 ,  0.997138,  0.996481,  0.995589,\n",
       "         0.994245,  0.991991]),\n",
       " array([ 0.999531,  0.999438,  0.999331,  0.999208,  0.999067,  0.998905,\n",
       "         0.99872 ,  0.998506,  0.998258,  0.997968,  0.997626,  0.997217,\n",
       "         0.996724,  0.996122,  0.995368,  0.994375,  0.992923,  0.990486,\n",
       "         0.986016,  0.978164]),\n",
       " array([ 0.998944,  0.998873,  0.99881 ,  0.998753,  0.9987  ,  0.998647,\n",
       "         0.998588,  0.998518,  0.99843 ,  0.998318,  0.998173,  0.997987,\n",
       "         0.997749,  0.997447,  0.997063,  0.996573,  0.995934,  0.995061,\n",
       "         0.993768,  0.991691]))"
      ]
     },
     "execution_count": 25,
     "metadata": {},
     "output_type": "execute_result"
    }
   ],
   "source": [
    "data_Nth_1"
   ]
  },
  {
   "cell_type": "code",
   "execution_count": 27,
   "metadata": {
    "collapsed": true
   },
   "outputs": [],
   "source": [
    "np.savetxt(\"data_Nth_1.csv\", data_Nth_1)"
   ]
  },
  {
   "cell_type": "code",
   "execution_count": 23,
   "metadata": {
    "collapsed": false
   },
   "outputs": [
    {
     "data": {
      "image/png": "[encoded data removed]",
      "text/plain": [
       "<matplotlib.figure.Figure at 0x7f40b5eb7d10>"
      ]
     },
     "metadata": {},
     "output_type": "display_data"
    }
   ],
   "source": [
    "Ns, tr_tmss, tr_ps, tr_psa, tr_pcssa = data_Nth_1\n",
    "fig, ax = plt.subplots()\n",
    "ax.set_xlim([0.01, 0.1])\n",
    "ax.set_ylim([0.5, 0.5015])\n",
    "ax.plot(Ns, 1 - tr_tmss**1/2, color='b', lw=2, label=r'$\\left|TMSS\\right\\rangle$')\n",
    "ax.plot(Ns, 1 - tr_ps**1/2, color='b', ls='--', lw=2, label=r'$\\hat{a}\\hat{b}\\left|TMSS\\right\\rangle$')\n",
    "ax.plot(Ns, 1 - tr_psa**1/2, color='b', ls='-.', lw=2, \\\n",
    "        label=r'$\\hat{a}\\hat{a}^\\dagger\\hat{b}\\hat{b}^\\dagger\\left|TMSS\\right\\rangle$')\n",
    "ax.plot(Ns, 1 - tr_pcssa**1/2, color='b', ls=':', lw=2, \\\n",
    "        label=r'$(t\\hat{a}+r\\hat{a}^\\dagger)(t\\hat{b}+r\\hat{b}^\\dagger)\\left|TMSS\\right\\rangle$')\n",
    "# ax.plot(Ns, (1 + np.sqrt(1 - tr_tmss**200))/2, color='r', label=r'$\\left|TMSS\\right\\rangle$')\n",
    "# ax.plot(Ns, (1 + np.sqrt(1 - tr_ps**200))/2, color='r', ls='--', label=r'$\\hat{a}\\hat{b}\\left|TMSS\\right\\rangle$')\n",
    "# ax.plot(Ns, (1 + np.sqrt(1 - tr_psa**200))/2, color='r', ls='-.', \\\n",
    "#         label=r'$\\hat{a}\\hat{a}^\\dagger\\hat{b}\\hat{r}^\\dagger\\left|TMSS\\right\\rangle$')\n",
    "# ax.plot(Ns, (1 + np.sqrt(1 - tr_pcssa**200))/2, color='r', ls=':', \\\n",
    "#         label=r'$(t\\hat{a}+r\\hat{a}^\\dagger)(t\\hat{b}+r\\hat{b}^\\dagger)\\left|TMSS\\right\\rangle$')\n",
    "ax.set_title('$N_{th}=1$, $\\kappa=0.01$, $M=1$', fontsize=16)\n",
    "ax.set_xlabel('$N_s$', fontsize=16)\n",
    "ax.set_ylabel('$1 - P_{err}$', fontsize=16)\n",
    "lgd = ax.legend(loc='center left', bbox_to_anchor=(1, 0.5), frameon=None)\n",
    "fig.savefig(\"N_1e0_ERR_vs_Ns.svg\", bbox_extra_artists=(lgd,), bbox_inches='tight')"
   ]
  },
  {
   "cell_type": "code",
   "execution_count": 26,
   "metadata": {
    "collapsed": false
   },
   "outputs": [],
   "source": [
    "# Setting parameters\n",
    "Nth = 0.1\n",
    "N = 10\n",
    "kappa = 0.01\n",
    "# N_s (0.01, ..., 0.1)\n",
    "data_Nth_01 = P_ERR_vs_Ns_Data(Nth, N, kappa)"
   ]
  },
  {
   "cell_type": "code",
   "execution_count": 30,
   "metadata": {
    "collapsed": false
   },
   "outputs": [
    {
     "data": {
      "text/plain": [
       "(array([ 0.01    ,  0.012743,  0.016238,  0.020691,  0.026367,  0.033598,\n",
       "         0.042813,  0.054556,  0.069519,  0.088587,  0.112884,  0.143845,\n",
       "         0.183298,  0.233572,  0.297635,  0.379269,  0.483293,  0.615848,\n",
       "         0.78476 ,  1.      ]),\n",
       " array([ 0.999914,  0.999891,  0.999863,  0.999827,  0.999782,  0.999725,\n",
       "         0.999654,  0.999565,  0.999454,  0.999316,  0.999145,  0.998932,\n",
       "         0.998667,  0.99834 ,  0.997933,  0.997429,  0.996801,  0.996017,\n",
       "         0.995031,  0.993789]),\n",
       " array([ 0.999677,  0.999595,  0.999492,  0.999365,  0.999208,  0.999014,\n",
       "         0.998775,  0.998481,  0.998122,  0.997682,  0.997144,  0.996487,\n",
       "         0.995683,  0.994695,  0.993477,  0.991961,  0.990052,  0.987621,\n",
       "         0.984531,  0.980712]),\n",
       " array([ 0.998901,  0.998653,  0.998358,  0.998009,  0.997599,  0.99712 ,\n",
       "         0.996563,  0.995917,  0.995164,  0.994286,  0.993254,  0.992032,\n",
       "         0.990568,  0.988793,  0.986596,  0.983815,  0.98024 ,  0.975716,\n",
       "         0.970298,  0.964342]),\n",
       " array([ 0.996524,  0.996357,  0.996207,  0.996071,  0.995939,  0.995803,\n",
       "         0.995647,  0.995458,  0.995219,  0.994908,  0.994504,  0.993981,\n",
       "         0.993306,  0.992442,  0.99134 ,  0.989934,  0.988144,  0.98587 ,\n",
       "         0.98303 ,  0.979615]))"
      ]
     },
     "execution_count": 30,
     "metadata": {},
     "output_type": "execute_result"
    }
   ],
   "source": [
    "data_Nth_01"
   ]
  },
  {
   "cell_type": "code",
   "execution_count": 31,
   "metadata": {
    "collapsed": true
   },
   "outputs": [],
   "source": [
    "np.savetxt(\"data_Nth_01.csv\", data_Nth_01)"
   ]
  },
  {
   "cell_type": "code",
   "execution_count": 29,
   "metadata": {
    "collapsed": false
   },
   "outputs": [
    {
     "data": {
      "image/png": "[encoded data removed]",
      "text/plain": [
       "<matplotlib.figure.Figure at 0x7f40b8f3b190>"
      ]
     },
     "metadata": {},
     "output_type": "display_data"
    }
   ],
   "source": [
    "Ns, tr_tmss, tr_ps, tr_psa, tr_pcssa = data_Nth_01\n",
    "fig, ax = plt.subplots()\n",
    "ax.set_xlim([0.01, 0.1])\n",
    "ax.set_ylim([0.5, 0.504])\n",
    "ax.plot(Ns, 1 - tr_tmss**1/2, color='b', lw=2, label=r'$\\left|TMSS\\right\\rangle$')\n",
    "ax.plot(Ns, 1 - tr_ps**1/2, color='b', ls='--', lw=2, label=r'$\\hat{a}\\hat{b}\\left|TMSS\\right\\rangle$')\n",
    "ax.plot(Ns, 1 - tr_psa**1/2, color='b', ls='-.', lw=2, \\\n",
    "        label=r'$\\hat{a}\\hat{a}^\\dagger\\hat{b}\\hat{b}^\\dagger\\left|TMSS\\right\\rangle$')\n",
    "ax.plot(Ns, 1 - tr_pcssa**1/2, color='b', ls=':', lw=2, \\\n",
    "        label=r'$(t\\hat{a}+r\\hat{a}^\\dagger)(t\\hat{b}+r\\hat{b}^\\dagger)\\left|TMSS\\right\\rangle$')\n",
    "# ax.plot(Ns, (1 + np.sqrt(1 - tr_tmss**200))/2, color='r', label=r'$\\left|TMSS\\right\\rangle$')\n",
    "# ax.plot(Ns, (1 + np.sqrt(1 - tr_ps**200))/2, color='r', ls='--', label=r'$\\hat{a}\\hat{b}\\left|TMSS\\right\\rangle$')\n",
    "# ax.plot(Ns, (1 + np.sqrt(1 - tr_psa**200))/2, color='r', ls='-.', \\\n",
    "#         label=r'$\\hat{a}\\hat{a}^\\dagger\\hat{b}\\hat{r}^\\dagger\\left|TMSS\\right\\rangle$')\n",
    "# ax.plot(Ns, (1 + np.sqrt(1 - tr_pcssa**200))/2, color='r', ls=':', \\\n",
    "#         label=r'$(t\\hat{a}+r\\hat{a}^\\dagger)(t\\hat{b}+r\\hat{b}^\\dagger)\\left|TMSS\\right\\rangle$')\n",
    "ax.set_title('$N_{th}=0.11$, $\\kappa=0.01$, $M=1$', fontsize=16)\n",
    "ax.set_xlabel('$N_s$', fontsize=16)\n",
    "ax.set_ylabel('$1 - P_{err}$', fontsize=16)\n",
    "lgd = ax.legend(loc='center left', bbox_to_anchor=(1, 0.5), frameon=None)\n",
    "fig.savefig(\"Nth_1e-1_ERR_vs_Ns.svg\", bbox_extra_artists=(lgd,), bbox_inches='tight')"
   ]
  },
  {
   "cell_type": "code",
   "execution_count": 23,
   "metadata": {
    "collapsed": false
   },
   "outputs": [
    {
     "name": "stdout",
     "output_type": "stream",
     "text": [
      "20 (0.00106043350571+0j)\n",
      "25 (0.000251036735441+0j)\n",
      "30 (5.95379958097e-05+0j)\n",
      "35 (1.41267210343e-05+0j)\n",
      "40 (3.35222876585e-06+0j)\n",
      "45 (7.95493498125e-07+0j)\n",
      "50 (1.88773992382e-07+0j)\n",
      "55 (4.47969339213e-08+0j)\n",
      "60 (1.06305213155e-08+0j)\n",
      "65 (2.52267247738e-09+0j)\n",
      "70 (5.98642000454e-10+0j)\n",
      "75 (1.42060552648e-10+0j)\n",
      "80 (3.37116350412e-11+0j)\n",
      "85 (7.99992901794e-12+0j)\n",
      "90 (1.89842065559e-12+0j)\n",
      "95 (4.50504120416e-13+0j)\n"
     ]
    }
   ],
   "source": [
    "for N in xrange(20, 100, 5):\n",
    "    th = thermal_dm(N, 3)\n",
    "    print N, th.full()[-1,-1]"
   ]
  },
  {
   "cell_type": "code",
   "execution_count": 21,
   "metadata": {
    "collapsed": false
   },
   "outputs": [
    {
     "name": "stdout",
     "output_type": "stream",
     "text": [
      "10 (0.000977517106549+0j)\n",
      "15 (3.0518509476e-05+0j)\n",
      "20 (9.53675225902e-07+0j)\n",
      "25 (2.98023232759e-08+0j)\n",
      "30 (9.31322575483e-10+0j)\n",
      "35 (2.91038304576e-11+0j)\n",
      "40 (9.09494701774e-13+0j)\n",
      "45 (2.84217094304e-14+0j)\n"
     ]
    }
   ],
   "source": [
    "for N in xrange(10, 50, 5):\n",
    "    th = thermal_dm(N, 1)\n",
    "    print N, th.full()[-1,-1]"
   ]
  },
  {
   "cell_type": "code",
   "execution_count": 20,
   "metadata": {
    "collapsed": false
   },
   "outputs": [
    {
     "name": "stdout",
     "output_type": "stream",
     "text": [
      "10 (3.85543289444e-10+0j)\n",
      "15 (2.39392049369e-15+0j)\n"
     ]
    }
   ],
   "source": [
    "for N in xrange(10, 20, 5):\n",
    "    th = thermal_dm(N, 0.1)\n",
    "    print N, th.full()[-1,-1]"
   ]
  },
  {
   "cell_type": "markdown",
   "metadata": {},
   "source": [
    "### Test RHO_1(state, N, s, Nth, kappa, r=False)"
   ]
  },
  {
   "cell_type": "code",
   "execution_count": 33,
   "metadata": {
    "collapsed": false
   },
   "outputs": [],
   "source": [
    "state = PSTMSS\n",
    "N = 5\n",
    "s = 0.1\n",
    "Nth = 10\n",
    "kappa = 0.05\n",
    "rho_1 = RHO_1(state, N, s, Nth, kappa)"
   ]
  },
  {
   "cell_type": "code",
   "execution_count": 35,
   "metadata": {
    "collapsed": false
   },
   "outputs": [
    {
     "data": {
      "text/plain": [
       "matrix([[ 0.241424+0.j,  0.001011+0.j,  0.000012+0.j,  0.000014+0.j,\n",
       "          0.218427+0.j,  0.001692+0.j,  0.000101+0.j,  0.197455+0.j,\n",
       "          0.000947+0.j,  0.175437+0.j,  0.020272+0.j,  0.128204+0.j,\n",
       "          0.009547+0.j,  0.000055+0.j,  0.000003+0.j,  0.001011+0.j,\n",
       "          0.008927+0.j,  0.001692+0.j,  0.008344+0.j,  0.000637+0.j,\n",
       "          0.000947+0.j,  0.008350+0.j,  0.000605+0.j,  0.020272+0.j,\n",
       "          0.003015+0.j,  0.000212+0.j,  0.000055+0.j,  0.000205+0.j,\n",
       "          0.000014+0.j,  0.000012+0.j,  0.000300+0.j,  0.000033+0.j,\n",
       "          0.000005+0.j,  0.000637+0.j,  0.000051+0.j,  0.000605+0.j,\n",
       "          0.000085+0.j,  0.000004+0.j,  0.000004+0.j,  0.000014+0.j,\n",
       "          0.000014+0.j,  0.000033+0.j,  0.000004+0.j,  0.000101+0.j,\n",
       "          0.000002+0.j,  0.000003+0.j,  0.000005+0.j]])"
      ]
     },
     "execution_count": 35,
     "metadata": {},
     "output_type": "execute_result"
    }
   ],
   "source": [
    "rho_1[rho_1.full() > 1e-6]"
   ]
  },
  {
   "cell_type": "code",
   "execution_count": 37,
   "metadata": {
    "collapsed": false
   },
   "outputs": [
    {
     "data": {
      "text/plain": [
       "(0.9999999999996492, 0.99999999999964917)"
      ]
     },
     "execution_count": 37,
     "metadata": {},
     "output_type": "execute_result"
    }
   ],
   "source": [
    "rho_1.tr(), rho_1.norm()"
   ]
  },
  {
   "cell_type": "markdown",
   "metadata": {},
   "source": [
    "### Test RHO_0(state, N, s, Nth, r=False)"
   ]
  },
  {
   "cell_type": "code",
   "execution_count": 3,
   "metadata": {
    "collapsed": true
   },
   "outputs": [],
   "source": [
    "state = PSTMSS\n",
    "N = 5\n",
    "s = 0.1\n",
    "Nth = 10\n",
    "rho_0 = RHO_0(state, N, s, Nth)"
   ]
  },
  {
   "cell_type": "code",
   "execution_count": 4,
   "metadata": {
    "collapsed": false
   },
   "outputs": [
    {
     "data": {
      "text/plain": [
       "matrix([[ 0.230451+0.j,  0.209501+0.j,  0.190455+0.j,  0.173141+0.j,\n",
       "          0.157401+0.j,  0.009157+0.j,  0.008324+0.j,  0.007568+0.j,\n",
       "          0.006880+0.j,  0.006254+0.j,  0.000205+0.j,  0.000186+0.j,\n",
       "          0.000169+0.j,  0.000154+0.j,  0.000140+0.j,  0.000004+0.j,\n",
       "          0.000003+0.j,  0.000003+0.j,  0.000003+0.j,  0.000002+0.j]])"
      ]
     },
     "execution_count": 4,
     "metadata": {},
     "output_type": "execute_result"
    }
   ],
   "source": [
    "rho_0[rho_0.full() > 1e-6]"
   ]
  },
  {
   "cell_type": "code",
   "execution_count": 5,
   "metadata": {
    "collapsed": false
   },
   "outputs": [
    {
     "data": {
      "text/plain": [
       "0.99999999999999978"
      ]
     },
     "execution_count": 5,
     "metadata": {},
     "output_type": "execute_result"
    }
   ],
   "source": [
    "rho_0.norm()"
   ]
  },
  {
   "cell_type": "code",
   "execution_count": 6,
   "metadata": {
    "collapsed": false
   },
   "outputs": [],
   "source": [
    "N = 5\n",
    "s = 0.1\n",
    "Nth = 10\n",
    "l = np.tanh(s.real)\n",
    "diag = [l**(2*n) * (n+1)**2 for n in xrange(5)]\n",
    "rho = np.zeros((5, 5))\n",
    "for i in xrange(5):\n",
    "    rho[i, i] = diag[i]\n",
    "rho = Qobj(rho).unit()\n",
    "rho_0_t = tensor(rho, thermal_dm(N, Nth))"
   ]
  },
  {
   "cell_type": "code",
   "execution_count": 7,
   "metadata": {
    "collapsed": false
   },
   "outputs": [
    {
     "data": {
      "text/plain": [
       "matrix([[ 0.230451+0.j,  0.209501+0.j,  0.190455+0.j,  0.173141+0.j,\n",
       "          0.157401+0.j,  0.009157+0.j,  0.008324+0.j,  0.007568+0.j,\n",
       "          0.006880+0.j,  0.006254+0.j,  0.000205+0.j,  0.000186+0.j,\n",
       "          0.000169+0.j,  0.000154+0.j,  0.000140+0.j,  0.000004+0.j,\n",
       "          0.000003+0.j,  0.000003+0.j,  0.000003+0.j,  0.000002+0.j]])"
      ]
     },
     "execution_count": 7,
     "metadata": {},
     "output_type": "execute_result"
    }
   ],
   "source": [
    "rho_0_t[rho_0_t.full() > 1e-6]"
   ]
  },
  {
   "cell_type": "code",
   "execution_count": 15,
   "metadata": {
    "collapsed": false
   },
   "outputs": [
    {
     "data": {
      "text/plain": [
       "(0.9999999999999998, 0.9999999999999998)"
      ]
     },
     "execution_count": 15,
     "metadata": {},
     "output_type": "execute_result"
    }
   ],
   "source": [
    "rho_0.tr(), rho_0_t.tr()"
   ]
  },
  {
   "cell_type": "code",
   "execution_count": 24,
   "metadata": {
    "collapsed": false
   },
   "outputs": [],
   "source": [
    "state = PCSSATMSS\n",
    "N = 5\n",
    "s = 0.1\n",
    "r = 0.3\n",
    "Nth = 10\n",
    "rho_0 = RHO_0(state, N, s, Nth, r)"
   ]
  },
  {
   "cell_type": "code",
   "execution_count": 28,
   "metadata": {
    "collapsed": false
   },
   "outputs": [
    {
     "data": {
      "text/plain": [
       "matrix([[ 0.099720+0.j,  0.045454+0.j,  0.000401+0.j,  0.090655+0.j,\n",
       "          0.041322+0.j,  0.000364+0.j,  0.082413+0.j,  0.037565+0.j,\n",
       "          0.000331+0.j,  0.074921+0.j,  0.034150+0.j,  0.000301+0.j,\n",
       "          0.068110+0.j,  0.031046+0.j,  0.000274+0.j,  0.118710+0.j,\n",
       "          0.007831+0.j,  0.107918+0.j,  0.007119+0.j,  0.098108+0.j,\n",
       "          0.006472+0.j,  0.089189+0.j,  0.005884+0.j,  0.081081+0.j,\n",
       "          0.005349+0.j,  0.045454+0.j,  0.020790+0.j,  0.000209+0.j,\n",
       "          0.041322+0.j,  0.018900+0.j,  0.000190+0.j,  0.037565+0.j,\n",
       "          0.017182+0.j,  0.000173+0.j,  0.034150+0.j,  0.015620+0.j,\n",
       "          0.000157+0.j,  0.031046+0.j,  0.014200+0.j,  0.000143+0.j,\n",
       "          0.007831+0.j,  0.000584+0.j,  0.007119+0.j,  0.000531+0.j,\n",
       "          0.006472+0.j,  0.000483+0.j,  0.005884+0.j,  0.000439+0.j,\n",
       "          0.005349+0.j,  0.000399+0.j,  0.000401+0.j,  0.000209+0.j,\n",
       "          0.000011+0.j,  0.000364+0.j,  0.000190+0.j,  0.000010+0.j,\n",
       "          0.000331+0.j,  0.000173+0.j,  0.000009+0.j,  0.000301+0.j,\n",
       "          0.000157+0.j,  0.000009+0.j,  0.000274+0.j,  0.000143+0.j,\n",
       "          0.000008+0.j]])"
      ]
     },
     "execution_count": 28,
     "metadata": {},
     "output_type": "execute_result"
    }
   ],
   "source": [
    "rho_0[rho_0.full() > 1e-6]"
   ]
  },
  {
   "cell_type": "markdown",
   "metadata": {},
   "source": [
    "### Test PCSSA(N, s, r, t). Passed！"
   ]
  },
  {
   "cell_type": "code",
   "execution_count": 35,
   "metadata": {
    "collapsed": true
   },
   "outputs": [],
   "source": [
    "s, r = 0.1, 0.2\n",
    "t = np.sqrt(1 - r**2)\n",
    "N = 5\n",
    "a = destroy(N)\n",
    "oper = t * a + r * a.dag()\n",
    "tmss = TMSS(N, s)\n",
    "pcssatmss1 = PCSSATMSS(N, s, r)\n",
    "pcssatmss2 = tensor(oper, oper) * tmss\n",
    "pcssatmss2 = pcssatmss2.unit()"
   ]
  },
  {
   "cell_type": "code",
   "execution_count": 36,
   "metadata": {
    "collapsed": false
   },
   "outputs": [
    {
     "data": {
      "text/plain": [
       "matrix([[ 0.799111+0.j,  0.230684+0.j,  0.493364+0.j,  0.039823+0.j,\n",
       "          0.230684+0.j,  0.090407+0.j,  0.005613+0.j,  0.039823+0.j,\n",
       "          0.013120+0.j,  0.005613+0.j,  0.001717+0.j]])"
      ]
     },
     "execution_count": 36,
     "metadata": {},
     "output_type": "execute_result"
    }
   ],
   "source": [
    "pcssatmss1[pcssatmss1.full() > 1e-6]"
   ]
  },
  {
   "cell_type": "code",
   "execution_count": 37,
   "metadata": {
    "collapsed": false
   },
   "outputs": [
    {
     "data": {
      "text/plain": [
       "matrix([[ 0.799112+0.j,  0.230684+0.j,  0.493364+0.j,  0.039823+0.j,\n",
       "          0.230684+0.j,  0.090407+0.j,  0.005613+0.j,  0.039823+0.j,\n",
       "          0.013120+0.j,  0.005613+0.j,  0.001323+0.j]])"
      ]
     },
     "execution_count": 37,
     "metadata": {},
     "output_type": "execute_result"
    }
   ],
   "source": [
    "pcssatmss2[pcssatmss2.full() > 1e-6]"
   ]
  },
  {
   "cell_type": "code",
   "execution_count": 38,
   "metadata": {
    "collapsed": false
   },
   "outputs": [
    {
     "data": {
      "text/plain": [
       "(0.9999999222734024+0j)"
      ]
     },
     "execution_count": 38,
     "metadata": {},
     "output_type": "execute_result"
    }
   ],
   "source": [
    "pcssatmss1.overlap(pcssatmss2)"
   ]
  },
  {
   "cell_type": "code",
   "execution_count": 41,
   "metadata": {
    "collapsed": false
   },
   "outputs": [
    {
     "data": {
      "text/plain": [
       "(0.9999999999999999, 1.0)"
      ]
     },
     "execution_count": 41,
     "metadata": {},
     "output_type": "execute_result"
    }
   ],
   "source": [
    "pcssatmss1.norm(), pcssatmss2.norm()"
   ]
  },
  {
   "cell_type": "code",
   "execution_count": 39,
   "metadata": {
    "collapsed": false
   },
   "outputs": [
    {
     "data": {
      "text/plain": [
       "array([ 0.799111+0.j,  0.000000+0.j,  0.230684+0.j,  0.000000+0.j,\n",
       "        0.000000+0.j,  0.000000+0.j,  0.493364+0.j,  0.000000+0.j,\n",
       "        0.039823+0.j,  0.000000+0.j,  0.230684+0.j,  0.000000+0.j,\n",
       "        0.090407+0.j,  0.000000+0.j,  0.005613+0.j,  0.000000+0.j,\n",
       "        0.039823+0.j,  0.000000+0.j,  0.013120+0.j,  0.000000+0.j,\n",
       "        0.000000+0.j,  0.000000+0.j,  0.005613+0.j,  0.000000+0.j,\n",
       "        0.001717+0.j])"
      ]
     },
     "execution_count": 39,
     "metadata": {},
     "output_type": "execute_result"
    }
   ],
   "source": [
    "pcssatmss1.full().flatten()"
   ]
  },
  {
   "cell_type": "code",
   "execution_count": 40,
   "metadata": {
    "collapsed": false
   },
   "outputs": [
    {
     "data": {
      "text/plain": [
       "array([ 0.799112+0.j,  0.000000+0.j,  0.230684+0.j,  0.000000+0.j,\n",
       "        0.000000+0.j,  0.000000+0.j,  0.493364+0.j,  0.000000+0.j,\n",
       "        0.039823+0.j,  0.000000+0.j,  0.230684+0.j,  0.000000+0.j,\n",
       "        0.090407+0.j,  0.000000+0.j,  0.005613+0.j,  0.000000+0.j,\n",
       "        0.039823+0.j,  0.000000+0.j,  0.013120+0.j,  0.000000+0.j,\n",
       "        0.000000+0.j,  0.000000+0.j,  0.005613+0.j,  0.000000+0.j,\n",
       "        0.001323+0.j])"
      ]
     },
     "execution_count": 40,
     "metadata": {},
     "output_type": "execute_result"
    }
   ],
   "source": [
    "pcssatmss2.full().flatten()"
   ]
  },
  {
   "cell_type": "markdown",
   "metadata": {},
   "source": [
    "### Test PSATMSS(N, s). Passed!"
   ]
  },
  {
   "cell_type": "code",
   "execution_count": 185,
   "metadata": {
    "collapsed": false
   },
   "outputs": [],
   "source": [
    "s = 0.5\n",
    "N = 10\n",
    "a = destroy(N)\n",
    "tmss = TMSS(N, s)\n",
    "psatmss1 = PSATMSS(N, s)\n",
    "psatmss2 = tensor(a * a.dag(), a * a.dag()) * tmss\n",
    "psatmss2 = psatmss2.unit()"
   ]
  },
  {
   "cell_type": "code",
   "execution_count": 186,
   "metadata": {
    "collapsed": false
   },
   "outputs": [
    {
     "data": {
      "text/plain": [
       "matrix([[ 0.279206+0.j,  0.516103+0.j,  0.536626+0.j,  0.440860+0.j,\n",
       "          0.318327+0.j,  0.211830+0.j,  0.133240+0.j,  0.080421+0.j,\n",
       "          0.047036+0.j,  0.026834+0.j]])"
      ]
     },
     "execution_count": 186,
     "metadata": {},
     "output_type": "execute_result"
    }
   ],
   "source": [
    "psatmss1[psatmss1.full() > 1e-6]"
   ]
  },
  {
   "cell_type": "code",
   "execution_count": 187,
   "metadata": {
    "collapsed": false
   },
   "outputs": [
    {
     "data": {
      "text/plain": [
       "matrix([[ 0.279307+0.j,  0.516289+0.j,  0.536819+0.j,  0.441019+0.j,\n",
       "          0.318441+0.j,  0.211906+0.j,  0.133288+0.j,  0.080450+0.j,\n",
       "          0.047053+0.j]])"
      ]
     },
     "execution_count": 187,
     "metadata": {},
     "output_type": "execute_result"
    }
   ],
   "source": [
    "psatmss2[psatmss2.full() > 1e-6]"
   ]
  },
  {
   "cell_type": "code",
   "execution_count": 188,
   "metadata": {
    "collapsed": false
   },
   "outputs": [
    {
     "data": {
      "text/plain": [
       "(0.99963989000203024+0j)"
      ]
     },
     "execution_count": 188,
     "metadata": {},
     "output_type": "execute_result"
    }
   ],
   "source": [
    "psatmss1.overlap(psatmss2)"
   ]
  },
  {
   "cell_type": "code",
   "execution_count": 189,
   "metadata": {
    "collapsed": false
   },
   "outputs": [
    {
     "data": {
      "text/plain": [
       "(0.9999999999999999, 1.0)"
      ]
     },
     "execution_count": 189,
     "metadata": {},
     "output_type": "execute_result"
    }
   ],
   "source": [
    "psatmss1.norm(), psatmss2.norm()"
   ]
  },
  {
   "cell_type": "code",
   "execution_count": 190,
   "metadata": {
    "collapsed": false
   },
   "outputs": [
    {
     "data": {
      "text/plain": [
       "array([ 0.279206+0.j,  0.000000+0.j,  0.000000+0.j,  0.000000+0.j,\n",
       "        0.000000+0.j,  0.000000+0.j,  0.000000+0.j,  0.000000+0.j,\n",
       "        0.000000+0.j,  0.000000+0.j,  0.000000+0.j,  0.516103+0.j,\n",
       "        0.000000+0.j,  0.000000+0.j,  0.000000+0.j,  0.000000+0.j,\n",
       "        0.000000+0.j,  0.000000+0.j,  0.000000+0.j,  0.000000+0.j,\n",
       "        0.000000+0.j,  0.000000+0.j,  0.536626+0.j,  0.000000+0.j,\n",
       "        0.000000+0.j,  0.000000+0.j,  0.000000+0.j,  0.000000+0.j,\n",
       "        0.000000+0.j,  0.000000+0.j,  0.000000+0.j,  0.000000+0.j,\n",
       "        0.000000+0.j,  0.440860+0.j,  0.000000+0.j,  0.000000+0.j,\n",
       "        0.000000+0.j,  0.000000+0.j,  0.000000+0.j,  0.000000+0.j,\n",
       "        0.000000+0.j,  0.000000+0.j,  0.000000+0.j,  0.000000+0.j,\n",
       "        0.318327+0.j,  0.000000+0.j,  0.000000+0.j,  0.000000+0.j,\n",
       "        0.000000+0.j,  0.000000+0.j,  0.000000+0.j,  0.000000+0.j,\n",
       "        0.000000+0.j,  0.000000+0.j,  0.000000+0.j,  0.211830+0.j,\n",
       "        0.000000+0.j,  0.000000+0.j,  0.000000+0.j,  0.000000+0.j,\n",
       "        0.000000+0.j,  0.000000+0.j,  0.000000+0.j,  0.000000+0.j,\n",
       "        0.000000+0.j,  0.000000+0.j,  0.133240+0.j,  0.000000+0.j,\n",
       "        0.000000+0.j,  0.000000+0.j,  0.000000+0.j,  0.000000+0.j,\n",
       "        0.000000+0.j,  0.000000+0.j,  0.000000+0.j,  0.000000+0.j,\n",
       "        0.000000+0.j,  0.080421+0.j,  0.000000+0.j,  0.000000+0.j,\n",
       "        0.000000+0.j,  0.000000+0.j,  0.000000+0.j,  0.000000+0.j,\n",
       "        0.000000+0.j,  0.000000+0.j,  0.000000+0.j,  0.000000+0.j,\n",
       "        0.047036+0.j,  0.000000+0.j,  0.000000+0.j,  0.000000+0.j,\n",
       "        0.000000+0.j,  0.000000+0.j,  0.000000+0.j,  0.000000+0.j,\n",
       "        0.000000+0.j,  0.000000+0.j,  0.000000+0.j,  0.026834+0.j])"
      ]
     },
     "execution_count": 190,
     "metadata": {},
     "output_type": "execute_result"
    }
   ],
   "source": [
    "psatmss1.full().flatten()"
   ]
  },
  {
   "cell_type": "code",
   "execution_count": 191,
   "metadata": {
    "collapsed": false
   },
   "outputs": [
    {
     "data": {
      "text/plain": [
       "array([ 0.279307+0.j,  0.000000+0.j,  0.000000+0.j,  0.000000+0.j,\n",
       "        0.000000+0.j,  0.000000+0.j,  0.000000+0.j,  0.000000+0.j,\n",
       "        0.000000+0.j,  0.000000+0.j,  0.000000+0.j,  0.516289+0.j,\n",
       "        0.000000+0.j,  0.000000+0.j,  0.000000+0.j,  0.000000+0.j,\n",
       "        0.000000+0.j,  0.000000+0.j,  0.000000+0.j,  0.000000+0.j,\n",
       "        0.000000+0.j,  0.000000+0.j,  0.536819+0.j,  0.000000+0.j,\n",
       "        0.000000+0.j,  0.000000+0.j,  0.000000+0.j,  0.000000+0.j,\n",
       "        0.000000+0.j,  0.000000+0.j,  0.000000+0.j,  0.000000+0.j,\n",
       "        0.000000+0.j,  0.441019+0.j,  0.000000+0.j,  0.000000+0.j,\n",
       "        0.000000+0.j,  0.000000+0.j,  0.000000+0.j,  0.000000+0.j,\n",
       "        0.000000+0.j,  0.000000+0.j,  0.000000+0.j,  0.000000+0.j,\n",
       "        0.318441+0.j,  0.000000+0.j,  0.000000+0.j,  0.000000+0.j,\n",
       "        0.000000+0.j,  0.000000+0.j,  0.000000+0.j,  0.000000+0.j,\n",
       "        0.000000+0.j,  0.000000+0.j,  0.000000+0.j,  0.211906+0.j,\n",
       "        0.000000+0.j,  0.000000+0.j,  0.000000+0.j,  0.000000+0.j,\n",
       "        0.000000+0.j,  0.000000+0.j,  0.000000+0.j,  0.000000+0.j,\n",
       "        0.000000+0.j,  0.000000+0.j,  0.133288+0.j,  0.000000+0.j,\n",
       "        0.000000+0.j,  0.000000+0.j,  0.000000+0.j,  0.000000+0.j,\n",
       "        0.000000+0.j,  0.000000+0.j,  0.000000+0.j,  0.000000+0.j,\n",
       "        0.000000+0.j,  0.080450+0.j,  0.000000+0.j,  0.000000+0.j,\n",
       "        0.000000+0.j,  0.000000+0.j,  0.000000+0.j,  0.000000+0.j,\n",
       "        0.000000+0.j,  0.000000+0.j,  0.000000+0.j,  0.000000+0.j,\n",
       "        0.047053+0.j,  0.000000+0.j,  0.000000+0.j,  0.000000+0.j,\n",
       "        0.000000+0.j,  0.000000+0.j,  0.000000+0.j,  0.000000+0.j,\n",
       "        0.000000+0.j,  0.000000+0.j,  0.000000+0.j,  0.000000+0.j])"
      ]
     },
     "execution_count": 191,
     "metadata": {},
     "output_type": "execute_result"
    }
   ],
   "source": [
    "psatmss2.full().flatten()"
   ]
  },
  {
   "cell_type": "markdown",
   "metadata": {},
   "source": [
    "### Test PSTMSS(N, s). Passed!"
   ]
  },
  {
   "cell_type": "code",
   "execution_count": 192,
   "metadata": {
    "collapsed": false
   },
   "outputs": [],
   "source": [
    "s = 0.5\n",
    "N = 10\n",
    "a = destroy(N)\n",
    "tmss = TMSS(N, s)\n",
    "pstmss1 = PSTMSS(N, s)\n",
    "pstmss2 = tensor(a, a) * tmss\n",
    "pstmss2 = pstmss2.unit()\n",
    "pstmss3 = tensor(a, qeye(N)) * tensor(a.dag(), qeye(N)) * tmss\n",
    "pstmss3 = pstmss3.unit()"
   ]
  },
  {
   "cell_type": "code",
   "execution_count": 193,
   "metadata": {
    "collapsed": false
   },
   "outputs": [
    {
     "data": {
      "text/plain": [
       "matrix([[ 0.633109+0.j,  0.585141+0.j,  0.405605+0.j,  0.249916+0.j,\n",
       "          0.144363+0.j,  0.080055+0.j,  0.043161+0.j,  0.022795+0.j,\n",
       "          0.011851+0.j,  0.006085+0.j]])"
      ]
     },
     "execution_count": 193,
     "metadata": {},
     "output_type": "execute_result"
    }
   ],
   "source": [
    "pstmss1[pstmss1.full() > 1e-6]"
   ]
  },
  {
   "cell_type": "code",
   "execution_count": 194,
   "metadata": {
    "collapsed": false
   },
   "outputs": [
    {
     "data": {
      "text/plain": [
       "matrix([[ 0.633120+0.j,  0.585152+0.j,  0.405613+0.j,  0.249921+0.j,\n",
       "          0.144366+0.j,  0.080057+0.j,  0.043162+0.j,  0.022795+0.j,\n",
       "          0.011851+0.j]])"
      ]
     },
     "execution_count": 194,
     "metadata": {},
     "output_type": "execute_result"
    }
   ],
   "source": [
    "pstmss2[pstmss2.full() > 1e-6]"
   ]
  },
  {
   "cell_type": "code",
   "execution_count": 195,
   "metadata": {
    "collapsed": false
   },
   "outputs": [
    {
     "data": {
      "text/plain": [
       "matrix([[ 0.633120+0.j,  0.585152+0.j,  0.405613+0.j,  0.249921+0.j,\n",
       "          0.144366+0.j,  0.080057+0.j,  0.043162+0.j,  0.022795+0.j,\n",
       "          0.011851+0.j]])"
      ]
     },
     "execution_count": 195,
     "metadata": {},
     "output_type": "execute_result"
    }
   ],
   "source": [
    "pstmss3[pstmss2.full() > 1e-6]"
   ]
  },
  {
   "cell_type": "code",
   "execution_count": 196,
   "metadata": {
    "collapsed": false
   },
   "outputs": [
    {
     "data": {
      "text/plain": [
       "((0.99998148735935533+0j), (0.99998148735935544+0j), (0.99999999999999989+0j))"
      ]
     },
     "execution_count": 196,
     "metadata": {},
     "output_type": "execute_result"
    }
   ],
   "source": [
    "pstmss1.overlap(pstmss2), pstmss1.overlap(pstmss3), pstmss2.overlap(pstmss3)"
   ]
  },
  {
   "cell_type": "code",
   "execution_count": 197,
   "metadata": {
    "collapsed": false
   },
   "outputs": [
    {
     "data": {
      "text/plain": [
       "(1.0, 0.9999999999999999, 1.0)"
      ]
     },
     "execution_count": 197,
     "metadata": {},
     "output_type": "execute_result"
    }
   ],
   "source": [
    "pstmss1.norm(), pstmss2.norm(), pstmss3.norm()"
   ]
  },
  {
   "cell_type": "markdown",
   "metadata": {},
   "source": [
    "### Test TMSS(N, s) and tmso(N, s). Passed!"
   ]
  },
  {
   "cell_type": "code",
   "execution_count": 198,
   "metadata": {
    "collapsed": false
   },
   "outputs": [],
   "source": [
    "s = 0.5\n",
    "N = 10\n",
    "tmss1 = TMSS(N, s)\n",
    "vacuum = tensor(basis(N, 0), basis(N, 0))\n",
    "tmss2 = tmso(N, s) * vacuum"
   ]
  },
  {
   "cell_type": "code",
   "execution_count": 199,
   "metadata": {
    "collapsed": false
   },
   "outputs": [
    {
     "data": {
      "text/plain": [
       "matrix([[ 0.886819+0.j,  0.409814+0.j,  0.189382+0.j,  0.087517+0.j,\n",
       "          0.040443+0.j,  0.018689+0.j,  0.008637+0.j,  0.003991+0.j,\n",
       "          0.001844+0.j,  0.000852+0.j]])"
      ]
     },
     "execution_count": 199,
     "metadata": {},
     "output_type": "execute_result"
    }
   ],
   "source": [
    "tmss1[tmss1.full() > 1e-6]"
   ]
  },
  {
   "cell_type": "code",
   "execution_count": 200,
   "metadata": {
    "collapsed": false
   },
   "outputs": [
    {
     "data": {
      "text/plain": [
       "matrix([[ 0.886819+0.j,  0.409814+0.j,  0.189382+0.j,  0.087517+0.j,\n",
       "          0.040443+0.j,  0.018691+0.j,  0.008631+0.j,  0.004014+0.j,\n",
       "          0.001775+0.j,  0.001031+0.j]])"
      ]
     },
     "execution_count": 200,
     "metadata": {},
     "output_type": "execute_result"
    }
   ],
   "source": [
    "tmss2[tmss2.full() > 1e-6]"
   ]
  },
  {
   "cell_type": "code",
   "execution_count": 201,
   "metadata": {
    "collapsed": false
   },
   "outputs": [
    {
     "data": {
      "text/plain": [
       "(0.99999998127061041+0j)"
      ]
     },
     "execution_count": 201,
     "metadata": {},
     "output_type": "execute_result"
    }
   ],
   "source": [
    "tmss1.overlap(tmss2)"
   ]
  },
  {
   "cell_type": "code",
   "execution_count": 202,
   "metadata": {
    "collapsed": false
   },
   "outputs": [
    {
     "data": {
      "text/plain": [
       "(1.0, 1.0)"
      ]
     },
     "execution_count": 202,
     "metadata": {},
     "output_type": "execute_result"
    }
   ],
   "source": [
    "tmss1.norm(), tmss2.norm()"
   ]
  }
 ],
 "metadata": {
  "kernelspec": {
   "display_name": "Python 2",
   "language": "python",
   "name": "python2"
  },
  "language_info": {
   "codemirror_mode": {
    "name": "ipython",
    "version": 2
   },
   "file_extension": ".py",
   "mimetype": "text/x-python",
   "name": "python",
   "nbconvert_exporter": "python",
   "pygments_lexer": "ipython2",
   "version": "2.7.13"
  }
 },
 "nbformat": 4,
 "nbformat_minor": 0
}
