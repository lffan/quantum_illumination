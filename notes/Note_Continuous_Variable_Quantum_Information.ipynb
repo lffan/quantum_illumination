{
 "cells": [
  {
   "cell_type": "markdown",
   "metadata": {},
   "source": [
    "# Continuous Variable Quantum Information\n",
    "\n",
    "- Author: Longfei Fan\n",
    "- Created Date: 07/01/2016\n",
    "- The Second Last Modified: 11/15/2016\n",
    "- The Lasd Modified: 11/18/2016\n",
    "\n",
    "This file shows some useful functions in Gausssian quantum information, inlcuding\n",
    "\n",
    "1. Dispalcement Operator\n",
    "2. Single-Mode Squeezing Operator\n",
    "3. Two-Mode Squeezing Operator\n",
    "4. Two-Mode Mixing (Beam Splitter) Operator\n",
    "\n",
    "Examples are given with `QuTip`."
   ]
  },
  {
   "cell_type": "code",
   "execution_count": 1,
   "metadata": {
    "collapsed": true
   },
   "outputs": [],
   "source": [
    "from qutip import *\n",
    "import numpy as np\n",
    "import math as mt"
   ]
  },
  {
   "cell_type": "code",
   "execution_count": 2,
   "metadata": {
    "collapsed": false
   },
   "outputs": [],
   "source": [
    "np.set_printoptions(threshold='nan', precision=6, suppress=True)"
   ]
  },
  {
   "cell_type": "code",
   "execution_count": 3,
   "metadata": {
    "collapsed": true
   },
   "outputs": [],
   "source": [
    "def comb(N, k):\n",
    "    f = mt.factorial\n",
    "    return f(N) / f(k) / f(N-k)"
   ]
  },
  {
   "cell_type": "markdown",
   "metadata": {},
   "source": [
    "# I. Preparation\n",
    "\n",
    "## 1. Displacement Operator\n",
    "\n",
    "$$ D(\\alpha) = \\exp\\left(\\alpha \\hat{a}^{\\dagger} - \\alpha^* \\hat{a}\\right) $$\n",
    "\n",
    "Acting on the vacuum state gives the coherent state\n",
    "$$ D(\\alpha) \\left|0 \\right\\rangle = \\left| \\alpha \\right\\rangle $$\n",
    "\n",
    "The normal ordering is\n",
    "$$ D(\\alpha) = \\exp(\\alpha \\hat{a}^{\\dagger}) \\exp(-\\alpha^* \\hat{a}) \\exp(-|\\alpha|^2/2) $$\n",
    "\n",
    "The mode evolution is\n",
    "$$ D(\\alpha)^{\\dagger} a D(\\alpha) = a + \\alpha $$\n",
    "$$ D(\\alpha)^{\\dagger} a^\\dagger D(\\alpha) = a^* + \\alpha$$"
   ]
  },
  {
   "cell_type": "code",
   "execution_count": 6,
   "metadata": {
    "collapsed": false
   },
   "outputs": [
    {
     "data": {
      "text/latex": [
       "Quantum object: dims = [[5], [5]], shape = [5, 5], type = oper, isherm = False\\begin{equation*}\\left(\\begin{array}{*{11}c}0.995 & -0.100 & 0.007 & -4.062\\times10^{-04} & 2.034\\times10^{-05}\\\\0.100 & 0.985 & -0.140 & 0.012 & -8.124\\times10^{-04}\\\\0.007 & 0.140 & 0.975 & -0.171 & 0.017\\\\4.062\\times10^{-04} & 0.012 & 0.171 & 0.965 & -0.198\\\\2.034\\times10^{-05} & 8.124\\times10^{-04} & 0.017 & 0.198 & 0.980\\\\\\end{array}\\right)\\end{equation*}"
      ],
      "text/plain": [
       "Quantum object: dims = [[5], [5]], shape = [5, 5], type = oper, isherm = False\n",
       "Qobj data =\n",
       "[[ 0.995012 -0.099501  0.007036 -0.000406  0.00002 ]\n",
       " [ 0.099501  0.985062 -0.140012  0.012146 -0.000812]\n",
       " [ 0.007036  0.140012  0.975162 -0.170618  0.017191]\n",
       " [ 0.000406  0.012146  0.170618  0.965229 -0.197676]\n",
       " [ 0.00002   0.000812  0.017191  0.197676  0.980116]]"
      ]
     },
     "execution_count": 6,
     "metadata": {},
     "output_type": "execute_result"
    }
   ],
   "source": [
    "d = displace(5, 0.1)\n",
    "d"
   ]
  },
  {
   "cell_type": "code",
   "execution_count": 7,
   "metadata": {
    "collapsed": false
   },
   "outputs": [
    {
     "data": {
      "text/latex": [
       "Quantum object: dims = [[5], [1]], shape = [5, 1], type = ket\\begin{equation*}\\left(\\begin{array}{*{11}c}0.995\\\\0.100\\\\0.007\\\\4.062\\times10^{-04}\\\\2.034\\times10^{-05}\\\\\\end{array}\\right)\\end{equation*}"
      ],
      "text/plain": [
       "Quantum object: dims = [[5], [1]], shape = [5, 1], type = ket\n",
       "Qobj data =\n",
       "[[ 0.995012]\n",
       " [ 0.099501]\n",
       " [ 0.007036]\n",
       " [ 0.000406]\n",
       " [ 0.00002 ]]"
      ]
     },
     "execution_count": 7,
     "metadata": {},
     "output_type": "execute_result"
    }
   ],
   "source": [
    "d * basis(5, 0)"
   ]
  },
  {
   "cell_type": "code",
   "execution_count": 8,
   "metadata": {
    "collapsed": false
   },
   "outputs": [
    {
     "data": {
      "text/latex": [
       "Quantum object: dims = [[5], [1]], shape = [5, 1], type = ket\\begin{equation*}\\left(\\begin{array}{*{11}c}0.995\\\\0.100\\\\0.007\\\\4.062\\times10^{-04}\\\\2.034\\times10^{-05}\\\\\\end{array}\\right)\\end{equation*}"
      ],
      "text/plain": [
       "Quantum object: dims = [[5], [1]], shape = [5, 1], type = ket\n",
       "Qobj data =\n",
       "[[ 0.995012]\n",
       " [ 0.099501]\n",
       " [ 0.007036]\n",
       " [ 0.000406]\n",
       " [ 0.00002 ]]"
      ]
     },
     "execution_count": 8,
     "metadata": {},
     "output_type": "execute_result"
    }
   ],
   "source": [
    "coherent(5, 0.1)"
   ]
  },
  {
   "cell_type": "markdown",
   "metadata": {},
   "source": [
    "## 2. Single-mode Squeezing Operator\n",
    "\n",
    "### $$ S(\\xi) = \\exp \\left(\\frac{\\xi^*}{2} \\hat{a}^2 - \\frac{\\xi}{2} \\hat{a}^{\\dagger 2} \\right) $$"
   ]
  },
  {
   "cell_type": "code",
   "execution_count": 9,
   "metadata": {
    "collapsed": true
   },
   "outputs": [],
   "source": [
    "S1 = squeeze(5, 0.1)"
   ]
  },
  {
   "cell_type": "code",
   "execution_count": 10,
   "metadata": {
    "collapsed": false
   },
   "outputs": [
    {
     "data": {
      "text/latex": [
       "Quantum object: dims = [[5], [5]], shape = [5, 5], type = oper, isherm = False\\begin{equation*}\\left(\\begin{array}{*{11}c}0.998 & 0.0 & 0.070 & 0.0 & 0.006\\\\0.0 & 0.993 & 0.0 & 0.122 & 0.0\\\\-0.070 & 0.0 & 0.983 & 0.0 & 0.172\\\\0.0 & -0.122 & 0.0 & 0.993 & 0.0\\\\0.006 & 0.0 & -0.172 & 0.0 & 0.985\\\\\\end{array}\\right)\\end{equation*}"
      ],
      "text/plain": [
       "Quantum object: dims = [[5], [5]], shape = [5, 5], type = oper, isherm = False\n",
       "Qobj data =\n",
       "[[ 0.997507  0.        0.070299  0.        0.006106]\n",
       " [ 0.        0.992509  0.        0.122169  0.      ]\n",
       " [-0.070299  0.        0.982551  0.        0.172196]\n",
       " [ 0.       -0.122169  0.        0.992509  0.      ]\n",
       " [ 0.006106  0.       -0.172196  0.        0.985044]]"
      ]
     },
     "execution_count": 10,
     "metadata": {},
     "output_type": "execute_result"
    }
   ],
   "source": [
    "S1"
   ]
  },
  {
   "cell_type": "code",
   "execution_count": 11,
   "metadata": {
    "collapsed": false
   },
   "outputs": [],
   "source": [
    "smsv = S1 * basis(5, 0)"
   ]
  },
  {
   "cell_type": "code",
   "execution_count": 12,
   "metadata": {
    "collapsed": false
   },
   "outputs": [
    {
     "data": {
      "text/latex": [
       "Quantum object: dims = [[5], [1]], shape = [5, 1], type = ket\\begin{equation*}\\left(\\begin{array}{*{11}c}0.998\\\\0.0\\\\-0.070\\\\0.0\\\\0.006\\\\\\end{array}\\right)\\end{equation*}"
      ],
      "text/plain": [
       "Quantum object: dims = [[5], [1]], shape = [5, 1], type = ket\n",
       "Qobj data =\n",
       "[[ 0.997507]\n",
       " [ 0.      ]\n",
       " [-0.070299]\n",
       " [ 0.      ]\n",
       " [ 0.006106]]"
      ]
     },
     "execution_count": 12,
     "metadata": {},
     "output_type": "execute_result"
    }
   ],
   "source": [
    "smsv"
   ]
  },
  {
   "cell_type": "code",
   "execution_count": 13,
   "metadata": {
    "collapsed": true
   },
   "outputs": [],
   "source": [
    "S11 = (0.05 * (- create(5) ** 2 + destroy(5) ** 2)).expm()"
   ]
  },
  {
   "cell_type": "code",
   "execution_count": 14,
   "metadata": {
    "collapsed": false
   },
   "outputs": [
    {
     "data": {
      "text/latex": [
       "Quantum object: dims = [[5], [5]], shape = [5, 5], type = oper, isherm = False\\begin{equation*}\\left(\\begin{array}{*{11}c}0.998 & 0.0 & 0.070 & 0.0 & 0.006\\\\0.0 & 0.993 & 0.0 & 0.122 & 0.0\\\\-0.070 & 0.0 & 0.983 & 0.0 & 0.172\\\\0.0 & -0.122 & 0.0 & 0.993 & 0.0\\\\0.006 & 0.0 & -0.172 & 0.0 & 0.985\\\\\\end{array}\\right)\\end{equation*}"
      ],
      "text/plain": [
       "Quantum object: dims = [[5], [5]], shape = [5, 5], type = oper, isherm = False\n",
       "Qobj data =\n",
       "[[ 0.997507  0.        0.070299  0.        0.006106]\n",
       " [ 0.        0.992509  0.        0.122169  0.      ]\n",
       " [-0.070299  0.        0.982551  0.        0.172196]\n",
       " [ 0.       -0.122169  0.        0.992509  0.      ]\n",
       " [ 0.006106  0.       -0.172196  0.        0.985044]]"
      ]
     },
     "execution_count": 14,
     "metadata": {},
     "output_type": "execute_result"
    }
   ],
   "source": [
    "S11"
   ]
  },
  {
   "cell_type": "code",
   "execution_count": 15,
   "metadata": {
    "collapsed": false
   },
   "outputs": [
    {
     "data": {
      "text/latex": [
       "Quantum object: dims = [[5], [1]], shape = [5, 1], type = ket\\begin{equation*}\\left(\\begin{array}{*{11}c}0.998\\\\0.0\\\\-0.070\\\\0.0\\\\0.006\\\\\\end{array}\\right)\\end{equation*}"
      ],
      "text/plain": [
       "Quantum object: dims = [[5], [1]], shape = [5, 1], type = ket\n",
       "Qobj data =\n",
       "[[ 0.997507]\n",
       " [ 0.      ]\n",
       " [-0.070299]\n",
       " [ 0.      ]\n",
       " [ 0.006106]]"
      ]
     },
     "execution_count": 15,
     "metadata": {},
     "output_type": "execute_result"
    }
   ],
   "source": [
    "S11 * basis(5, 0)"
   ]
  },
  {
   "cell_type": "code",
   "execution_count": 17,
   "metadata": {
    "collapsed": false
   },
   "outputs": [
    {
     "data": {
      "text/plain": [
       "array([ 0.997507, -0.0703  ,  0.006068, -0.000552,  0.000051])"
      ]
     },
     "execution_count": 17,
     "metadata": {},
     "output_type": "execute_result"
    }
   ],
   "source": [
    "s = 0.1\n",
    "[(- np.tanh(s))**k * np.sqrt(mt.factorial(2*k)) \\\n",
    " / (2**k * mt.factorial(k)) for k in xrange(5)] / np.sqrt(np.cosh(s))"
   ]
  },
  {
   "cell_type": "markdown",
   "metadata": {},
   "source": [
    "## 3. Two-mode Squeezing Operator\n",
    "\n",
    "$$ S_2(\\xi) = \\exp \\left(-\\xi^*\\hat{a}\\hat{b} + \\xi\\hat{a}^{\\dagger}\\hat{b}^{\\dagger}\\right) $$"
   ]
  },
  {
   "cell_type": "code",
   "execution_count": 18,
   "metadata": {
    "collapsed": true
   },
   "outputs": [],
   "source": [
    "def two_mode_squeezing(N, s):\n",
    "    \"\"\" Two-mode squeezing operator. \n",
    "    Photon number is truncated to N\"\"\"\n",
    "    a = destroy(N)\n",
    "    b = destroy(N)\n",
    "    return (- np.conj(s) * tensor(a, b) + \n",
    "            s * tensor(a.dag(), b.dag())).expm()"
   ]
  },
  {
   "cell_type": "code",
   "execution_count": 19,
   "metadata": {
    "collapsed": false
   },
   "outputs": [],
   "source": [
    "S2 = two_mode_squeezing(5, 0.1)\n",
    "vaccum = tensor(basis(5, 0), basis(5, 0))"
   ]
  },
  {
   "cell_type": "code",
   "execution_count": 20,
   "metadata": {
    "collapsed": false
   },
   "outputs": [
    {
     "data": {
      "text/plain": [
       "array([[ 0.995021+0.j,  0.000000+0.j,  0.000000+0.j,  0.000000+0.j,\n",
       "         0.000000+0.j,  0.000000+0.j,  0.099172+0.j,  0.000000+0.j,\n",
       "         0.000000+0.j,  0.000000+0.j,  0.000000+0.j,  0.000000+0.j,\n",
       "         0.009884+0.j,  0.000000+0.j,  0.000000+0.j,  0.000000+0.j,\n",
       "         0.000000+0.j,  0.000000+0.j,  0.000985+0.j,  0.000000+0.j,\n",
       "         0.000000+0.j,  0.000000+0.j,  0.000000+0.j,  0.000000+0.j,\n",
       "         0.000099+0.j]])"
      ]
     },
     "execution_count": 20,
     "metadata": {},
     "output_type": "execute_result"
    }
   ],
   "source": [
    "tmsv = S2 * vaccum\n",
    "tmsv.trans().full()"
   ]
  },
  {
   "cell_type": "code",
   "execution_count": 21,
   "metadata": {
    "collapsed": false
   },
   "outputs": [
    {
     "data": {
      "text/plain": [
       "1.0"
      ]
     },
     "execution_count": 21,
     "metadata": {},
     "output_type": "execute_result"
    }
   ],
   "source": [
    "tmsv.norm()"
   ]
  },
  {
   "cell_type": "code",
   "execution_count": 22,
   "metadata": {
    "collapsed": true
   },
   "outputs": [],
   "source": [
    "def tmss(N, s):\n",
    "    \"\"\" Two-mode squeezing vaccum\"\"\"\n",
    "    v = np.sinh(s)\n",
    "    u = np.cosh(s)\n",
    "    tmsv = [(v/u) ** k * tensor(basis(N, k), basis(N, k)) \n",
    "            for k in xrange(N)]\n",
    "    return np.sum(tmsv) / u"
   ]
  },
  {
   "cell_type": "code",
   "execution_count": 23,
   "metadata": {
    "collapsed": false
   },
   "outputs": [],
   "source": [
    "state = tmss(5, 0.1)"
   ]
  },
  {
   "cell_type": "code",
   "execution_count": 24,
   "metadata": {
    "collapsed": false
   },
   "outputs": [
    {
     "data": {
      "text/plain": [
       "(0.99999999995130029+0j)"
      ]
     },
     "execution_count": 24,
     "metadata": {},
     "output_type": "execute_result"
    }
   ],
   "source": [
    "tmsv.overlap(state)"
   ]
  },
  {
   "cell_type": "markdown",
   "metadata": {},
   "source": [
    "## 4. Two-mode Mixing (Beam-splitter Operator)\n",
    "\n",
    "$$ U(\\xi) = \\exp \\left(\\xi\\hat{a}^{\\dagger}\\hat{b} - \\xi^*\\hat{a}\\hat{b}^{\\dagger}\\right) $$\n",
    "<img src='BS.png', width=300>\n",
    "**IMPORTANT:** By convention, if subscripts are omitted, the input state is in the oder of $\\left|n\\right\\rangle_0\\left|m\\right\\rangle_1 $, and the output state is in the order of $\\left|k\\right\\rangle_2\\left|l\\right\\rangle_3$. 0, 1, 2, and 3 are shown in the above picture."
   ]
  },
  {
   "cell_type": "code",
   "execution_count": 5,
   "metadata": {
    "collapsed": true
   },
   "outputs": [],
   "source": [
    "def two_mode_mixing(N, s):\n",
    "    \"\"\" Two-mode mixing operator. \n",
    "    Photon number is truncated at N. \"\"\"\n",
    "    a = destroy(N)\n",
    "    b = destroy(N)\n",
    "    return (s * tensor(a.dag(), b) - \n",
    "            np.conj(s) * tensor(a, b.dag())).expm()"
   ]
  },
  {
   "cell_type": "markdown",
   "metadata": {},
   "source": [
    "### 4.1 $U(\\frac{\\pi}{4})$ act on $\\left| 01 \\right\\rangle$ and $\\left| 10 \\right\\rangle$\n",
    "\n",
    "$$\n",
    "U \\left(\\frac{\\pi}{4} \\right) \\left| 01 \\right\\rangle = \\exp \\left[\\frac{\\pi}{4} \\left(\\hat{a}^{\\dagger}\\hat{b} - \\hat{a}\\hat{b}^{\\dagger} \\right)\\right] \\left| 01 \\right\\rangle = \\frac{\\left| 01 \\right\\rangle  + \\left| 10 \\right\\rangle}{\\sqrt{2}}\n",
    "$$\n",
    "\n",
    "$$\n",
    "U \\left(\\frac{\\pi}{4} \\right) \\left| 10 \\right\\rangle = \\exp \\left[\\frac{\\pi}{4} \\left(\\hat{a}^{\\dagger}\\hat{b} - \\hat{a}\\hat{b}^{\\dagger} \\right)\\right] \\left| 10 \\right\\rangle = \\frac{- \\left| 01 \\right\\rangle  + \\left| 10 \\right\\rangle}{\\sqrt{2}}\n",
    "$$"
   ]
  },
  {
   "cell_type": "code",
   "execution_count": 6,
   "metadata": {
    "collapsed": false
   },
   "outputs": [],
   "source": [
    "op = two_mode_mixing(2, np.pi / 4)"
   ]
  },
  {
   "cell_type": "markdown",
   "metadata": {},
   "source": [
    "**In state vector form**"
   ]
  },
  {
   "cell_type": "code",
   "execution_count": 10,
   "metadata": {
    "collapsed": false
   },
   "outputs": [
    {
     "data": {
      "text/latex": [
       "Quantum object: dims = [[1, 1], [2, 2]], shape = [1, 4], type = bra\\begin{equation*}\\left(\\begin{array}{*{11}c}0.0 & 1.0 & 0.0 & 0.0\\\\\\end{array}\\right)\\end{equation*}"
      ],
      "text/plain": [
       "Quantum object: dims = [[1, 1], [2, 2]], shape = [1, 4], type = bra\n",
       "Qobj data =\n",
       "[[ 0.  1.  0.  0.]]"
      ]
     },
     "execution_count": 10,
     "metadata": {},
     "output_type": "execute_result"
    }
   ],
   "source": [
    "ins = tensor(basis(2, 0), basis(2, 1))\n",
    "ins.trans()"
   ]
  },
  {
   "cell_type": "code",
   "execution_count": 11,
   "metadata": {
    "collapsed": false
   },
   "outputs": [
    {
     "data": {
      "text/latex": [
       "Quantum object: dims = [[2, 2], [2, 2]], shape = [4, 4], type = oper, isherm = True\\begin{equation*}\\left(\\begin{array}{*{11}c}0.0 & 0.0 & 0.0 & 0.0\\\\0.0 & 1.0 & 0.0 & 0.0\\\\0.0 & 0.0 & 0.0 & 0.0\\\\0.0 & 0.0 & 0.0 & 0.0\\\\\\end{array}\\right)\\end{equation*}"
      ],
      "text/plain": [
       "Quantum object: dims = [[2, 2], [2, 2]], shape = [4, 4], type = oper, isherm = True\n",
       "Qobj data =\n",
       "[[ 0.  0.  0.  0.]\n",
       " [ 0.  1.  0.  0.]\n",
       " [ 0.  0.  0.  0.]\n",
       " [ 0.  0.  0.  0.]]"
      ]
     },
     "execution_count": 11,
     "metadata": {},
     "output_type": "execute_result"
    }
   ],
   "source": [
    "ket2dm(ins)"
   ]
  },
  {
   "cell_type": "code",
   "execution_count": 12,
   "metadata": {
    "collapsed": false
   },
   "outputs": [
    {
     "data": {
      "text/latex": [
       "Quantum object: dims = [[1, 1], [2, 2]], shape = [1, 4], type = bra\\begin{equation*}\\left(\\begin{array}{*{11}c}0.0 & 0.707 & 0.707 & 0.0\\\\\\end{array}\\right)\\end{equation*}"
      ],
      "text/plain": [
       "Quantum object: dims = [[1, 1], [2, 2]], shape = [1, 4], type = bra\n",
       "Qobj data =\n",
       "[[ 0.        0.707107  0.707107  0.      ]]"
      ]
     },
     "execution_count": 12,
     "metadata": {},
     "output_type": "execute_result"
    }
   ],
   "source": [
    "ins = tensor(basis(2, 0), basis(2, 1))\n",
    "outs =  op * ins\n",
    "outs.trans()"
   ]
  },
  {
   "cell_type": "code",
   "execution_count": 13,
   "metadata": {
    "collapsed": false
   },
   "outputs": [
    {
     "data": {
      "text/latex": [
       "Quantum object: dims = [[2, 2], [2, 2]], shape = [4, 4], type = oper, isherm = True\\begin{equation*}\\left(\\begin{array}{*{11}c}0.0 & 0.0 & 0.0 & 0.0\\\\0.0 & 0.500 & 0.500 & 0.0\\\\0.0 & 0.500 & 0.500 & 0.0\\\\0.0 & 0.0 & 0.0 & 0.0\\\\\\end{array}\\right)\\end{equation*}"
      ],
      "text/plain": [
       "Quantum object: dims = [[2, 2], [2, 2]], shape = [4, 4], type = oper, isherm = True\n",
       "Qobj data =\n",
       "[[ 0.   0.   0.   0. ]\n",
       " [ 0.   0.5  0.5  0. ]\n",
       " [ 0.   0.5  0.5  0. ]\n",
       " [ 0.   0.   0.   0. ]]"
      ]
     },
     "execution_count": 13,
     "metadata": {},
     "output_type": "execute_result"
    }
   ],
   "source": [
    "ket2dm(outs)"
   ]
  },
  {
   "cell_type": "code",
   "execution_count": 15,
   "metadata": {
    "collapsed": false
   },
   "outputs": [
    {
     "data": {
      "text/latex": [
       "Quantum object: dims = [[1, 1], [2, 2]], shape = [1, 4], type = bra\\begin{equation*}\\left(\\begin{array}{*{11}c}0.0 & -0.707 & 0.707 & 0.0\\\\\\end{array}\\right)\\end{equation*}"
      ],
      "text/plain": [
       "Quantum object: dims = [[1, 1], [2, 2]], shape = [1, 4], type = bra\n",
       "Qobj data =\n",
       "[[ 0.       -0.707107  0.707107  0.      ]]"
      ]
     },
     "execution_count": 15,
     "metadata": {},
     "output_type": "execute_result"
    }
   ],
   "source": [
    "ins = tensor(basis(2, 1), basis(2, 0))\n",
    "outs = op * ins\n",
    "outs.trans()"
   ]
  },
  {
   "cell_type": "code",
   "execution_count": 16,
   "metadata": {
    "collapsed": false
   },
   "outputs": [
    {
     "data": {
      "text/latex": [
       "Quantum object: dims = [[2, 2], [2, 2]], shape = [4, 4], type = oper, isherm = True\\begin{equation*}\\left(\\begin{array}{*{11}c}0.0 & 0.0 & 0.0 & 0.0\\\\0.0 & 0.500 & -0.500 & 0.0\\\\0.0 & -0.500 & 0.500 & 0.0\\\\0.0 & 0.0 & 0.0 & 0.0\\\\\\end{array}\\right)\\end{equation*}"
      ],
      "text/plain": [
       "Quantum object: dims = [[2, 2], [2, 2]], shape = [4, 4], type = oper, isherm = True\n",
       "Qobj data =\n",
       "[[ 0.   0.   0.   0. ]\n",
       " [ 0.   0.5 -0.5  0. ]\n",
       " [ 0.  -0.5  0.5  0. ]\n",
       " [ 0.   0.   0.   0. ]]"
      ]
     },
     "execution_count": 16,
     "metadata": {},
     "output_type": "execute_result"
    }
   ],
   "source": [
    "ket2dm(outs)"
   ]
  },
  {
   "cell_type": "markdown",
   "metadata": {},
   "source": [
    "### 4.2 $U(i\\frac{\\pi}{4})$ Act on $\\left| 01 \\right\\rangle$ and $\\left| 10 \\right\\rangle$\n",
    "\n",
    "$$\n",
    "U \\left(i\\frac{\\pi}{4} \\right) \\left| 01 \\right\\rangle = \\exp \\left[i\\frac{\\pi}{4} \\left(\\hat{a}^{\\dagger}\\hat{b} + \\hat{a}\\hat{b}^{\\dagger} \\right)\\right] \\left| 01 \\right\\rangle = \\frac{\\left| 01 \\right\\rangle  + i \\left| 10 \\right\\rangle}{\\sqrt{2}}\n",
    "$$\n",
    "$$\n",
    "U \\left(i\\frac{\\pi}{4} \\right) \\left| 10 \\right\\rangle = \\exp \\left[i\\frac{\\pi}{4} \\left(\\hat{a}^{\\dagger}\\hat{b} + \\hat{a}\\hat{b}^{\\dagger} \\right)\\right] \\left| 10 \\right\\rangle = \\frac{\\left| 10 \\right\\rangle  + i \\left| 01 \\right\\rangle}{\\sqrt{2}}\n",
    "$$\n",
    "Pay attention to the order! With all subscripts, the above evolution is acutally given as\n",
    "\n",
    "$$\n",
    "\\left|0\\right\\rangle_0\\left|1\\right\\rangle_1 \\to \\frac{\\left|0\\right\\rangle_2\\left|1\\right\\rangle_3  + i~ \\left|1\\right\\rangle_2\\left|0\\right\\rangle_3}{\\sqrt{2}}\n",
    "$$\n",
    "$$\n",
    "\\left|1\\right\\rangle_0\\left|0\\right\\rangle_1 \\to \\frac{i~ \\left|0\\right\\rangle_2\\left|1\\right\\rangle_3 + \\left|1\\right\\rangle_2\\left|0\\right\\rangle_3}{\\sqrt{2}}\n",
    "$$"
   ]
  },
  {
   "cell_type": "code",
   "execution_count": 17,
   "metadata": {
    "collapsed": true
   },
   "outputs": [],
   "source": [
    "op = two_mode_mixing(2, 1j * np.pi / 4)"
   ]
  },
  {
   "cell_type": "code",
   "execution_count": 20,
   "metadata": {
    "collapsed": false
   },
   "outputs": [
    {
     "data": {
      "text/latex": [
       "Quantum object: dims = [[2, 2], [1, 1]], shape = [4, 1], type = ket\\begin{equation*}\\left(\\begin{array}{*{11}c}0.0\\\\1.0\\\\0.0\\\\0.0\\\\\\end{array}\\right)\\end{equation*}"
      ],
      "text/plain": [
       "Quantum object: dims = [[2, 2], [1, 1]], shape = [4, 1], type = ket\n",
       "Qobj data =\n",
       "[[ 0.]\n",
       " [ 1.]\n",
       " [ 0.]\n",
       " [ 0.]]"
      ]
     },
     "execution_count": 20,
     "metadata": {},
     "output_type": "execute_result"
    }
   ],
   "source": [
    "ins = tensor(basis(2, 0), basis(2, 1))\n",
    "ins"
   ]
  },
  {
   "cell_type": "code",
   "execution_count": 18,
   "metadata": {
    "collapsed": false
   },
   "outputs": [
    {
     "data": {
      "text/latex": [
       "Quantum object: dims = [[2, 2], [1, 1]], shape = [4, 1], type = ket\\begin{equation*}\\left(\\begin{array}{*{11}c}0.0\\\\0.707\\\\0.707j\\\\0.0\\\\\\end{array}\\right)\\end{equation*}"
      ],
      "text/plain": [
       "Quantum object: dims = [[2, 2], [1, 1]], shape = [4, 1], type = ket\n",
       "Qobj data =\n",
       "[[ 0.000000+0.j      ]\n",
       " [ 0.707107+0.j      ]\n",
       " [ 0.000000+0.707107j]\n",
       " [ 0.000000+0.j      ]]"
      ]
     },
     "execution_count": 18,
     "metadata": {},
     "output_type": "execute_result"
    }
   ],
   "source": [
    "outs = op * ins\n",
    "outs"
   ]
  },
  {
   "cell_type": "code",
   "execution_count": 21,
   "metadata": {
    "collapsed": false
   },
   "outputs": [
    {
     "data": {
      "text/latex": [
       "Quantum object: dims = [[2, 2], [2, 2]], shape = [4, 4], type = oper, isherm = True\\begin{equation*}\\left(\\begin{array}{*{11}c}0.0 & 0.0 & 0.0 & 0.0\\\\0.0 & 0.500 & -0.500j & 0.0\\\\0.0 & 0.500j & 0.500 & 0.0\\\\0.0 & 0.0 & 0.0 & 0.0\\\\\\end{array}\\right)\\end{equation*}"
      ],
      "text/plain": [
       "Quantum object: dims = [[2, 2], [2, 2]], shape = [4, 4], type = oper, isherm = True\n",
       "Qobj data =\n",
       "[[ 0.0+0.j   0.0+0.j   0.0+0.j   0.0+0.j ]\n",
       " [ 0.0+0.j   0.5+0.j   0.0-0.5j  0.0+0.j ]\n",
       " [ 0.0+0.j   0.0+0.5j  0.5+0.j   0.0+0.j ]\n",
       " [ 0.0+0.j   0.0+0.j   0.0+0.j   0.0+0.j ]]"
      ]
     },
     "execution_count": 21,
     "metadata": {},
     "output_type": "execute_result"
    }
   ],
   "source": [
    "ket2dm(outs)"
   ]
  },
  {
   "cell_type": "code",
   "execution_count": 22,
   "metadata": {
    "collapsed": false
   },
   "outputs": [
    {
     "data": {
      "text/latex": [
       "Quantum object: dims = [[2, 2], [1, 1]], shape = [4, 1], type = ket\\begin{equation*}\\left(\\begin{array}{*{11}c}0.0\\\\0.0\\\\1.0\\\\0.0\\\\\\end{array}\\right)\\end{equation*}"
      ],
      "text/plain": [
       "Quantum object: dims = [[2, 2], [1, 1]], shape = [4, 1], type = ket\n",
       "Qobj data =\n",
       "[[ 0.]\n",
       " [ 0.]\n",
       " [ 1.]\n",
       " [ 0.]]"
      ]
     },
     "execution_count": 22,
     "metadata": {},
     "output_type": "execute_result"
    }
   ],
   "source": [
    "ins = tensor(basis(2, 1), basis(2, 0))\n",
    "ins"
   ]
  },
  {
   "cell_type": "code",
   "execution_count": 23,
   "metadata": {
    "collapsed": false
   },
   "outputs": [
    {
     "data": {
      "text/latex": [
       "Quantum object: dims = [[2, 2], [1, 1]], shape = [4, 1], type = ket\\begin{equation*}\\left(\\begin{array}{*{11}c}0.0\\\\0.707j\\\\0.707\\\\0.0\\\\\\end{array}\\right)\\end{equation*}"
      ],
      "text/plain": [
       "Quantum object: dims = [[2, 2], [1, 1]], shape = [4, 1], type = ket\n",
       "Qobj data =\n",
       "[[ 0.000000+0.j      ]\n",
       " [ 0.000000+0.707107j]\n",
       " [ 0.707107+0.j      ]\n",
       " [ 0.000000+0.j      ]]"
      ]
     },
     "execution_count": 23,
     "metadata": {},
     "output_type": "execute_result"
    }
   ],
   "source": [
    "outs = two_mode_mixing(2, 1j * np.pi / 4) * ins\n",
    "outs"
   ]
  },
  {
   "cell_type": "code",
   "execution_count": 24,
   "metadata": {
    "collapsed": false
   },
   "outputs": [
    {
     "data": {
      "text/latex": [
       "Quantum object: dims = [[2, 2], [2, 2]], shape = [4, 4], type = oper, isherm = True\\begin{equation*}\\left(\\begin{array}{*{11}c}0.0 & 0.0 & 0.0 & 0.0\\\\0.0 & 0.500 & 0.500j & 0.0\\\\0.0 & -0.500j & 0.500 & 0.0\\\\0.0 & 0.0 & 0.0 & 0.0\\\\\\end{array}\\right)\\end{equation*}"
      ],
      "text/plain": [
       "Quantum object: dims = [[2, 2], [2, 2]], shape = [4, 4], type = oper, isherm = True\n",
       "Qobj data =\n",
       "[[ 0.0+0.j   0.0+0.j   0.0+0.j   0.0+0.j ]\n",
       " [ 0.0+0.j   0.5+0.j   0.0+0.5j  0.0+0.j ]\n",
       " [ 0.0+0.j   0.0-0.5j  0.5+0.j   0.0+0.j ]\n",
       " [ 0.0+0.j   0.0+0.j   0.0+0.j   0.0+0.j ]]"
      ]
     },
     "execution_count": 24,
     "metadata": {},
     "output_type": "execute_result"
    }
   ],
   "source": [
    "ket2dm(outs)"
   ]
  },
  {
   "cell_type": "markdown",
   "metadata": {
    "collapsed": true
   },
   "source": [
    "### 4.3 Act on $\\left| 11 \\right\\rangle$\n",
    "\n",
    "$$\n",
    "U \\left(i\\frac{\\pi}{4} \\right) \\left| 11 \\right\\rangle = \\exp \\left[i\\frac{\\pi}{4} \\left(\\hat{a}^{\\dagger}\\hat{b} + \\hat{a}\\hat{b}^{\\dagger} \\right)\\right] \\left| 11 \\right\\rangle = \\frac{i}{2} \\left( \\left| 02 \\right\\rangle  + \\left| 20 \\right\\rangle \\right)\n",
    "$$"
   ]
  },
  {
   "cell_type": "code",
   "execution_count": 29,
   "metadata": {
    "collapsed": false
   },
   "outputs": [
    {
     "data": {
      "text/latex": [
       "Quantum object: dims = [[1, 1], [3, 3]], shape = [1, 9], type = bra\\begin{equation*}\\left(\\begin{array}{*{11}c}0.0 & 0.0 & 0.707j & 0.0 & 0.0 & 0.0 & 0.707j & 0.0 & 0.0\\\\\\end{array}\\right)\\end{equation*}"
      ],
      "text/plain": [
       "Quantum object: dims = [[1, 1], [3, 3]], shape = [1, 9], type = bra\n",
       "Qobj data =\n",
       "[[ 0.+0.j        0.+0.j        0.+0.707107j  0.+0.j        0.+0.j        0.+0.j\n",
       "   0.+0.707107j  0.+0.j        0.+0.j      ]]"
      ]
     },
     "execution_count": 29,
     "metadata": {},
     "output_type": "execute_result"
    }
   ],
   "source": [
    "ins = tensor(basis(3, 1), basis(3, 1))\n",
    "outs = two_mode_mixing(3, 1j * np.pi / 4) * insp\n",
    "outs.trans()"
   ]
  },
  {
   "cell_type": "markdown",
   "metadata": {},
   "source": [
    "### 4.4 Act on $\\left| 0 \\right\\rangle \\left| \\alpha \\right\\rangle$\n",
    "\n",
    "$$\n",
    "U \\left(i\\frac{\\pi}{4} \\right) \\left| 0 \\right\\rangle \\left| \\alpha \\right\\rangle = \\exp \\left[i\\frac{\\pi}{4} \\left(\\hat{a}^{\\dagger}\\hat{b} + \\hat{a}\\hat{b}^{\\dagger} \\right)\\right] \\left| 0 \\right\\rangle \\left| \\alpha \\right\\rangle = \\left| \\frac{i\\alpha}{\\sqrt{2}} \\right\\rangle \\left| \\frac{\\alpha^*}{\\sqrt{2}} \\right\\rangle\n",
    "$$"
   ]
  },
  {
   "cell_type": "code",
   "execution_count": 30,
   "metadata": {
    "collapsed": false
   },
   "outputs": [
    {
     "data": {
      "text/plain": [
       "array([[ 0.882497+0.j      ,  0.312009+0.j      ,  0.078006+0.j      ,\n",
       "         0.015898+0.j      ,  0.002934+0.j      ,  0.000000+0.312009j,\n",
       "         0.000000+0.110317j,  0.000000+0.027536j,  0.000000+0.005867j,\n",
       "         0.000000+0.j      , -0.078006+0.j      , -0.027536+0.j      ,\n",
       "        -0.007186+0.j      ,  0.000000+0.j      ,  0.000000+0.j      ,\n",
       "         0.000000-0.015898j,  0.000000-0.005867j,  0.000000+0.j      ,\n",
       "         0.000000+0.j      ,  0.000000+0.j      ,  0.002934+0.j      ,\n",
       "         0.000000+0.j      ,  0.000000+0.j      ,  0.000000+0.j      ,\n",
       "         0.000000+0.j      ]])"
      ]
     },
     "execution_count": 30,
     "metadata": {},
     "output_type": "execute_result"
    }
   ],
   "source": [
    "ins = tensor(basis(5, 0), coherent(5, 0.5))\n",
    "outs = two_mode_mixing(5, 1j * np.pi / 4) * ins\n",
    "outs.trans().full()"
   ]
  },
  {
   "cell_type": "code",
   "execution_count": 31,
   "metadata": {
    "collapsed": false
   },
   "outputs": [
    {
     "data": {
      "text/plain": [
       "array([[ 0.882497+0.j      ,  0.312010+0.j      ,  0.078003+0.j      ,\n",
       "         0.015916+0.j      ,  0.002874+0.j      ,  0.000000+0.31201j ,\n",
       "         0.000000+0.110312j,  0.000000+0.027578j,  0.000000+0.005627j,\n",
       "         0.000000+0.001016j, -0.078003+0.j      , -0.027578+0.j      ,\n",
       "        -0.006895+0.j      , -0.001407+0.j      , -0.000254+0.j      ,\n",
       "         0.000000-0.015916j,  0.000000-0.005627j,  0.000000-0.001407j,\n",
       "         0.000000-0.000287j,  0.000000-0.000052j,  0.002874+0.j      ,\n",
       "         0.001016+0.j      ,  0.000254+0.j      ,  0.000052+0.j      ,\n",
       "         0.000009+0.j      ]])"
      ]
     },
     "execution_count": 31,
     "metadata": {},
     "output_type": "execute_result"
    }
   ],
   "source": [
    "outs2 = tensor(coherent(5, 0.5j/np.sqrt(2)), \n",
    "               coherent(5, 0.5/np.sqrt(2)))\n",
    "outs2.trans().full()"
   ]
  },
  {
   "cell_type": "code",
   "execution_count": 32,
   "metadata": {
    "collapsed": false
   },
   "outputs": [
    {
     "data": {
      "text/plain": [
       "((0.8824969330377003+0j), 1.0, (0.8824969044258281+0j), 1.0000000000000002)"
      ]
     },
     "execution_count": 32,
     "metadata": {},
     "output_type": "execute_result"
    }
   ],
   "source": [
    "outs.tr(), outs.norm(), outs2.tr(), outs2.norm()"
   ]
  },
  {
   "cell_type": "code",
   "execution_count": 33,
   "metadata": {
    "collapsed": false
   },
   "outputs": [
    {
     "data": {
      "text/plain": [
       "(0.99999677457459235+0j)"
      ]
     },
     "execution_count": 33,
     "metadata": {},
     "output_type": "execute_result"
    }
   ],
   "source": [
    "outs.overlap(outs2)"
   ]
  },
  {
   "cell_type": "markdown",
   "metadata": {},
   "source": [
    "### 4.5 Act on $\\left| \\alpha \\right\\rangle \\left| \\beta \\right\\rangle$\n",
    "\n",
    "$$\n",
    "U \\left(i\\frac{\\pi}{4} \\right) \\left| \\alpha \\right\\rangle \\left| \\beta \\right\\rangle\n",
    "= \\exp \\left[i\\frac{\\pi}{4} \\left(\\hat{a}^{\\dagger}\\hat{b} + \\hat{a}\\hat{b}^{\\dagger} \\right)\\right] \\left| \\alpha \\right\\rangle \\left| \\beta \\right\\rangle \n",
    "= \\left| \\frac{\\alpha + i\\beta}{\\sqrt{2}} \\right\\rangle \\left| \\frac{i\\alpha + \\beta}{\\sqrt{2}} \\right\\rangle\n",
    "$$"
   ]
  },
  {
   "cell_type": "code",
   "execution_count": 34,
   "metadata": {
    "collapsed": false
   },
   "outputs": [
    {
     "data": {
      "text/plain": [
       "array([[ 0.535285+0.j      ,  0.378331+0.189251j,  0.142593+0.189165j,\n",
       "         0.017285+0.106651j, -0.007233+0.039549j,  0.189251+0.378331j,\n",
       "         0.000000+0.335484j, -0.083844+0.163706j, -0.066811+0.060652j,\n",
       "        -0.012857+0.00139j , -0.142593+0.189165j, -0.163706+0.083844j,\n",
       "        -0.116574+0.j      , -0.024612+0.000297j, -0.001733-0.004973j,\n",
       "        -0.106651-0.017285j, -0.066811-0.060652j, -0.041666-0.022765j,\n",
       "        -0.008247-0.012733j, -0.006543+0.j      , -0.007233-0.039549j,\n",
       "        -0.018408-0.050953j, -0.019386-0.004973j, -0.002828+0.j      ,\n",
       "         0.001708+0.j      ]])"
      ]
     },
     "execution_count": 34,
     "metadata": {},
     "output_type": "execute_result"
    }
   ],
   "source": [
    "ins = tensor(coherent(5, 0.5), coherent(5, 1))\n",
    "outs = two_mode_mixing(5, 1j * np.pi / 4) * ins\n",
    "outs.trans().full()"
   ]
  },
  {
   "cell_type": "code",
   "execution_count": 35,
   "metadata": {
    "collapsed": false
   },
   "outputs": [
    {
     "data": {
      "text/plain": [
       "array([[ 0.535265+0.j      ,  0.378467+0.189233j,  0.142048+0.189397j,\n",
       "         0.019122+0.105173j, -0.013236+0.045382j,  0.189233+0.378467j,\n",
       "         0.000000+0.3345j  , -0.083697+0.167394j, -0.067603+0.050702j,\n",
       "        -0.036767+0.006685j, -0.142048+0.189397j, -0.167394+0.083697j,\n",
       "        -0.104712+0.j      , -0.042289-0.021144j, -0.012545-0.016727j,\n",
       "        -0.105173-0.019122j, -0.067603-0.050702j, -0.021144-0.042289j,\n",
       "         0.000000-0.021348j,  0.004222-0.008444j, -0.013236-0.045382j,\n",
       "         0.006685-0.036767j,  0.012545-0.016727j,  0.008444-0.004222j,\n",
       "         0.004175+0.j      ]])"
      ]
     },
     "execution_count": 35,
     "metadata": {},
     "output_type": "execute_result"
    }
   ],
   "source": [
    "outs2 = tensor(coherent(5, (0.5 + 1j)/np.sqrt(2)), \n",
    "               coherent(5, (0.5j + 1)/np.sqrt(2)))\n",
    "outs2.trans().full()"
   ]
  },
  {
   "cell_type": "code",
   "execution_count": 36,
   "metadata": {
    "collapsed": false
   },
   "outputs": [
    {
     "data": {
      "text/plain": [
       "((0.5352845312562375+0j),\n",
       " 0.9999999999999999,\n",
       " (0.535265413786181+0j),\n",
       " 0.9999999999999996)"
      ]
     },
     "execution_count": 36,
     "metadata": {},
     "output_type": "execute_result"
    }
   ],
   "source": [
    "outs.tr(), outs.norm(), outs2.tr(), outs2.norm()"
   ]
  },
  {
   "cell_type": "code",
   "execution_count": 37,
   "metadata": {
    "collapsed": false
   },
   "outputs": [
    {
     "data": {
      "text/plain": [
       "(0.99729075785497656+0.0033926854404569633j)"
      ]
     },
     "execution_count": 37,
     "metadata": {},
     "output_type": "execute_result"
    }
   ],
   "source": [
    "outs.overlap(outs2)"
   ]
  },
  {
   "cell_type": "markdown",
   "metadata": {},
   "source": [
    "### 4.6 Act on $\\left| 0 \\right\\rangle \\left| N \\right\\rangle$\n",
    "\n",
    "$$\n",
    "U \\left(i\\frac{\\pi}{4} \\right) \\left| 0 \\right\\rangle \\left| N \\right\\rangle\n",
    "= \\exp \\left[i\\frac{\\pi}{4} \\left(\\hat{a}^{\\dagger}\\hat{b} + \\hat{a}\\hat{b}^{\\dagger} \\right)\\right] \\left| 0 \\right\\rangle \\left| N \\right\\rangle \n",
    "= 2^{-\\frac{N}{2}} \\sum_{k=0}^{N} i^k \\binom{N}{k} \\left| k \\right\\rangle \\left| N - k \\right\\rangle\n",
    "$$"
   ]
  },
  {
   "cell_type": "code",
   "execution_count": 38,
   "metadata": {
    "collapsed": false
   },
   "outputs": [
    {
     "data": {
      "text/plain": [
       "array([[ 0.000000+0.j ,  0.000000+0.j ,  0.000000+0.j ,  0.000000+0.j ,\n",
       "         0.250000+0.j ,  0.000000+0.j ,  0.000000+0.j ,  0.000000+0.j ,\n",
       "         0.000000+0.5j,  0.000000+0.j ,  0.000000+0.j ,  0.000000+0.j ,\n",
       "        -0.612372+0.j ,  0.000000+0.j ,  0.000000+0.j ,  0.000000+0.j ,\n",
       "         0.000000-0.5j,  0.000000+0.j ,  0.000000+0.j ,  0.000000+0.j ,\n",
       "         0.250000+0.j ,  0.000000+0.j ,  0.000000+0.j ,  0.000000+0.j ,\n",
       "         0.000000+0.j ]])"
      ]
     },
     "execution_count": 38,
     "metadata": {},
     "output_type": "execute_result"
    }
   ],
   "source": [
    "ins = tensor(basis(5, 0), basis(5, 4))\n",
    "outs = two_mode_mixing(5, 1j * np.pi / 4) * ins\n",
    "outs.trans().full()"
   ]
  },
  {
   "cell_type": "code",
   "execution_count": 39,
   "metadata": {
    "collapsed": false
   },
   "outputs": [],
   "source": [
    "outs2 = 2**(-2) * np.sum([1j**k * np.sqrt(comb(4, k)) * \n",
    "                          tensor(basis(5, k), basis(5, 4 - k)) \n",
    "                          for k in xrange(5)])"
   ]
  },
  {
   "cell_type": "code",
   "execution_count": 40,
   "metadata": {
    "collapsed": false
   },
   "outputs": [
    {
     "data": {
      "text/plain": [
       "array([[ 0.000000+0.j ,  0.000000+0.j ,  0.000000+0.j ,  0.000000+0.j ,\n",
       "         0.250000+0.j ,  0.000000+0.j ,  0.000000+0.j ,  0.000000+0.j ,\n",
       "         0.000000+0.5j,  0.000000+0.j ,  0.000000+0.j ,  0.000000+0.j ,\n",
       "        -0.612372+0.j ,  0.000000+0.j ,  0.000000+0.j ,  0.000000+0.j ,\n",
       "         0.000000-0.5j,  0.000000+0.j ,  0.000000+0.j ,  0.000000+0.j ,\n",
       "         0.250000+0.j ,  0.000000+0.j ,  0.000000+0.j ,  0.000000+0.j ,\n",
       "         0.000000+0.j ]])"
      ]
     },
     "execution_count": 40,
     "metadata": {},
     "output_type": "execute_result"
    }
   ],
   "source": [
    "outs2.trans().full()"
   ]
  },
  {
   "cell_type": "markdown",
   "metadata": {},
   "source": [
    "### 4.7 Act on $\\left| n \\right\\rangle \\left| m \\right\\rangle$\n",
    "\n",
    "$$\n",
    "\\begin{aligned}\n",
    "U \\left(\\theta \\right) \\left| n \\right\\rangle_0 \\left| m \\right\\rangle_1\n",
    "=~& \\exp \\left[\\theta \\left(\\hat{a}^{\\dagger}\\hat{b} - \\hat{a}\\hat{b}^{\\dagger} \\right)\\right] \\left| n \\right\\rangle_0 \\left| m \\right\\rangle_1 \\\\\n",
    "=~& \\sum_{k=0}^{n} \\sum_{l=0}^{m} (-1)^k \\kappa^\\frac{n+m-k-l}{2} (1-\\kappa)^\\frac{k+l}{2} \\left[\\binom{n}{k} \\binom{m}{l} \\binom{n-k+l}{l} \\binom{m+k-l}{k}\\right]^\\frac{1}{2} \\left| n-k+l \\right\\rangle_2 \\left| m+k-l \\right\\rangle_3\n",
    "\\end{aligned}\n",
    "$$"
   ]
  },
  {
   "cell_type": "markdown",
   "metadata": {},
   "source": [
    "Derivation is given as follows. The input states is\n",
    "\n",
    "$$\n",
    "\\left| in \\right\\rangle = \\left| n \\right\\rangle_0 \\left| m \\right\\rangle_1 = \\frac{a_0^{\\dagger n}}{\\sqrt{n!}} \\frac{a_1^{\\dagger m}}{\\sqrt{m!}} \\left| 0 \\right\\rangle_0 \\left| 0 \\right\\rangle_1\n",
    "$$\n",
    "\n",
    "And we have\n",
    "\n",
    "$$\n",
    "a_0 = \\cos\\theta~a_2^\\dagger - \\sin\\theta~a_3^\\dagger,~~~~ a_1 = \\sin\\theta~a_2^\\dagger + \\cos\\theta~a_3^\\dagger,\n",
    "$$\n",
    "\n",
    "$$\n",
    "\\sin\\theta = \\sqrt{1-\\kappa},~~~~ \\cos{\\theta} = \\sqrt{\\kappa}\n",
    "$$\n",
    "\n",
    "After the beam spliiter, we obtain\n",
    "\n",
    "$$\n",
    "\\begin{aligned}\n",
    "\\left| out \\right\\rangle=~& \\frac{1}{\\sqrt{n!m!}} \\left(\\cos\\theta~a_2^\\dagger - \\sin\\theta~a_3^\\dagger\\right)^n \\left(\\sin\\theta~a_2^\\dagger + \\cos\\theta~a_3^\\dagger\\right)^m \\left| 0 \\right\\rangle_2 \\left| 0 \\right\\rangle_3 \\\\\n",
    "=~& \\frac{1}{\\sqrt{n!m!}} \\sum_{k=0}^{n} \\sum_{l=0}^{m} \\binom{n}{k} \\binom{m}{l} \\left(\\cos\\theta~a_2^\\dagger\\right)^{n-k} \\left(-\\sin\\theta~a_3^\\dagger\\right)^k \\left(\\sin\\theta~a_2^\\dagger\\right)^{l} \\left(\\cos\\theta~a_3^\\dagger\\right)^{m-l} \\left| 0 \\right\\rangle_2 \\left| 0 \\right\\rangle_3 \\\\\n",
    "=~& \\sum_{k=0}^{n} \\sum_{l=0}^{m} (-1)^k \\left(\\cos\\theta\\right)^{n+m-k-l} \\left(\\sin\\theta\\right)^{k+l} \\left[\\frac{n!m!(n-k+l)!(m+k-l)!}{(n-k)!k!(n-k)!k!(m-l)!l!(m-l)!l!}\\right]^\\frac{1}{2} \\left| n-k+l \\right\\rangle_2 \\left| m+k-l \\right\\rangle_3 \\\\\n",
    "=~& \\sum_{k=0}^{n} \\sum_{l=0}^{m} (-1)^k \\kappa^\\frac{n+m-k-l}{2} (1-\\kappa)^\\frac{k+l}{2} \\left[\\binom{n}{k} \\binom{m}{l} \\binom{n-k+l}{l} \\binom{m+k-l}{k}\\right]^\\frac{1}{2} \\left| n-k+l \\right\\rangle_2 \\left| m+k-l \\right\\rangle_3\n",
    "\\end{aligned}\n",
    "$$"
   ]
  },
  {
   "cell_type": "code",
   "execution_count": 41,
   "metadata": {
    "collapsed": false,
    "scrolled": false
   },
   "outputs": [
    {
     "data": {
      "text/plain": [
       "array([[ 0.000000+0.j,  0.000000+0.j,  0.000000+0.j,  0.000000+0.j,\n",
       "         0.000000+0.j,  0.000000+0.j,  0.000000+0.j,  0.000000+0.j,\n",
       "         0.000000+0.j, -0.405046+0.j,  0.000000+0.j,  0.000000+0.j,\n",
       "         0.000000+0.j,  0.000000+0.j,  0.000000+0.j,  0.000000+0.j,\n",
       "         0.000000+0.j,  0.000000+0.j, -0.405046+0.j,  0.000000+0.j,\n",
       "         0.000000+0.j,  0.000000+0.j,  0.000000+0.j,  0.000000+0.j,\n",
       "         0.000000+0.j,  0.000000+0.j,  0.000000+0.j,  0.000000+0.j,\n",
       "         0.000000+0.j,  0.000000+0.j,  0.000000+0.j,  0.000000+0.j,\n",
       "         0.000000+0.j,  0.000000+0.j,  0.000000+0.j,  0.000000+0.j,\n",
       "         0.353553+0.j,  0.000000+0.j,  0.000000+0.j,  0.000000+0.j,\n",
       "         0.000000+0.j,  0.000000+0.j,  0.000000+0.j,  0.000000+0.j,\n",
       "         0.000000+0.j,  0.216506+0.j,  0.000000+0.j,  0.000000+0.j,\n",
       "         0.000000+0.j,  0.000000+0.j,  0.000000+0.j,  0.000000+0.j,\n",
       "         0.000000+0.j,  0.000000+0.j, -0.216506+0.j,  0.000000+0.j,\n",
       "         0.000000+0.j,  0.000000+0.j,  0.000000+0.j,  0.000000+0.j,\n",
       "         0.000000+0.j,  0.000000+0.j,  0.000000+0.j, -0.353553+0.j,\n",
       "         0.000000+0.j,  0.000000+0.j,  0.000000+0.j,  0.000000+0.j,\n",
       "         0.000000+0.j,  0.000000+0.j,  0.000000+0.j,  0.000000+0.j,\n",
       "         0.000000+0.j,  0.000000+0.j,  0.000000+0.j,  0.000000+0.j,\n",
       "         0.000000+0.j,  0.000000+0.j,  0.000000+0.j,  0.000000+0.j,\n",
       "         0.000000+0.j,  0.405046+0.j,  0.000000+0.j,  0.000000+0.j,\n",
       "         0.000000+0.j,  0.000000+0.j,  0.000000+0.j,  0.000000+0.j,\n",
       "         0.000000+0.j,  0.000000+0.j,  0.405046+0.j,  0.000000+0.j,\n",
       "         0.000000+0.j,  0.000000+0.j,  0.000000+0.j,  0.000000+0.j,\n",
       "         0.000000+0.j,  0.000000+0.j,  0.000000+0.j,  0.000000+0.j]])"
      ]
     },
     "execution_count": 41,
     "metadata": {},
     "output_type": "execute_result"
    }
   ],
   "source": [
    "n = 3\n",
    "m = 6\n",
    "N = n + m + 1\n",
    "theta = np.pi / 4\n",
    "ins = tensor(basis(N, n), basis(N, m))\n",
    "outs = two_mode_mixing(N, theta) * ins\n",
    "outs.trans().full()"
   ]
  },
  {
   "cell_type": "code",
   "execution_count": 42,
   "metadata": {
    "collapsed": true
   },
   "outputs": [],
   "source": [
    "def ker(k, l):\n",
    "    para = (-1)**k * np.cos(theta)**(n+m-k-l) * np.sin(theta)**(k+l) \n",
    "    para *= np.sqrt(comb(n, k) * comb(m, l) * comb(n - k + l, l) * comb(m + k -l, k))\n",
    "    return para * tensor(basis(N, n - k + l), basis(N, m + k -l))\n",
    "outs2 = np.sum([[ker(k, l) for k in xrange(4)] for l in xrange(7)])"
   ]
  },
  {
   "cell_type": "code",
   "execution_count": 43,
   "metadata": {
    "collapsed": false
   },
   "outputs": [
    {
     "data": {
      "text/plain": [
       "array([[ 0.000000+0.j,  0.000000+0.j,  0.000000+0.j,  0.000000+0.j,\n",
       "         0.000000+0.j,  0.000000+0.j,  0.000000+0.j,  0.000000+0.j,\n",
       "         0.000000+0.j, -0.405046+0.j,  0.000000+0.j,  0.000000+0.j,\n",
       "         0.000000+0.j,  0.000000+0.j,  0.000000+0.j,  0.000000+0.j,\n",
       "         0.000000+0.j,  0.000000+0.j, -0.405046+0.j,  0.000000+0.j,\n",
       "         0.000000+0.j,  0.000000+0.j,  0.000000+0.j,  0.000000+0.j,\n",
       "         0.000000+0.j,  0.000000+0.j,  0.000000+0.j,  0.000000+0.j,\n",
       "         0.000000+0.j,  0.000000+0.j,  0.000000+0.j,  0.000000+0.j,\n",
       "         0.000000+0.j,  0.000000+0.j,  0.000000+0.j,  0.000000+0.j,\n",
       "         0.353553+0.j,  0.000000+0.j,  0.000000+0.j,  0.000000+0.j,\n",
       "         0.000000+0.j,  0.000000+0.j,  0.000000+0.j,  0.000000+0.j,\n",
       "         0.000000+0.j,  0.216506+0.j,  0.000000+0.j,  0.000000+0.j,\n",
       "         0.000000+0.j,  0.000000+0.j,  0.000000+0.j,  0.000000+0.j,\n",
       "         0.000000+0.j,  0.000000+0.j, -0.216506+0.j,  0.000000+0.j,\n",
       "         0.000000+0.j,  0.000000+0.j,  0.000000+0.j,  0.000000+0.j,\n",
       "         0.000000+0.j,  0.000000+0.j,  0.000000+0.j, -0.353553+0.j,\n",
       "         0.000000+0.j,  0.000000+0.j,  0.000000+0.j,  0.000000+0.j,\n",
       "         0.000000+0.j,  0.000000+0.j,  0.000000+0.j,  0.000000+0.j,\n",
       "         0.000000+0.j,  0.000000+0.j,  0.000000+0.j,  0.000000+0.j,\n",
       "         0.000000+0.j,  0.000000+0.j,  0.000000+0.j,  0.000000+0.j,\n",
       "         0.000000+0.j,  0.405046+0.j,  0.000000+0.j,  0.000000+0.j,\n",
       "         0.000000+0.j,  0.000000+0.j,  0.000000+0.j,  0.000000+0.j,\n",
       "         0.000000+0.j,  0.000000+0.j,  0.405046+0.j,  0.000000+0.j,\n",
       "         0.000000+0.j,  0.000000+0.j,  0.000000+0.j,  0.000000+0.j,\n",
       "         0.000000+0.j,  0.000000+0.j,  0.000000+0.j,  0.000000+0.j]])"
      ]
     },
     "execution_count": 43,
     "metadata": {},
     "output_type": "execute_result"
    }
   ],
   "source": [
    "outs2.trans().full()"
   ]
  },
  {
   "cell_type": "code",
   "execution_count": 44,
   "metadata": {
    "collapsed": false
   },
   "outputs": [
    {
     "data": {
      "text/plain": [
       "(1+0j)"
      ]
     },
     "execution_count": 44,
     "metadata": {},
     "output_type": "execute_result"
    }
   ],
   "source": [
    "outs.overlap(outs2)"
   ]
  }
 ],
 "metadata": {
  "anaconda-cloud": {},
  "kernelspec": {
   "display_name": "Python [default]",
   "language": "python",
   "name": "python2"
  },
  "language_info": {
   "codemirror_mode": {
    "name": "ipython",
    "version": 2
   },
   "file_extension": ".py",
   "mimetype": "text/x-python",
   "name": "python",
   "nbconvert_exporter": "python",
   "pygments_lexer": "ipython2",
   "version": "2.7.12"
  }
 },
 "nbformat": 4,
 "nbformat_minor": 0
}
