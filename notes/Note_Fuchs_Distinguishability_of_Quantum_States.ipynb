{
 "cells": [
  {
   "cell_type": "markdown",
   "metadata": {},
   "source": [
    "# 1. Generations for Quantum States"
   ]
  },
  {
   "cell_type": "markdown",
   "metadata": {},
   "source": [
    "- The Quantum Error Probability\n",
    "\n",
    "$$\n",
    "P_e(\\hat\\rho_0|\\hat\\rho_1) \\equiv \\min_{\\{\\hat E_b\\}} \\sum_b\\min\\!\\left\\{\n",
    "\\pi_0{\\rm tr}(\\hat\\rho_0\\hat E_b),\\,\\pi_1{\\rm tr}(\\hat\\rho_1\\hat E_b)\\right\\}\n",
    "$$\n",
    "\n",
    "- The Quantum Fidelity\n",
    "\n",
    "$$\n",
    "F(\\hat\\rho_0,\\hat\\rho_1)\\equiv\\min_{\\{\\hat E_b\\}}\\sum_b\n",
    "\\sqrt{{\\rm tr}(\\hat\\rho_0\\hat E_b)}\n",
    "\\sqrt{{\\rm tr}(\\hat\\rho_1\\hat E_b)}\n",
    "$$\n",
    "\n",
    "- The Quantum Renyi Overlaps\n",
    "\n",
    "$$\n",
    "F_\\alpha(\\hat\\rho_0/\\hat\\rho_1)\\equiv\\min_{\\{\\hat E_b\\}}\\sum_b\n",
    "\\left({\\rm tr}(\\hat\\rho_0\\hat E_b)\\right)^{\\!\\alpha}\\!\n",
    "\\left({\\rm tr}(\\hat\\rho_1\\hat E_b)\\right)^{\\!{1-\\alpha}},\n",
    "\\;\\;\\;\\;\\; 0<\\alpha<1\n",
    "$$\n",
    "\n",
    "- The Quantum Kullback Information\n",
    "\n",
    "$$\n",
    "K(\\hat\\rho_0/\\hat\\rho_1)\\equiv\\max_{\\{\\hat E_b\\}}\\,\n",
    "\\sum_b{\\rm tr}(\\hat\\rho_0\\hat E_b)\\,\n",
    "\\ln\\!\\left({{\\rm tr}(\\hat\\rho_0\\hat E_b)\\over\n",
    "{\\rm tr}(\\hat\\rho_1\\hat E_b)}\\right)\n",
    "$$\n",
    "\n",
    "- The Accessible Information\n",
    "\n",
    "$$\n",
    "I(\\hat\\rho_0|\\hat\\rho_1)\\equiv\\max_{\\{\\hat E_b\\}}\\,\n",
    "\\sum_b\\!\\left(\\pi_0\\,{\\rm tr}(\\hat\\rho_0\\hat E_b)\\,\n",
    "\\ln\\!\\left({{\\rm tr}(\\hat\\rho_0\\hat E_b)\\over\n",
    "{\\rm tr}(\\hat\\rho\\hat E_b)}\\right)\\,+\\,\n",
    "\\pi_1\\,{\\rm tr}(\\hat\\rho_1\\hat E_b)\\,\n",
    "\\ln\\!\\left({{\\rm tr}(\\hat\\rho_1\\hat E_b)\\over\n",
    "{\\rm tr}(\\hat\\rho\\hat E_b)}\\right)\\right)\n",
    "$$\n",
    "\n",
    "where\n",
    "\n",
    "$$\n",
    "\\hat\\rho = \\pi_0\\hat\\rho_0+\\pi_1\\hat\\rho_1\n",
    "$$"
   ]
  },
  {
   "cell_type": "markdown",
   "metadata": {},
   "source": [
    "# 2. The Quantum Error Probability"
   ]
  },
  {
   "cell_type": "markdown",
   "metadata": {},
   "source": [
    "## 2.1 Single Sample Case"
   ]
  },
  {
   "cell_type": "markdown",
   "metadata": {},
   "source": [
    "A given quantum states is seccretly prepared either in state $\\rho_0$ or $\\rho_1$ with probabilities $\\pi_0$ and $\\pi_1$ respectively. It is an observer's task to perform any quantum measurement to make the \"best\" guess on the state's true identity.\n",
    "\n",
    "If the \"best\" means the minimum error probability, we should find a proper set of $\\{E_b\\}$ to minimize\n",
    "\n",
    "$$\n",
    "P_e(\\hat\\rho_0|\\hat\\rho_1) \\equiv \\min_{\\{\\hat E_b\\}} \\sum_b\\,\\min\\!\n",
    "\\left\\{ \\pi_0{\\rm tr}(\\hat\\rho_0\\hat E_b), \\, \\pi_1{\\rm tr}(\\hat\\rho_1\\hat E_b)\\right\\}\\;.\n",
    "$$\n",
    "\n",
    "If we make a binary-valued POVM $\\{ E_0, \\, E_1 \\}$, we get\n",
    "\n",
    "$$\n",
    "P_e=\\pi_0\\,{\\rm tr}(\\hat\\rho_0\\hat E_1)\\,+\\,\\pi_1\\,{\\rm tr}\n",
    "(\\hat\\rho_1\\hat E_0)\\;.\n",
    "$$"
   ]
  },
  {
   "cell_type": "markdown",
   "metadata": {},
   "source": [
    "**Helstrom's minimal error-probability measurement**\n",
    "\n",
    "First we introduce the Hermitian operator\n",
    "\n",
    "$$\n",
    "\\Gamma \\equiv \\pi_1 \\rho_1 - \\pi_0 \\rho_0 = \\sum_{k=1}^{d} \\lambda_k\\,|k\\rangle \\langle k|\n",
    "$$"
   ]
  },
  {
   "cell_type": "markdown",
   "metadata": {},
   "source": [
    "**Proof:**\n",
    "\n",
    "Using the fact that $E_0 + E_1 = I$, we have\n",
    "\n",
    "$$\n",
    "\\begin{aligned}\n",
    "P_e\n",
    "&=\n",
    "\\pi_0{\\rm tr}\\Bigl(\\hat\\rho_0(I-\\hat E_0)\\Bigr)+\n",
    "\\pi_1{\\rm tr}(\\hat\\rho_1\\hat E_0)\\\\\n",
    "&=\n",
    "\\pi_0{\\rm tr}\\hat\\rho_0-\\pi_0{\\rm tr}(\\hat\\rho_0\\hat E_0)+\n",
    "\\pi_1{\\rm tr}(\\hat\\rho_1\\hat E_0)\\\\\n",
    "&=\n",
    "\\pi_0 + {\\rm tr}\\Bigl((\\pi_1\\hat\\rho_1-\\pi_0\\hat\\rho_0)\\hat E_0\\Bigr)\\\\\n",
    "&=\n",
    "\\pi_0 + {\\rm tr}\\Bigl(\\Gamma E_0 \\Bigr) = \\pi_1 - {\\rm tr}\\Bigl(\\Gamma E_1 \\Bigr)\n",
    "\\end{aligned}\n",
    "$$\n",
    "\n",
    "Using the spectral decomposition, we have\n",
    "\n",
    "$$\n",
    "P_e \n",
    "= \\pi_0 + \\sum_{k}^{d} \\lambda_k \\langle k | E_0 | k \\rangle  \n",
    "= \\pi_1 - \\sum_{k}^{d} \\lambda_k \\langle k | E_1 | k \\rangle \n",
    "$$\n",
    "\n"
   ]
  },
  {
   "cell_type": "markdown",
   "metadata": {},
   "source": [
    "To make $P_e$ as small as possible, we'd like that $\\sum_{k}^{d} \\lambda_k \\langle k | E_0 | k \\rangle$ is as small as possible and that $\\sum_{k}^{d} \\lambda_k \\langle k | E_1 | k \\rangle$ as large as possible."
   ]
  },
  {
   "cell_type": "markdown",
   "metadata": {},
   "source": [
    "$\\Gamma$ is neither positive- nor negative-definite, suppose that\n",
    "\n",
    "$$\n",
    "\\begin{aligned}\n",
    "&\n",
    "\\lambda_k < 0~~~\\rm for~~~1 \\le k < k_0 \\\\\n",
    "&\n",
    "\\lambda_k = 0~~~\\rm for~~~k_0 \\le k < k_1 \\\\\n",
    "&\n",
    "\\lambda_k > 0~~~\\rm for~~~k_1 \\le k \\le d\n",
    "\\end{aligned}\n",
    "$$\n",
    "\n",
    "Then the optimal measurement operators can be constructed as follows\n",
    "\n",
    "$$\n",
    "E_0 = \\sum_{k~=~1}^{k_0-1} | k \\rangle \\langle k |, ~~~ E_1 = \\sum_{k~=~k_0}^{d} | k \\rangle \\langle k |\n",
    "$$\n",
    "\n",
    "**Proof done** $\\Box$ "
   ]
  },
  {
   "cell_type": "markdown",
   "metadata": {},
   "source": [
    "If negative eigenvalues do not exist, we can always guess the quantum state to be $\\rho_1$.\n",
    "\n",
    "Therefore we have\n",
    "\n",
    "$$\n",
    "P_e = \\pi_0 - \\sum_{k~=~1}^{k_0-1} |\\lambda_k| = \\pi_1 - \\sum_{k~=~k_0}^{d} |\\lambda_k|\n",
    "$$\n",
    "\n",
    "$$\n",
    "P_e = \\frac{1}{2} \\left( 1 - \\sum_{k} |\\lambda_k| \\right) = \\frac{1}{2} \\left( 1 - \\rm tr | \\Gamma | \\right)\n",
    "$$\n",
    "\n",
    "where $|\\Gamma| = \\left( \\Gamma^{\\dagger} \\Gamma \\right)^{\\frac{1}{2}}$, i.e. the norm of $\\Gamma$.\n",
    "\n",
    "Finally we get the well-known Helstrom bound for the minimal error probability in discriminating $\\rho_0$ and $\\rho_1$\n",
    "\n",
    "$$\n",
    "P_e = \\frac{1}{2} \\left( 1 - \\rm tr | \\pi_1 \\rho_1 - \\pi_0 \\rho_0 | \\right) = \\frac{1}{2} \\left( 1 - \\| \\pi_1 \\rho_1 - \\pi_0 \\rho_0  \\| \\right)\n",
    "$$"
   ]
  },
  {
   "cell_type": "markdown",
   "metadata": {},
   "source": [
    "## 2.2 Many Sample Case"
   ]
  },
  {
   "cell_type": "markdown",
   "metadata": {},
   "source": [
    "If there are M > 1 copies of the quantum state upon which measurements can be performed. One could imagine making a sophisticated measurement on all M quantum systems at once, i.e. one the $N^M$-dimensional hilbert space describing the complete ensemble of quantum states. Then the Helstrom operator becomes\n",
    "\n",
    "$$\n",
    "\\hat\\Gamma_M=\\pi_0\\!\\left(\\,\\bigotimes_{k=1}^M\\hat\\rho_0\\right)-\n",
    "\\pi_1\\!\\left(\\,\\bigotimes_{k=1}^M\\hat\\rho_1\\right)\\;\n",
    "$$"
   ]
  }
 ],
 "metadata": {
  "anaconda-cloud": {},
  "kernelspec": {
   "display_name": "Python [default]",
   "language": "python",
   "name": "python2"
  },
  "language_info": {
   "codemirror_mode": {
    "name": "ipython",
    "version": 2
   },
   "file_extension": ".py",
   "mimetype": "text/x-python",
   "name": "python",
   "nbconvert_exporter": "python",
   "pygments_lexer": "ipython2",
   "version": "2.7.12"
  }
 },
 "nbformat": 4,
 "nbformat_minor": 1
}
