{
 "cells": [
  {
   "cell_type": "markdown",
   "metadata": {},
   "source": [
    "## Quantum Illumination Experiment 3\n",
    "\n",
    "__Error probabilities with respect to average photon numbers.__\n",
    "\n",
    "- Author: L. Fan\n",
    "- Created Date: 2017-09-19\n",
    "- The Second Latest Modified: 2017-11-16\n",
    "- The Latest Modified: 2017-11-19"
   ]
  },
  {
   "cell_type": "markdown",
   "metadata": {},
   "source": [
    "--- 3799.040326356888 seconds ---"
   ]
  },
  {
   "cell_type": "code",
   "execution_count": 14,
   "metadata": {
    "collapsed": true
   },
   "outputs": [],
   "source": [
    "import numpy as np\n",
    "import pandas as pd\n",
    "import matplotlib.pyplot as plt\n",
    "import seaborn as sns\n",
    "\n",
    "# configuration\n",
    "# from IPython.display import set_matplotlib_formats                                                   \n",
    "# set_matplotlib_formats('pdf', 'png')\n",
    "# np.set_printoptions(threshold='nan', precision=6, suppress=True)\n",
    "plt.style.use(['seaborn-whitegrid', '14pt'])\n",
    "%matplotlib inline"
   ]
  },
  {
   "cell_type": "code",
   "execution_count": 15,
   "metadata": {
    "collapsed": true,
    "scrolled": true
   },
   "outputs": [],
   "source": [
    "filename1 = 'expr_3_nmax_32_nth_0.1_ns_0.01_04-19.csv'\n",
    "df = pd.read_csv('../output/data/expr_3/' + filename1, comment='#')\n",
    "\n",
    "# filename2 = 'expr_3_qi_nmax_32_nth_1.0_g_101_04-17_opt_etgl_L-BFGS-B.csv'\n",
    "# df2 = pd.read_csv('../output/data/expr_3/' + filename2, comment='#')"
   ]
  },
  {
   "cell_type": "code",
   "execution_count": 16,
   "metadata": {},
   "outputs": [
    {
     "data": {
      "text/plain": [
       "(6, 15)"
      ]
     },
     "execution_count": 16,
     "metadata": {},
     "output_type": "execute_result"
    }
   ],
   "source": [
    "df.shape"
   ]
  },
  {
   "cell_type": "code",
   "execution_count": 17,
   "metadata": {},
   "outputs": [
    {
     "data": {
      "text/html": [
       "<div>\n",
       "<style scoped>\n",
       "    .dataframe tbody tr th:only-of-type {\n",
       "        vertical-align: middle;\n",
       "    }\n",
       "\n",
       "    .dataframe tbody tr th {\n",
       "        vertical-align: top;\n",
       "    }\n",
       "\n",
       "    .dataframe thead th {\n",
       "        text-align: right;\n",
       "    }\n",
       "</style>\n",
       "<table border=\"1\" class=\"dataframe\">\n",
       "  <thead>\n",
       "    <tr style=\"text-align: right;\">\n",
       "      <th></th>\n",
       "      <th>nmax</th>\n",
       "      <th>Nth</th>\n",
       "      <th>R</th>\n",
       "      <th>State</th>\n",
       "      <th>sqz</th>\n",
       "      <th>lambda</th>\n",
       "      <th>Aver_N</th>\n",
       "      <th>VN_Entropy</th>\n",
       "      <th>Helstrom_Bound</th>\n",
       "      <th>Chernoff_Bound</th>\n",
       "      <th>optimal_s</th>\n",
       "      <th>A_aver_N</th>\n",
       "      <th>B_aver_N</th>\n",
       "      <th>ra</th>\n",
       "      <th>rb</th>\n",
       "    </tr>\n",
       "  </thead>\n",
       "  <tbody>\n",
       "    <tr>\n",
       "      <th>0</th>\n",
       "      <td>32</td>\n",
       "      <td>0.1</td>\n",
       "      <td>0.01</td>\n",
       "      <td>TMSS</td>\n",
       "      <td>0.099834</td>\n",
       "      <td>0.099504</td>\n",
       "      <td>0.020000</td>\n",
       "      <td>0.056102</td>\n",
       "      <td>0.495279</td>\n",
       "      <td>0.499957</td>\n",
       "      <td>0.500000</td>\n",
       "      <td>0.010000</td>\n",
       "      <td>0.010000</td>\n",
       "      <td>NaN</td>\n",
       "      <td>NaN</td>\n",
       "    </tr>\n",
       "    <tr>\n",
       "      <th>1</th>\n",
       "      <td>32</td>\n",
       "      <td>0.1</td>\n",
       "      <td>0.01</td>\n",
       "      <td>PS</td>\n",
       "      <td>0.099834</td>\n",
       "      <td>0.099504</td>\n",
       "      <td>0.079608</td>\n",
       "      <td>0.168732</td>\n",
       "      <td>0.490605</td>\n",
       "      <td>0.499839</td>\n",
       "      <td>0.500000</td>\n",
       "      <td>0.039804</td>\n",
       "      <td>0.039804</td>\n",
       "      <td>NaN</td>\n",
       "      <td>NaN</td>\n",
       "    </tr>\n",
       "    <tr>\n",
       "      <th>2</th>\n",
       "      <td>32</td>\n",
       "      <td>0.1</td>\n",
       "      <td>0.01</td>\n",
       "      <td>PA</td>\n",
       "      <td>0.099834</td>\n",
       "      <td>0.099504</td>\n",
       "      <td>2.079608</td>\n",
       "      <td>0.168732</td>\n",
       "      <td>0.485689</td>\n",
       "      <td>0.499632</td>\n",
       "      <td>0.500000</td>\n",
       "      <td>1.039804</td>\n",
       "      <td>1.039804</td>\n",
       "      <td>NaN</td>\n",
       "      <td>NaN</td>\n",
       "    </tr>\n",
       "    <tr>\n",
       "      <th>3</th>\n",
       "      <td>32</td>\n",
       "      <td>0.1</td>\n",
       "      <td>0.01</td>\n",
       "      <td>PSA</td>\n",
       "      <td>0.099834</td>\n",
       "      <td>0.099504</td>\n",
       "      <td>0.300129</td>\n",
       "      <td>0.439049</td>\n",
       "      <td>0.481975</td>\n",
       "      <td>0.499450</td>\n",
       "      <td>0.500000</td>\n",
       "      <td>0.150064</td>\n",
       "      <td>0.150064</td>\n",
       "      <td>NaN</td>\n",
       "      <td>NaN</td>\n",
       "    </tr>\n",
       "    <tr>\n",
       "      <th>4</th>\n",
       "      <td>32</td>\n",
       "      <td>0.1</td>\n",
       "      <td>0.01</td>\n",
       "      <td>PAS</td>\n",
       "      <td>0.099834</td>\n",
       "      <td>0.099504</td>\n",
       "      <td>2.300129</td>\n",
       "      <td>0.439049</td>\n",
       "      <td>0.474332</td>\n",
       "      <td>0.498892</td>\n",
       "      <td>0.499989</td>\n",
       "      <td>1.150064</td>\n",
       "      <td>1.150064</td>\n",
       "      <td>NaN</td>\n",
       "      <td>NaN</td>\n",
       "    </tr>\n",
       "    <tr>\n",
       "      <th>5</th>\n",
       "      <td>32</td>\n",
       "      <td>0.1</td>\n",
       "      <td>0.01</td>\n",
       "      <td>PCS</td>\n",
       "      <td>0.099834</td>\n",
       "      <td>0.099504</td>\n",
       "      <td>2.006894</td>\n",
       "      <td>0.687711</td>\n",
       "      <td>0.459463</td>\n",
       "      <td>0.497008</td>\n",
       "      <td>0.498883</td>\n",
       "      <td>0.462058</td>\n",
       "      <td>1.544835</td>\n",
       "      <td>0.11697</td>\n",
       "      <td>0.948384</td>\n",
       "    </tr>\n",
       "  </tbody>\n",
       "</table>\n",
       "</div>"
      ],
      "text/plain": [
       "   nmax  Nth     R State       sqz    lambda    Aver_N  VN_Entropy  \\\n",
       "0    32  0.1  0.01  TMSS  0.099834  0.099504  0.020000    0.056102   \n",
       "1    32  0.1  0.01    PS  0.099834  0.099504  0.079608    0.168732   \n",
       "2    32  0.1  0.01    PA  0.099834  0.099504  2.079608    0.168732   \n",
       "3    32  0.1  0.01   PSA  0.099834  0.099504  0.300129    0.439049   \n",
       "4    32  0.1  0.01   PAS  0.099834  0.099504  2.300129    0.439049   \n",
       "5    32  0.1  0.01   PCS  0.099834  0.099504  2.006894    0.687711   \n",
       "\n",
       "   Helstrom_Bound  Chernoff_Bound  optimal_s  A_aver_N  B_aver_N       ra  \\\n",
       "0        0.495279        0.499957   0.500000  0.010000  0.010000      NaN   \n",
       "1        0.490605        0.499839   0.500000  0.039804  0.039804      NaN   \n",
       "2        0.485689        0.499632   0.500000  1.039804  1.039804      NaN   \n",
       "3        0.481975        0.499450   0.500000  0.150064  0.150064      NaN   \n",
       "4        0.474332        0.498892   0.499989  1.150064  1.150064      NaN   \n",
       "5        0.459463        0.497008   0.498883  0.462058  1.544835  0.11697   \n",
       "\n",
       "         rb  \n",
       "0       NaN  \n",
       "1       NaN  \n",
       "2       NaN  \n",
       "3       NaN  \n",
       "4       NaN  \n",
       "5  0.948384  "
      ]
     },
     "execution_count": 17,
     "metadata": {},
     "output_type": "execute_result"
    }
   ],
   "source": [
    "df"
   ]
  },
  {
   "cell_type": "code",
   "execution_count": 18,
   "metadata": {
    "collapsed": true
   },
   "outputs": [],
   "source": [
    "def upper_bound(QCB, M):\n",
    "    \"\"\" Upper bound (Quantum Chernoff bound) of the error probability\n",
    "        using s = 1/2\n",
    "    \"\"\"\n",
    "    return 0.5 * QCB ** M\n",
    "\n",
    "\n",
    "def lower_bound(tr, M):\n",
    "    \"\"\" Lower bound of the error probability\n",
    "    \"\"\"\n",
    "    return (1 - np.sqrt(1 - tr ** (2 * M))) / 2"
   ]
  },
  {
   "cell_type": "code",
   "execution_count": 19,
   "metadata": {
    "collapsed": true
   },
   "outputs": [],
   "source": [
    "df['Trace'] = df['Chernoff_Bound'].apply(lambda x: 2 * x)"
   ]
  },
  {
   "cell_type": "code",
   "execution_count": 20,
   "metadata": {},
   "outputs": [
    {
     "data": {
      "text/html": [
       "<div>\n",
       "<style scoped>\n",
       "    .dataframe tbody tr th:only-of-type {\n",
       "        vertical-align: middle;\n",
       "    }\n",
       "\n",
       "    .dataframe tbody tr th {\n",
       "        vertical-align: top;\n",
       "    }\n",
       "\n",
       "    .dataframe thead th {\n",
       "        text-align: right;\n",
       "    }\n",
       "</style>\n",
       "<table border=\"1\" class=\"dataframe\">\n",
       "  <thead>\n",
       "    <tr style=\"text-align: right;\">\n",
       "      <th></th>\n",
       "      <th>nmax</th>\n",
       "      <th>Nth</th>\n",
       "      <th>R</th>\n",
       "      <th>State</th>\n",
       "      <th>sqz</th>\n",
       "      <th>lambda</th>\n",
       "      <th>Aver_N</th>\n",
       "      <th>VN_Entropy</th>\n",
       "      <th>Helstrom_Bound</th>\n",
       "      <th>Chernoff_Bound</th>\n",
       "      <th>optimal_s</th>\n",
       "      <th>A_aver_N</th>\n",
       "      <th>B_aver_N</th>\n",
       "      <th>ra</th>\n",
       "      <th>rb</th>\n",
       "      <th>Trace</th>\n",
       "    </tr>\n",
       "  </thead>\n",
       "  <tbody>\n",
       "    <tr>\n",
       "      <th>0</th>\n",
       "      <td>32</td>\n",
       "      <td>0.1</td>\n",
       "      <td>0.01</td>\n",
       "      <td>TMSS</td>\n",
       "      <td>0.099834</td>\n",
       "      <td>0.099504</td>\n",
       "      <td>0.020000</td>\n",
       "      <td>0.056102</td>\n",
       "      <td>0.495279</td>\n",
       "      <td>0.499957</td>\n",
       "      <td>0.500000</td>\n",
       "      <td>0.010000</td>\n",
       "      <td>0.010000</td>\n",
       "      <td>NaN</td>\n",
       "      <td>NaN</td>\n",
       "      <td>0.999914</td>\n",
       "    </tr>\n",
       "    <tr>\n",
       "      <th>1</th>\n",
       "      <td>32</td>\n",
       "      <td>0.1</td>\n",
       "      <td>0.01</td>\n",
       "      <td>PS</td>\n",
       "      <td>0.099834</td>\n",
       "      <td>0.099504</td>\n",
       "      <td>0.079608</td>\n",
       "      <td>0.168732</td>\n",
       "      <td>0.490605</td>\n",
       "      <td>0.499839</td>\n",
       "      <td>0.500000</td>\n",
       "      <td>0.039804</td>\n",
       "      <td>0.039804</td>\n",
       "      <td>NaN</td>\n",
       "      <td>NaN</td>\n",
       "      <td>0.999677</td>\n",
       "    </tr>\n",
       "    <tr>\n",
       "      <th>2</th>\n",
       "      <td>32</td>\n",
       "      <td>0.1</td>\n",
       "      <td>0.01</td>\n",
       "      <td>PA</td>\n",
       "      <td>0.099834</td>\n",
       "      <td>0.099504</td>\n",
       "      <td>2.079608</td>\n",
       "      <td>0.168732</td>\n",
       "      <td>0.485689</td>\n",
       "      <td>0.499632</td>\n",
       "      <td>0.500000</td>\n",
       "      <td>1.039804</td>\n",
       "      <td>1.039804</td>\n",
       "      <td>NaN</td>\n",
       "      <td>NaN</td>\n",
       "      <td>0.999263</td>\n",
       "    </tr>\n",
       "    <tr>\n",
       "      <th>3</th>\n",
       "      <td>32</td>\n",
       "      <td>0.1</td>\n",
       "      <td>0.01</td>\n",
       "      <td>PSA</td>\n",
       "      <td>0.099834</td>\n",
       "      <td>0.099504</td>\n",
       "      <td>0.300129</td>\n",
       "      <td>0.439049</td>\n",
       "      <td>0.481975</td>\n",
       "      <td>0.499450</td>\n",
       "      <td>0.500000</td>\n",
       "      <td>0.150064</td>\n",
       "      <td>0.150064</td>\n",
       "      <td>NaN</td>\n",
       "      <td>NaN</td>\n",
       "      <td>0.998901</td>\n",
       "    </tr>\n",
       "    <tr>\n",
       "      <th>4</th>\n",
       "      <td>32</td>\n",
       "      <td>0.1</td>\n",
       "      <td>0.01</td>\n",
       "      <td>PAS</td>\n",
       "      <td>0.099834</td>\n",
       "      <td>0.099504</td>\n",
       "      <td>2.300129</td>\n",
       "      <td>0.439049</td>\n",
       "      <td>0.474332</td>\n",
       "      <td>0.498892</td>\n",
       "      <td>0.499989</td>\n",
       "      <td>1.150064</td>\n",
       "      <td>1.150064</td>\n",
       "      <td>NaN</td>\n",
       "      <td>NaN</td>\n",
       "      <td>0.997783</td>\n",
       "    </tr>\n",
       "    <tr>\n",
       "      <th>5</th>\n",
       "      <td>32</td>\n",
       "      <td>0.1</td>\n",
       "      <td>0.01</td>\n",
       "      <td>PCS</td>\n",
       "      <td>0.099834</td>\n",
       "      <td>0.099504</td>\n",
       "      <td>2.006894</td>\n",
       "      <td>0.687711</td>\n",
       "      <td>0.459463</td>\n",
       "      <td>0.497008</td>\n",
       "      <td>0.498883</td>\n",
       "      <td>0.462058</td>\n",
       "      <td>1.544835</td>\n",
       "      <td>0.11697</td>\n",
       "      <td>0.948384</td>\n",
       "      <td>0.994016</td>\n",
       "    </tr>\n",
       "  </tbody>\n",
       "</table>\n",
       "</div>"
      ],
      "text/plain": [
       "   nmax  Nth     R State       sqz    lambda    Aver_N  VN_Entropy  \\\n",
       "0    32  0.1  0.01  TMSS  0.099834  0.099504  0.020000    0.056102   \n",
       "1    32  0.1  0.01    PS  0.099834  0.099504  0.079608    0.168732   \n",
       "2    32  0.1  0.01    PA  0.099834  0.099504  2.079608    0.168732   \n",
       "3    32  0.1  0.01   PSA  0.099834  0.099504  0.300129    0.439049   \n",
       "4    32  0.1  0.01   PAS  0.099834  0.099504  2.300129    0.439049   \n",
       "5    32  0.1  0.01   PCS  0.099834  0.099504  2.006894    0.687711   \n",
       "\n",
       "   Helstrom_Bound  Chernoff_Bound  optimal_s  A_aver_N  B_aver_N       ra  \\\n",
       "0        0.495279        0.499957   0.500000  0.010000  0.010000      NaN   \n",
       "1        0.490605        0.499839   0.500000  0.039804  0.039804      NaN   \n",
       "2        0.485689        0.499632   0.500000  1.039804  1.039804      NaN   \n",
       "3        0.481975        0.499450   0.500000  0.150064  0.150064      NaN   \n",
       "4        0.474332        0.498892   0.499989  1.150064  1.150064      NaN   \n",
       "5        0.459463        0.497008   0.498883  0.462058  1.544835  0.11697   \n",
       "\n",
       "         rb     Trace  \n",
       "0       NaN  0.999914  \n",
       "1       NaN  0.999677  \n",
       "2       NaN  0.999263  \n",
       "3       NaN  0.998901  \n",
       "4       NaN  0.997783  \n",
       "5  0.948384  0.994016  "
      ]
     },
     "execution_count": 20,
     "metadata": {},
     "output_type": "execute_result"
    }
   ],
   "source": [
    "df"
   ]
  },
  {
   "cell_type": "code",
   "execution_count": 21,
   "metadata": {},
   "outputs": [
    {
     "name": "stdout",
     "output_type": "stream",
     "text": [
      "0.999914200051\n",
      "0.999677113293\n",
      "0.999263243254\n",
      "0.998900522177\n",
      "0.99778322983\n",
      "0.994016471141\n"
     ]
    }
   ],
   "source": [
    "traces = df['Trace'].values\n",
    "for e in traces:\n",
    "    print(e)"
   ]
  },
  {
   "cell_type": "markdown",
   "metadata": {},
   "source": [
    "TMSS 0.999914200049\n",
    "PS 0.999677113284\n",
    "PSA 0.998900522122\n",
    "PCS 0.993858364839"
   ]
  },
  {
   "cell_type": "markdown",
   "metadata": {},
   "source": [
    "## Plot"
   ]
  },
  {
   "cell_type": "code",
   "execution_count": 22,
   "metadata": {
    "collapsed": true
   },
   "outputs": [],
   "source": [
    "dashes = {'PA':[6,2], 'PAS':[6,2,1,2], 'PS':[3,2], 'PSA':[3,2,1,2], 'PCS':[1,1]}\n",
    "# names = ('TMSS', 'PS', 'PSA', 'PCS')\n",
    "names = ('PA', 'PAS', 'PCS')\n",
    "traces = {'TMSS':0.999914200051, 'PS':0.999677113293, 'PSA':0.998900522177, \n",
    "          'PCS':0.994016471141, 'PA':0.999263243254, 'PAS': 0.99778322983}"
   ]
  },
  {
   "cell_type": "code",
   "execution_count": 23,
   "metadata": {
    "collapsed": true
   },
   "outputs": [],
   "source": [
    "res = dict()\n",
    "res['M'] = np.logspace(2, 5, 51)\n",
    "for name in names:\n",
    "    trace = traces[name]\n",
    "    res[name + 'upper'] = [upper_bound(trace, m) for m in res['M']]\n",
    "    res[name + 'lower'] = [lower_bound(trace, m) for m in res['M']]"
   ]
  },
  {
   "cell_type": "code",
   "execution_count": 24,
   "metadata": {},
   "outputs": [
    {
     "data": {
      "text/plain": [
       "51"
      ]
     },
     "execution_count": 24,
     "metadata": {},
     "output_type": "execute_result"
    }
   ],
   "source": [
    "len(res['M'])"
   ]
  },
  {
   "cell_type": "code",
   "execution_count": 25,
   "metadata": {},
   "outputs": [
    {
     "data": {
      "text/plain": [
       "<matplotlib.legend.Legend at 0x7fe2c1026eb8>"
      ]
     },
     "execution_count": 25,
     "metadata": {},
     "output_type": "execute_result"
    },
    {
     "data": {
      "image/png": "[encoded data removed]",
      "text/plain": [
       "<matplotlib.figure.Figure at 0x7fe2c11176a0>"
      ]
     },
     "metadata": {},
     "output_type": "display_data"
    }
   ],
   "source": [
    "for key, item in res.items():\n",
    "    if key != 'M':\n",
    "        plt.plot(res['M'], item, label=key)\n",
    "plt.xscale(\"log\")\n",
    "plt.yscale(\"log\")\n",
    "plt.ylim(1e-6, 1)\n",
    "plt.legend(loc=0)"
   ]
  },
  {
   "cell_type": "markdown",
   "metadata": {},
   "source": [
    "## Error vs Lambda"
   ]
  },
  {
   "cell_type": "code",
   "execution_count": 27,
   "metadata": {},
   "outputs": [
    {
     "data": {
      "text/plain": [
       "<matplotlib.text.Text at 0x7fe2c0548c88>"
      ]
     },
     "execution_count": 27,
     "metadata": {},
     "output_type": "execute_result"
    },
    {
     "data": {
      "image/png": "[encoded data removed]",
      "text/plain": [
       "<matplotlib.figure.Figure at 0x7fe2c0842320>"
      ]
     },
     "metadata": {},
     "output_type": "display_data"
    }
   ],
   "source": [
    "for name in names:\n",
    "    temp_df = df[df['State'] == name]\n",
    "    if name == 'TMSS':\n",
    "        plt.plot(temp_df['lambda'], temp_df['Chernoff_Bound'], label=name)\n",
    "    else:\n",
    "        plt.plot(temp_df['lambda'], temp_df['Chernoff_Bound'], \n",
    "                 dashes=dashes[name], label=name)\n",
    "plt.xlim(-0.008, 0.5)\n",
    "plt.ylim(0.4975, 0.50008)\n",
    "plt.legend(loc=3, fontsize=13, ncol=2)\n",
    "plt.xlabel(\"$\\lambda$\")\n",
    "plt.ylabel(\"Quantum Chernoff Bound\")\n",
    "# plt.savefig('../output/figures/g_qcb_vs_lmd_opt_qcb.pdf', bbox_inches='tight')"
   ]
  },
  {
   "cell_type": "code",
   "execution_count": 28,
   "metadata": {},
   "outputs": [
    {
     "ename": "KeyError",
     "evalue": "'Lower_Bound'",
     "output_type": "error",
     "traceback": [
      "\u001b[0;31m---------------------------------------------------------------------------\u001b[0m",
      "\u001b[0;31mKeyError\u001b[0m                                  Traceback (most recent call last)",
      "\u001b[0;32m~/anaconda3/envs/qutip-env/lib/python3.6/site-packages/pandas/core/indexes/base.py\u001b[0m in \u001b[0;36mget_loc\u001b[0;34m(self, key, method, tolerance)\u001b[0m\n\u001b[1;32m   2524\u001b[0m             \u001b[0;32mtry\u001b[0m\u001b[0;34m:\u001b[0m\u001b[0;34m\u001b[0m\u001b[0m\n\u001b[0;32m-> 2525\u001b[0;31m                 \u001b[0;32mreturn\u001b[0m \u001b[0mself\u001b[0m\u001b[0;34m.\u001b[0m\u001b[0m_engine\u001b[0m\u001b[0;34m.\u001b[0m\u001b[0mget_loc\u001b[0m\u001b[0;34m(\u001b[0m\u001b[0mkey\u001b[0m\u001b[0;34m)\u001b[0m\u001b[0;34m\u001b[0m\u001b[0m\n\u001b[0m\u001b[1;32m   2526\u001b[0m             \u001b[0;32mexcept\u001b[0m \u001b[0mKeyError\u001b[0m\u001b[0;34m:\u001b[0m\u001b[0;34m\u001b[0m\u001b[0m\n",
      "\u001b[0;32mpandas/_libs/index.pyx\u001b[0m in \u001b[0;36mpandas._libs.index.IndexEngine.get_loc\u001b[0;34m()\u001b[0m\n",
      "\u001b[0;32mpandas/_libs/index.pyx\u001b[0m in \u001b[0;36mpandas._libs.index.IndexEngine.get_loc\u001b[0;34m()\u001b[0m\n",
      "\u001b[0;32mpandas/_libs/hashtable_class_helper.pxi\u001b[0m in \u001b[0;36mpandas._libs.hashtable.PyObjectHashTable.get_item\u001b[0;34m()\u001b[0m\n",
      "\u001b[0;32mpandas/_libs/hashtable_class_helper.pxi\u001b[0m in \u001b[0;36mpandas._libs.hashtable.PyObjectHashTable.get_item\u001b[0;34m()\u001b[0m\n",
      "\u001b[0;31mKeyError\u001b[0m: 'Lower_Bound'",
      "\nDuring handling of the above exception, another exception occurred:\n",
      "\u001b[0;31mKeyError\u001b[0m                                  Traceback (most recent call last)",
      "\u001b[0;32m<ipython-input-28-10e65cfdbbe9>\u001b[0m in \u001b[0;36m<module>\u001b[0;34m()\u001b[0m\n\u001b[1;32m     12\u001b[0m         \u001b[0mplt\u001b[0m\u001b[0;34m.\u001b[0m\u001b[0mplot\u001b[0m\u001b[0;34m(\u001b[0m\u001b[0mtemp_df\u001b[0m\u001b[0;34m[\u001b[0m\u001b[0;34m'lambda'\u001b[0m\u001b[0;34m]\u001b[0m\u001b[0;34m,\u001b[0m \u001b[0mtemp_df\u001b[0m\u001b[0;34m[\u001b[0m\u001b[0;34m'Lower_Bound'\u001b[0m\u001b[0;34m]\u001b[0m\u001b[0;34m,\u001b[0m \u001b[0mlabel\u001b[0m\u001b[0;34m=\u001b[0m\u001b[0mname\u001b[0m\u001b[0;34m+\u001b[0m\u001b[0;34m'_low'\u001b[0m\u001b[0;34m)\u001b[0m\u001b[0;34m\u001b[0m\u001b[0m\n\u001b[1;32m     13\u001b[0m     \u001b[0;32melse\u001b[0m\u001b[0;34m:\u001b[0m\u001b[0;34m\u001b[0m\u001b[0m\n\u001b[0;32m---> 14\u001b[0;31m         plt.plot(temp_df['lambda'], temp_df['Lower_Bound'], \n\u001b[0m\u001b[1;32m     15\u001b[0m                  dashes=dashes[name], label=name)\n\u001b[1;32m     16\u001b[0m \u001b[0;34m\u001b[0m\u001b[0m\n",
      "\u001b[0;32m~/anaconda3/envs/qutip-env/lib/python3.6/site-packages/pandas/core/frame.py\u001b[0m in \u001b[0;36m__getitem__\u001b[0;34m(self, key)\u001b[0m\n\u001b[1;32m   2137\u001b[0m             \u001b[0;32mreturn\u001b[0m \u001b[0mself\u001b[0m\u001b[0;34m.\u001b[0m\u001b[0m_getitem_multilevel\u001b[0m\u001b[0;34m(\u001b[0m\u001b[0mkey\u001b[0m\u001b[0;34m)\u001b[0m\u001b[0;34m\u001b[0m\u001b[0m\n\u001b[1;32m   2138\u001b[0m         \u001b[0;32melse\u001b[0m\u001b[0;34m:\u001b[0m\u001b[0;34m\u001b[0m\u001b[0m\n\u001b[0;32m-> 2139\u001b[0;31m             \u001b[0;32mreturn\u001b[0m \u001b[0mself\u001b[0m\u001b[0;34m.\u001b[0m\u001b[0m_getitem_column\u001b[0m\u001b[0;34m(\u001b[0m\u001b[0mkey\u001b[0m\u001b[0;34m)\u001b[0m\u001b[0;34m\u001b[0m\u001b[0m\n\u001b[0m\u001b[1;32m   2140\u001b[0m \u001b[0;34m\u001b[0m\u001b[0m\n\u001b[1;32m   2141\u001b[0m     \u001b[0;32mdef\u001b[0m \u001b[0m_getitem_column\u001b[0m\u001b[0;34m(\u001b[0m\u001b[0mself\u001b[0m\u001b[0;34m,\u001b[0m \u001b[0mkey\u001b[0m\u001b[0;34m)\u001b[0m\u001b[0;34m:\u001b[0m\u001b[0;34m\u001b[0m\u001b[0m\n",
      "\u001b[0;32m~/anaconda3/envs/qutip-env/lib/python3.6/site-packages/pandas/core/frame.py\u001b[0m in \u001b[0;36m_getitem_column\u001b[0;34m(self, key)\u001b[0m\n\u001b[1;32m   2144\u001b[0m         \u001b[0;31m# get column\u001b[0m\u001b[0;34m\u001b[0m\u001b[0;34m\u001b[0m\u001b[0m\n\u001b[1;32m   2145\u001b[0m         \u001b[0;32mif\u001b[0m \u001b[0mself\u001b[0m\u001b[0;34m.\u001b[0m\u001b[0mcolumns\u001b[0m\u001b[0;34m.\u001b[0m\u001b[0mis_unique\u001b[0m\u001b[0;34m:\u001b[0m\u001b[0;34m\u001b[0m\u001b[0m\n\u001b[0;32m-> 2146\u001b[0;31m             \u001b[0;32mreturn\u001b[0m \u001b[0mself\u001b[0m\u001b[0;34m.\u001b[0m\u001b[0m_get_item_cache\u001b[0m\u001b[0;34m(\u001b[0m\u001b[0mkey\u001b[0m\u001b[0;34m)\u001b[0m\u001b[0;34m\u001b[0m\u001b[0m\n\u001b[0m\u001b[1;32m   2147\u001b[0m \u001b[0;34m\u001b[0m\u001b[0m\n\u001b[1;32m   2148\u001b[0m         \u001b[0;31m# duplicate columns & possible reduce dimensionality\u001b[0m\u001b[0;34m\u001b[0m\u001b[0;34m\u001b[0m\u001b[0m\n",
      "\u001b[0;32m~/anaconda3/envs/qutip-env/lib/python3.6/site-packages/pandas/core/generic.py\u001b[0m in \u001b[0;36m_get_item_cache\u001b[0;34m(self, item)\u001b[0m\n\u001b[1;32m   1840\u001b[0m         \u001b[0mres\u001b[0m \u001b[0;34m=\u001b[0m \u001b[0mcache\u001b[0m\u001b[0;34m.\u001b[0m\u001b[0mget\u001b[0m\u001b[0;34m(\u001b[0m\u001b[0mitem\u001b[0m\u001b[0;34m)\u001b[0m\u001b[0;34m\u001b[0m\u001b[0m\n\u001b[1;32m   1841\u001b[0m         \u001b[0;32mif\u001b[0m \u001b[0mres\u001b[0m \u001b[0;32mis\u001b[0m \u001b[0;32mNone\u001b[0m\u001b[0;34m:\u001b[0m\u001b[0;34m\u001b[0m\u001b[0m\n\u001b[0;32m-> 1842\u001b[0;31m             \u001b[0mvalues\u001b[0m \u001b[0;34m=\u001b[0m \u001b[0mself\u001b[0m\u001b[0;34m.\u001b[0m\u001b[0m_data\u001b[0m\u001b[0;34m.\u001b[0m\u001b[0mget\u001b[0m\u001b[0;34m(\u001b[0m\u001b[0mitem\u001b[0m\u001b[0;34m)\u001b[0m\u001b[0;34m\u001b[0m\u001b[0m\n\u001b[0m\u001b[1;32m   1843\u001b[0m             \u001b[0mres\u001b[0m \u001b[0;34m=\u001b[0m \u001b[0mself\u001b[0m\u001b[0;34m.\u001b[0m\u001b[0m_box_item_values\u001b[0m\u001b[0;34m(\u001b[0m\u001b[0mitem\u001b[0m\u001b[0;34m,\u001b[0m \u001b[0mvalues\u001b[0m\u001b[0;34m)\u001b[0m\u001b[0;34m\u001b[0m\u001b[0m\n\u001b[1;32m   1844\u001b[0m             \u001b[0mcache\u001b[0m\u001b[0;34m[\u001b[0m\u001b[0mitem\u001b[0m\u001b[0;34m]\u001b[0m \u001b[0;34m=\u001b[0m \u001b[0mres\u001b[0m\u001b[0;34m\u001b[0m\u001b[0m\n",
      "\u001b[0;32m~/anaconda3/envs/qutip-env/lib/python3.6/site-packages/pandas/core/internals.py\u001b[0m in \u001b[0;36mget\u001b[0;34m(self, item, fastpath)\u001b[0m\n\u001b[1;32m   3841\u001b[0m \u001b[0;34m\u001b[0m\u001b[0m\n\u001b[1;32m   3842\u001b[0m             \u001b[0;32mif\u001b[0m \u001b[0;32mnot\u001b[0m \u001b[0misna\u001b[0m\u001b[0;34m(\u001b[0m\u001b[0mitem\u001b[0m\u001b[0;34m)\u001b[0m\u001b[0;34m:\u001b[0m\u001b[0;34m\u001b[0m\u001b[0m\n\u001b[0;32m-> 3843\u001b[0;31m                 \u001b[0mloc\u001b[0m \u001b[0;34m=\u001b[0m \u001b[0mself\u001b[0m\u001b[0;34m.\u001b[0m\u001b[0mitems\u001b[0m\u001b[0;34m.\u001b[0m\u001b[0mget_loc\u001b[0m\u001b[0;34m(\u001b[0m\u001b[0mitem\u001b[0m\u001b[0;34m)\u001b[0m\u001b[0;34m\u001b[0m\u001b[0m\n\u001b[0m\u001b[1;32m   3844\u001b[0m             \u001b[0;32melse\u001b[0m\u001b[0;34m:\u001b[0m\u001b[0;34m\u001b[0m\u001b[0m\n\u001b[1;32m   3845\u001b[0m                 \u001b[0mindexer\u001b[0m \u001b[0;34m=\u001b[0m \u001b[0mnp\u001b[0m\u001b[0;34m.\u001b[0m\u001b[0marange\u001b[0m\u001b[0;34m(\u001b[0m\u001b[0mlen\u001b[0m\u001b[0;34m(\u001b[0m\u001b[0mself\u001b[0m\u001b[0;34m.\u001b[0m\u001b[0mitems\u001b[0m\u001b[0;34m)\u001b[0m\u001b[0;34m)\u001b[0m\u001b[0;34m[\u001b[0m\u001b[0misna\u001b[0m\u001b[0;34m(\u001b[0m\u001b[0mself\u001b[0m\u001b[0;34m.\u001b[0m\u001b[0mitems\u001b[0m\u001b[0;34m)\u001b[0m\u001b[0;34m]\u001b[0m\u001b[0;34m\u001b[0m\u001b[0m\n",
      "\u001b[0;32m~/anaconda3/envs/qutip-env/lib/python3.6/site-packages/pandas/core/indexes/base.py\u001b[0m in \u001b[0;36mget_loc\u001b[0;34m(self, key, method, tolerance)\u001b[0m\n\u001b[1;32m   2525\u001b[0m                 \u001b[0;32mreturn\u001b[0m \u001b[0mself\u001b[0m\u001b[0;34m.\u001b[0m\u001b[0m_engine\u001b[0m\u001b[0;34m.\u001b[0m\u001b[0mget_loc\u001b[0m\u001b[0;34m(\u001b[0m\u001b[0mkey\u001b[0m\u001b[0;34m)\u001b[0m\u001b[0;34m\u001b[0m\u001b[0m\n\u001b[1;32m   2526\u001b[0m             \u001b[0;32mexcept\u001b[0m \u001b[0mKeyError\u001b[0m\u001b[0;34m:\u001b[0m\u001b[0;34m\u001b[0m\u001b[0m\n\u001b[0;32m-> 2527\u001b[0;31m                 \u001b[0;32mreturn\u001b[0m \u001b[0mself\u001b[0m\u001b[0;34m.\u001b[0m\u001b[0m_engine\u001b[0m\u001b[0;34m.\u001b[0m\u001b[0mget_loc\u001b[0m\u001b[0;34m(\u001b[0m\u001b[0mself\u001b[0m\u001b[0;34m.\u001b[0m\u001b[0m_maybe_cast_indexer\u001b[0m\u001b[0;34m(\u001b[0m\u001b[0mkey\u001b[0m\u001b[0;34m)\u001b[0m\u001b[0;34m)\u001b[0m\u001b[0;34m\u001b[0m\u001b[0m\n\u001b[0m\u001b[1;32m   2528\u001b[0m \u001b[0;34m\u001b[0m\u001b[0m\n\u001b[1;32m   2529\u001b[0m         \u001b[0mindexer\u001b[0m \u001b[0;34m=\u001b[0m \u001b[0mself\u001b[0m\u001b[0;34m.\u001b[0m\u001b[0mget_indexer\u001b[0m\u001b[0;34m(\u001b[0m\u001b[0;34m[\u001b[0m\u001b[0mkey\u001b[0m\u001b[0;34m]\u001b[0m\u001b[0;34m,\u001b[0m \u001b[0mmethod\u001b[0m\u001b[0;34m=\u001b[0m\u001b[0mmethod\u001b[0m\u001b[0;34m,\u001b[0m \u001b[0mtolerance\u001b[0m\u001b[0;34m=\u001b[0m\u001b[0mtolerance\u001b[0m\u001b[0;34m)\u001b[0m\u001b[0;34m\u001b[0m\u001b[0m\n",
      "\u001b[0;32mpandas/_libs/index.pyx\u001b[0m in \u001b[0;36mpandas._libs.index.IndexEngine.get_loc\u001b[0;34m()\u001b[0m\n",
      "\u001b[0;32mpandas/_libs/index.pyx\u001b[0m in \u001b[0;36mpandas._libs.index.IndexEngine.get_loc\u001b[0;34m()\u001b[0m\n",
      "\u001b[0;32mpandas/_libs/hashtable_class_helper.pxi\u001b[0m in \u001b[0;36mpandas._libs.hashtable.PyObjectHashTable.get_item\u001b[0;34m()\u001b[0m\n",
      "\u001b[0;32mpandas/_libs/hashtable_class_helper.pxi\u001b[0m in \u001b[0;36mpandas._libs.hashtable.PyObjectHashTable.get_item\u001b[0;34m()\u001b[0m\n",
      "\u001b[0;31mKeyError\u001b[0m: 'Lower_Bound'"
     ]
    },
    {
     "data": {
      "image/png": "[encoded data removed]",
      "text/plain": [
       "<matplotlib.figure.Figure at 0x7fe2c04a1e80>"
      ]
     },
     "metadata": {},
     "output_type": "display_data"
    }
   ],
   "source": [
    "for name in names:\n",
    "    temp_df = df[df['State'] == name]\n",
    "    if name == 'TMSS':\n",
    "        plt.plot(temp_df['lambda'], temp_df['Chernoff_Bound'], label=name)\n",
    "    else:\n",
    "        plt.plot(temp_df['lambda'], temp_df['Chernoff_Bound'], \n",
    "                 dashes=dashes[name], label=name)\n",
    "\n",
    "for name in names:\n",
    "    temp_df = df[df['State'] == name]\n",
    "    if name == 'TMSS':\n",
    "        plt.plot(temp_df['lambda'], temp_df['Lower_Bound'], label=name+'_low')\n",
    "    else:\n",
    "        plt.plot(temp_df['lambda'], temp_df['Lower_Bound'], \n",
    "                 dashes=dashes[name], label=name)\n",
    "        \n",
    "plt.xlim(-0.008, 0.5)\n",
    "plt.ylim(0.45, 0.5015)\n",
    "plt.legend(loc=0, fontsize=13, ncol=2)\n",
    "plt.xlabel(\"$\\lambda$\")\n",
    "plt.ylabel(\"Helstrom Limit (M = 1)\")\n",
    "# plt.savefig('../output/figures/g_qlb_vs_lmd_opt_qcb.pdf', bbox_inches='tight')"
   ]
  },
  {
   "cell_type": "code",
   "execution_count": 30,
   "metadata": {},
   "outputs": [
    {
     "data": {
      "text/html": [
       "<div>\n",
       "<style scoped>\n",
       "    .dataframe tbody tr th:only-of-type {\n",
       "        vertical-align: middle;\n",
       "    }\n",
       "\n",
       "    .dataframe tbody tr th {\n",
       "        vertical-align: top;\n",
       "    }\n",
       "\n",
       "    .dataframe thead th {\n",
       "        text-align: right;\n",
       "    }\n",
       "</style>\n",
       "<table border=\"1\" class=\"dataframe\">\n",
       "  <thead>\n",
       "    <tr style=\"text-align: right;\">\n",
       "      <th></th>\n",
       "      <th>nmax</th>\n",
       "      <th>Nth</th>\n",
       "      <th>R</th>\n",
       "      <th>State</th>\n",
       "      <th>sqz</th>\n",
       "      <th>lambda</th>\n",
       "      <th>Aver_N</th>\n",
       "      <th>VN_Entropy</th>\n",
       "      <th>Helstrom_Bound</th>\n",
       "      <th>Chernoff_Bound</th>\n",
       "      <th>optimal_s</th>\n",
       "      <th>A_aver_N</th>\n",
       "      <th>B_aver_N</th>\n",
       "      <th>ra</th>\n",
       "      <th>rb</th>\n",
       "      <th>Trace</th>\n",
       "    </tr>\n",
       "  </thead>\n",
       "  <tbody>\n",
       "    <tr>\n",
       "      <th>0</th>\n",
       "      <td>32</td>\n",
       "      <td>0.1</td>\n",
       "      <td>0.01</td>\n",
       "      <td>TMSS</td>\n",
       "      <td>0.099834</td>\n",
       "      <td>0.099504</td>\n",
       "      <td>0.020000</td>\n",
       "      <td>0.056102</td>\n",
       "      <td>0.495279</td>\n",
       "      <td>0.499957</td>\n",
       "      <td>0.500000</td>\n",
       "      <td>0.010000</td>\n",
       "      <td>0.010000</td>\n",
       "      <td>NaN</td>\n",
       "      <td>NaN</td>\n",
       "      <td>0.999914</td>\n",
       "    </tr>\n",
       "    <tr>\n",
       "      <th>1</th>\n",
       "      <td>32</td>\n",
       "      <td>0.1</td>\n",
       "      <td>0.01</td>\n",
       "      <td>PS</td>\n",
       "      <td>0.099834</td>\n",
       "      <td>0.099504</td>\n",
       "      <td>0.079608</td>\n",
       "      <td>0.168732</td>\n",
       "      <td>0.490605</td>\n",
       "      <td>0.499839</td>\n",
       "      <td>0.500000</td>\n",
       "      <td>0.039804</td>\n",
       "      <td>0.039804</td>\n",
       "      <td>NaN</td>\n",
       "      <td>NaN</td>\n",
       "      <td>0.999677</td>\n",
       "    </tr>\n",
       "    <tr>\n",
       "      <th>2</th>\n",
       "      <td>32</td>\n",
       "      <td>0.1</td>\n",
       "      <td>0.01</td>\n",
       "      <td>PA</td>\n",
       "      <td>0.099834</td>\n",
       "      <td>0.099504</td>\n",
       "      <td>2.079608</td>\n",
       "      <td>0.168732</td>\n",
       "      <td>0.485689</td>\n",
       "      <td>0.499632</td>\n",
       "      <td>0.500000</td>\n",
       "      <td>1.039804</td>\n",
       "      <td>1.039804</td>\n",
       "      <td>NaN</td>\n",
       "      <td>NaN</td>\n",
       "      <td>0.999263</td>\n",
       "    </tr>\n",
       "    <tr>\n",
       "      <th>3</th>\n",
       "      <td>32</td>\n",
       "      <td>0.1</td>\n",
       "      <td>0.01</td>\n",
       "      <td>PSA</td>\n",
       "      <td>0.099834</td>\n",
       "      <td>0.099504</td>\n",
       "      <td>0.300129</td>\n",
       "      <td>0.439049</td>\n",
       "      <td>0.481975</td>\n",
       "      <td>0.499450</td>\n",
       "      <td>0.500000</td>\n",
       "      <td>0.150064</td>\n",
       "      <td>0.150064</td>\n",
       "      <td>NaN</td>\n",
       "      <td>NaN</td>\n",
       "      <td>0.998901</td>\n",
       "    </tr>\n",
       "    <tr>\n",
       "      <th>4</th>\n",
       "      <td>32</td>\n",
       "      <td>0.1</td>\n",
       "      <td>0.01</td>\n",
       "      <td>PAS</td>\n",
       "      <td>0.099834</td>\n",
       "      <td>0.099504</td>\n",
       "      <td>2.300129</td>\n",
       "      <td>0.439049</td>\n",
       "      <td>0.474332</td>\n",
       "      <td>0.498892</td>\n",
       "      <td>0.499989</td>\n",
       "      <td>1.150064</td>\n",
       "      <td>1.150064</td>\n",
       "      <td>NaN</td>\n",
       "      <td>NaN</td>\n",
       "      <td>0.997783</td>\n",
       "    </tr>\n",
       "    <tr>\n",
       "      <th>5</th>\n",
       "      <td>32</td>\n",
       "      <td>0.1</td>\n",
       "      <td>0.01</td>\n",
       "      <td>PCS</td>\n",
       "      <td>0.099834</td>\n",
       "      <td>0.099504</td>\n",
       "      <td>2.006894</td>\n",
       "      <td>0.687711</td>\n",
       "      <td>0.459463</td>\n",
       "      <td>0.497008</td>\n",
       "      <td>0.498883</td>\n",
       "      <td>0.462058</td>\n",
       "      <td>1.544835</td>\n",
       "      <td>0.11697</td>\n",
       "      <td>0.948384</td>\n",
       "      <td>0.994016</td>\n",
       "    </tr>\n",
       "  </tbody>\n",
       "</table>\n",
       "</div>"
      ],
      "text/plain": [
       "   nmax  Nth     R State       sqz    lambda    Aver_N  VN_Entropy  \\\n",
       "0    32  0.1  0.01  TMSS  0.099834  0.099504  0.020000    0.056102   \n",
       "1    32  0.1  0.01    PS  0.099834  0.099504  0.079608    0.168732   \n",
       "2    32  0.1  0.01    PA  0.099834  0.099504  2.079608    0.168732   \n",
       "3    32  0.1  0.01   PSA  0.099834  0.099504  0.300129    0.439049   \n",
       "4    32  0.1  0.01   PAS  0.099834  0.099504  2.300129    0.439049   \n",
       "5    32  0.1  0.01   PCS  0.099834  0.099504  2.006894    0.687711   \n",
       "\n",
       "   Helstrom_Bound  Chernoff_Bound  optimal_s  A_aver_N  B_aver_N       ra  \\\n",
       "0        0.495279        0.499957   0.500000  0.010000  0.010000      NaN   \n",
       "1        0.490605        0.499839   0.500000  0.039804  0.039804      NaN   \n",
       "2        0.485689        0.499632   0.500000  1.039804  1.039804      NaN   \n",
       "3        0.481975        0.499450   0.500000  0.150064  0.150064      NaN   \n",
       "4        0.474332        0.498892   0.499989  1.150064  1.150064      NaN   \n",
       "5        0.459463        0.497008   0.498883  0.462058  1.544835  0.11697   \n",
       "\n",
       "         rb     Trace  \n",
       "0       NaN  0.999914  \n",
       "1       NaN  0.999677  \n",
       "2       NaN  0.999263  \n",
       "3       NaN  0.998901  \n",
       "4       NaN  0.997783  \n",
       "5  0.948384  0.994016  "
      ]
     },
     "execution_count": 30,
     "metadata": {},
     "output_type": "execute_result"
    }
   ],
   "source": [
    "df"
   ]
  },
  {
   "cell_type": "code",
   "execution_count": 29,
   "metadata": {},
   "outputs": [
    {
     "data": {
      "text/plain": [
       "<matplotlib.text.Text at 0x7fe2c0aef630>"
      ]
     },
     "execution_count": 29,
     "metadata": {},
     "output_type": "execute_result"
    },
    {
     "data": {
      "image/png": "[encoded data removed]",
      "text/plain": [
       "<matplotlib.figure.Figure at 0x7fe2c05365c0>"
      ]
     },
     "metadata": {},
     "output_type": "display_data"
    }
   ],
   "source": [
    "for name in names:\n",
    "    temp_df = df[df['State'] == name]\n",
    "    if name == 'TMSS':\n",
    "        plt.plot(temp_df['lambda'], temp_df['Helstrom_Bound'], label=name)\n",
    "    else:\n",
    "        plt.plot(temp_df['lambda'], temp_df['Helstrom_Bound'], \n",
    "                 dashes=dashes[name], label=name)\n",
    "plt.xlim(-0.008, 0.5)\n",
    "plt.ylim(0.45, 0.5015)\n",
    "plt.legend(loc=0, fontsize=13, ncol=2)\n",
    "plt.xlabel(\"$\\lambda$\")\n",
    "plt.ylabel(\"Helstrom Limit (M = 1)\")\n",
    "# plt.savefig('../output/figures/g_qhb_vs_lmd_opt_qcb.pdf', bbox_inches='tight')"
   ]
  },
  {
   "cell_type": "markdown",
   "metadata": {},
   "source": [
    "## Error vs Average Photon Number"
   ]
  },
  {
   "cell_type": "code",
   "execution_count": 37,
   "metadata": {},
   "outputs": [
    {
     "data": {
      "text/plain": [
       "<matplotlib.text.Text at 0x7fa29c32d048>"
      ]
     },
     "execution_count": 37,
     "metadata": {},
     "output_type": "execute_result"
    },
    {
     "data": {
      "image/png": "[encoded data removed]",
      "text/plain": [
       "<matplotlib.figure.Figure at 0x7fa29c7acf28>"
      ]
     },
     "metadata": {},
     "output_type": "display_data"
    }
   ],
   "source": [
    "for name in names:\n",
    "    temp_df = df[df['State'] == name]\n",
    "    if name == 'TMSS':\n",
    "        plt.plot(temp_df['Aver_N'], temp_df['Chernoff_Bound'], label=name)\n",
    "    else:\n",
    "        plt.plot(temp_df['Aver_N'], temp_df['Chernoff_Bound'], \n",
    "                 dashes=dashes[name], label=name)\n",
    "plt.xlim(-0.1, 5)\n",
    "plt.ylim(0.497, 0.5001)\n",
    "plt.legend(loc=3, fontsize=13, ncol=2)\n",
    "plt.xlabel(\"$\\langle n \\\\rangle$\")\n",
    "plt.ylabel(\"Quantum Chernoff Bound\")\n",
    "# plt.savefig('../output/figures/g_qcb_vs_nbar_opt_qcb.pdf', bbox_inches='tight')"
   ]
  },
  {
   "cell_type": "code",
   "execution_count": 36,
   "metadata": {},
   "outputs": [
    {
     "data": {
      "text/plain": [
       "<matplotlib.text.Text at 0x7fa29c7c5470>"
      ]
     },
     "execution_count": 36,
     "metadata": {},
     "output_type": "execute_result"
    },
    {
     "data": {
      "image/png": "[encoded data removed]",
      "text/plain": [
       "<matplotlib.figure.Figure at 0x7fa29c139278>"
      ]
     },
     "metadata": {},
     "output_type": "display_data"
    }
   ],
   "source": [
    "for name in names:\n",
    "    temp_df = df[df['State'] == name]\n",
    "    if name == 'TMSS':\n",
    "        plt.plot(temp_df['B_aver_N'], temp_df['Chernoff_Bound'], label=name)\n",
    "    else:\n",
    "        plt.plot(temp_df['B_aver_N'], temp_df['Chernoff_Bound'], \n",
    "                 dashes=dashes[name], label=name)\n",
    "plt.xlim(-0.05, 2.1)\n",
    "plt.ylim(0.4974, 0.5001)\n",
    "plt.legend(loc=3, fontsize=13, ncol=2)\n",
    "plt.xlabel(\"$\\langle n_B \\\\rangle$\")\n",
    "plt.ylabel(\"Quantum Chernoff Bound\")\n",
    "# plt.savefig('../output/figures/g_qcb_vs_nbarB_opt_qcb.pdf', bbox_inches='tight')"
   ]
  }
 ],
 "metadata": {
  "kernelspec": {
   "display_name": "Python 3",
   "language": "python",
   "name": "python3"
  },
  "language_info": {
   "codemirror_mode": {
    "name": "ipython",
    "version": 3
   },
   "file_extension": ".py",
   "mimetype": "text/x-python",
   "name": "python",
   "nbconvert_exporter": "python",
   "pygments_lexer": "ipython3",
   "version": "3.6.1"
  }
 },
 "nbformat": 4,
 "nbformat_minor": 2
}
